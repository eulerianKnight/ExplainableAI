{
  "nbformat": 4,
  "nbformat_minor": 0,
  "metadata": {
    "colab": {
      "provenance": [],
      "authorship_tag": "ABX9TyMiCLJk/bp+IAbYp7xit4z2",
      "include_colab_link": true
    },
    "kernelspec": {
      "name": "python3",
      "display_name": "Python 3"
    },
    "language_info": {
      "name": "python"
    },
    "accelerator": "GPU",
    "gpuClass": "standard",
    "widgets": {
      "application/vnd.jupyter.widget-state+json": {
        "30ae298cb8a04ee3a0067119b68e2276": {
          "model_module": "@jupyter-widgets/controls",
          "model_name": "HBoxModel",
          "model_module_version": "1.5.0",
          "state": {
            "_dom_classes": [],
            "_model_module": "@jupyter-widgets/controls",
            "_model_module_version": "1.5.0",
            "_model_name": "HBoxModel",
            "_view_count": null,
            "_view_module": "@jupyter-widgets/controls",
            "_view_module_version": "1.5.0",
            "_view_name": "HBoxView",
            "box_style": "",
            "children": [
              "IPY_MODEL_e22b216ec49d4162bc44b0446de83518",
              "IPY_MODEL_9eb3456c0dcf4baa866f8190e6dec63c",
              "IPY_MODEL_ce5e8640d686447093a5db22cec291e3"
            ],
            "layout": "IPY_MODEL_28baaf16f8cc450cb75f06de738945a6"
          }
        },
        "e22b216ec49d4162bc44b0446de83518": {
          "model_module": "@jupyter-widgets/controls",
          "model_name": "HTMLModel",
          "model_module_version": "1.5.0",
          "state": {
            "_dom_classes": [],
            "_model_module": "@jupyter-widgets/controls",
            "_model_module_version": "1.5.0",
            "_model_name": "HTMLModel",
            "_view_count": null,
            "_view_module": "@jupyter-widgets/controls",
            "_view_module_version": "1.5.0",
            "_view_name": "HTMLView",
            "description": "",
            "description_tooltip": null,
            "layout": "IPY_MODEL_b6ae0b1711d94cecb34c1655f98554cf",
            "placeholder": "​",
            "style": "IPY_MODEL_8cc204a2897941a982888de8d889cb39",
            "value": "Dl Completed...: 100%"
          }
        },
        "9eb3456c0dcf4baa866f8190e6dec63c": {
          "model_module": "@jupyter-widgets/controls",
          "model_name": "FloatProgressModel",
          "model_module_version": "1.5.0",
          "state": {
            "_dom_classes": [],
            "_model_module": "@jupyter-widgets/controls",
            "_model_module_version": "1.5.0",
            "_model_name": "FloatProgressModel",
            "_view_count": null,
            "_view_module": "@jupyter-widgets/controls",
            "_view_module_version": "1.5.0",
            "_view_name": "ProgressView",
            "bar_style": "success",
            "description": "",
            "description_tooltip": null,
            "layout": "IPY_MODEL_7b9f8d0b1b184afd8ef6b538afde5147",
            "max": 1,
            "min": 0,
            "orientation": "horizontal",
            "style": "IPY_MODEL_a6ebd8cdfd1c4b72ab178bdb2916fd52",
            "value": 1
          }
        },
        "ce5e8640d686447093a5db22cec291e3": {
          "model_module": "@jupyter-widgets/controls",
          "model_name": "HTMLModel",
          "model_module_version": "1.5.0",
          "state": {
            "_dom_classes": [],
            "_model_module": "@jupyter-widgets/controls",
            "_model_module_version": "1.5.0",
            "_model_name": "HTMLModel",
            "_view_count": null,
            "_view_module": "@jupyter-widgets/controls",
            "_view_module_version": "1.5.0",
            "_view_name": "HTMLView",
            "description": "",
            "description_tooltip": null,
            "layout": "IPY_MODEL_8d91bacc423c42e7bb3a5e967e8d63c0",
            "placeholder": "​",
            "style": "IPY_MODEL_be5ef9a25e3249fa9fc664394420cd93",
            "value": " 1/1 [00:21&lt;00:00, 13.27s/ url]"
          }
        },
        "28baaf16f8cc450cb75f06de738945a6": {
          "model_module": "@jupyter-widgets/base",
          "model_name": "LayoutModel",
          "model_module_version": "1.2.0",
          "state": {
            "_model_module": "@jupyter-widgets/base",
            "_model_module_version": "1.2.0",
            "_model_name": "LayoutModel",
            "_view_count": null,
            "_view_module": "@jupyter-widgets/base",
            "_view_module_version": "1.2.0",
            "_view_name": "LayoutView",
            "align_content": null,
            "align_items": null,
            "align_self": null,
            "border": null,
            "bottom": null,
            "display": null,
            "flex": null,
            "flex_flow": null,
            "grid_area": null,
            "grid_auto_columns": null,
            "grid_auto_flow": null,
            "grid_auto_rows": null,
            "grid_column": null,
            "grid_gap": null,
            "grid_row": null,
            "grid_template_areas": null,
            "grid_template_columns": null,
            "grid_template_rows": null,
            "height": null,
            "justify_content": null,
            "justify_items": null,
            "left": null,
            "margin": null,
            "max_height": null,
            "max_width": null,
            "min_height": null,
            "min_width": null,
            "object_fit": null,
            "object_position": null,
            "order": null,
            "overflow": null,
            "overflow_x": null,
            "overflow_y": null,
            "padding": null,
            "right": null,
            "top": null,
            "visibility": null,
            "width": null
          }
        },
        "b6ae0b1711d94cecb34c1655f98554cf": {
          "model_module": "@jupyter-widgets/base",
          "model_name": "LayoutModel",
          "model_module_version": "1.2.0",
          "state": {
            "_model_module": "@jupyter-widgets/base",
            "_model_module_version": "1.2.0",
            "_model_name": "LayoutModel",
            "_view_count": null,
            "_view_module": "@jupyter-widgets/base",
            "_view_module_version": "1.2.0",
            "_view_name": "LayoutView",
            "align_content": null,
            "align_items": null,
            "align_self": null,
            "border": null,
            "bottom": null,
            "display": null,
            "flex": null,
            "flex_flow": null,
            "grid_area": null,
            "grid_auto_columns": null,
            "grid_auto_flow": null,
            "grid_auto_rows": null,
            "grid_column": null,
            "grid_gap": null,
            "grid_row": null,
            "grid_template_areas": null,
            "grid_template_columns": null,
            "grid_template_rows": null,
            "height": null,
            "justify_content": null,
            "justify_items": null,
            "left": null,
            "margin": null,
            "max_height": null,
            "max_width": null,
            "min_height": null,
            "min_width": null,
            "object_fit": null,
            "object_position": null,
            "order": null,
            "overflow": null,
            "overflow_x": null,
            "overflow_y": null,
            "padding": null,
            "right": null,
            "top": null,
            "visibility": null,
            "width": null
          }
        },
        "8cc204a2897941a982888de8d889cb39": {
          "model_module": "@jupyter-widgets/controls",
          "model_name": "DescriptionStyleModel",
          "model_module_version": "1.5.0",
          "state": {
            "_model_module": "@jupyter-widgets/controls",
            "_model_module_version": "1.5.0",
            "_model_name": "DescriptionStyleModel",
            "_view_count": null,
            "_view_module": "@jupyter-widgets/base",
            "_view_module_version": "1.2.0",
            "_view_name": "StyleView",
            "description_width": ""
          }
        },
        "7b9f8d0b1b184afd8ef6b538afde5147": {
          "model_module": "@jupyter-widgets/base",
          "model_name": "LayoutModel",
          "model_module_version": "1.2.0",
          "state": {
            "_model_module": "@jupyter-widgets/base",
            "_model_module_version": "1.2.0",
            "_model_name": "LayoutModel",
            "_view_count": null,
            "_view_module": "@jupyter-widgets/base",
            "_view_module_version": "1.2.0",
            "_view_name": "LayoutView",
            "align_content": null,
            "align_items": null,
            "align_self": null,
            "border": null,
            "bottom": null,
            "display": null,
            "flex": null,
            "flex_flow": null,
            "grid_area": null,
            "grid_auto_columns": null,
            "grid_auto_flow": null,
            "grid_auto_rows": null,
            "grid_column": null,
            "grid_gap": null,
            "grid_row": null,
            "grid_template_areas": null,
            "grid_template_columns": null,
            "grid_template_rows": null,
            "height": null,
            "justify_content": null,
            "justify_items": null,
            "left": null,
            "margin": null,
            "max_height": null,
            "max_width": null,
            "min_height": null,
            "min_width": null,
            "object_fit": null,
            "object_position": null,
            "order": null,
            "overflow": null,
            "overflow_x": null,
            "overflow_y": null,
            "padding": null,
            "right": null,
            "top": null,
            "visibility": null,
            "width": "20px"
          }
        },
        "a6ebd8cdfd1c4b72ab178bdb2916fd52": {
          "model_module": "@jupyter-widgets/controls",
          "model_name": "ProgressStyleModel",
          "model_module_version": "1.5.0",
          "state": {
            "_model_module": "@jupyter-widgets/controls",
            "_model_module_version": "1.5.0",
            "_model_name": "ProgressStyleModel",
            "_view_count": null,
            "_view_module": "@jupyter-widgets/base",
            "_view_module_version": "1.2.0",
            "_view_name": "StyleView",
            "bar_color": null,
            "description_width": ""
          }
        },
        "8d91bacc423c42e7bb3a5e967e8d63c0": {
          "model_module": "@jupyter-widgets/base",
          "model_name": "LayoutModel",
          "model_module_version": "1.2.0",
          "state": {
            "_model_module": "@jupyter-widgets/base",
            "_model_module_version": "1.2.0",
            "_model_name": "LayoutModel",
            "_view_count": null,
            "_view_module": "@jupyter-widgets/base",
            "_view_module_version": "1.2.0",
            "_view_name": "LayoutView",
            "align_content": null,
            "align_items": null,
            "align_self": null,
            "border": null,
            "bottom": null,
            "display": null,
            "flex": null,
            "flex_flow": null,
            "grid_area": null,
            "grid_auto_columns": null,
            "grid_auto_flow": null,
            "grid_auto_rows": null,
            "grid_column": null,
            "grid_gap": null,
            "grid_row": null,
            "grid_template_areas": null,
            "grid_template_columns": null,
            "grid_template_rows": null,
            "height": null,
            "justify_content": null,
            "justify_items": null,
            "left": null,
            "margin": null,
            "max_height": null,
            "max_width": null,
            "min_height": null,
            "min_width": null,
            "object_fit": null,
            "object_position": null,
            "order": null,
            "overflow": null,
            "overflow_x": null,
            "overflow_y": null,
            "padding": null,
            "right": null,
            "top": null,
            "visibility": null,
            "width": null
          }
        },
        "be5ef9a25e3249fa9fc664394420cd93": {
          "model_module": "@jupyter-widgets/controls",
          "model_name": "DescriptionStyleModel",
          "model_module_version": "1.5.0",
          "state": {
            "_model_module": "@jupyter-widgets/controls",
            "_model_module_version": "1.5.0",
            "_model_name": "DescriptionStyleModel",
            "_view_count": null,
            "_view_module": "@jupyter-widgets/base",
            "_view_module_version": "1.2.0",
            "_view_name": "StyleView",
            "description_width": ""
          }
        },
        "2040f5e55d7f49019470ca41dc652554": {
          "model_module": "@jupyter-widgets/controls",
          "model_name": "HBoxModel",
          "model_module_version": "1.5.0",
          "state": {
            "_dom_classes": [],
            "_model_module": "@jupyter-widgets/controls",
            "_model_module_version": "1.5.0",
            "_model_name": "HBoxModel",
            "_view_count": null,
            "_view_module": "@jupyter-widgets/controls",
            "_view_module_version": "1.5.0",
            "_view_name": "HBoxView",
            "box_style": "",
            "children": [
              "IPY_MODEL_34f72c22ba1a47bdabb96d82264fe20a",
              "IPY_MODEL_5fffd57da2594786bc24b22f1510b80b",
              "IPY_MODEL_03d72ac2615b441d82eefdc12206b9f2"
            ],
            "layout": "IPY_MODEL_7252097341e2448096c5fadb40478bf0"
          }
        },
        "34f72c22ba1a47bdabb96d82264fe20a": {
          "model_module": "@jupyter-widgets/controls",
          "model_name": "HTMLModel",
          "model_module_version": "1.5.0",
          "state": {
            "_dom_classes": [],
            "_model_module": "@jupyter-widgets/controls",
            "_model_module_version": "1.5.0",
            "_model_name": "HTMLModel",
            "_view_count": null,
            "_view_module": "@jupyter-widgets/controls",
            "_view_module_version": "1.5.0",
            "_view_name": "HTMLView",
            "description": "",
            "description_tooltip": null,
            "layout": "IPY_MODEL_3e734590ff0b4033bfa8b423d15630e8",
            "placeholder": "​",
            "style": "IPY_MODEL_1cfe83fff850409c9f2378d6bdfe9ff5",
            "value": "Dl Size...: 100%"
          }
        },
        "5fffd57da2594786bc24b22f1510b80b": {
          "model_module": "@jupyter-widgets/controls",
          "model_name": "FloatProgressModel",
          "model_module_version": "1.5.0",
          "state": {
            "_dom_classes": [],
            "_model_module": "@jupyter-widgets/controls",
            "_model_module_version": "1.5.0",
            "_model_name": "FloatProgressModel",
            "_view_count": null,
            "_view_module": "@jupyter-widgets/controls",
            "_view_module_version": "1.5.0",
            "_view_name": "ProgressView",
            "bar_style": "success",
            "description": "",
            "description_tooltip": null,
            "layout": "IPY_MODEL_e0c1f09992cb4040b69c8bfa54c71a32",
            "max": 1,
            "min": 0,
            "orientation": "horizontal",
            "style": "IPY_MODEL_9a91c90887254f59a075485e4a5add0c",
            "value": 1
          }
        },
        "03d72ac2615b441d82eefdc12206b9f2": {
          "model_module": "@jupyter-widgets/controls",
          "model_name": "HTMLModel",
          "model_module_version": "1.5.0",
          "state": {
            "_dom_classes": [],
            "_model_module": "@jupyter-widgets/controls",
            "_model_module_version": "1.5.0",
            "_model_name": "HTMLModel",
            "_view_count": null,
            "_view_module": "@jupyter-widgets/controls",
            "_view_module_version": "1.5.0",
            "_view_name": "HTMLView",
            "description": "",
            "description_tooltip": null,
            "layout": "IPY_MODEL_c0a9799a817c4298b4f067ba7d5be8c8",
            "placeholder": "​",
            "style": "IPY_MODEL_da14e5758f8e475d9a84e31158b73801",
            "value": " 124/124 [00:21&lt;00:00, 11.89 MiB/s]"
          }
        },
        "7252097341e2448096c5fadb40478bf0": {
          "model_module": "@jupyter-widgets/base",
          "model_name": "LayoutModel",
          "model_module_version": "1.2.0",
          "state": {
            "_model_module": "@jupyter-widgets/base",
            "_model_module_version": "1.2.0",
            "_model_name": "LayoutModel",
            "_view_count": null,
            "_view_module": "@jupyter-widgets/base",
            "_view_module_version": "1.2.0",
            "_view_name": "LayoutView",
            "align_content": null,
            "align_items": null,
            "align_self": null,
            "border": null,
            "bottom": null,
            "display": null,
            "flex": null,
            "flex_flow": null,
            "grid_area": null,
            "grid_auto_columns": null,
            "grid_auto_flow": null,
            "grid_auto_rows": null,
            "grid_column": null,
            "grid_gap": null,
            "grid_row": null,
            "grid_template_areas": null,
            "grid_template_columns": null,
            "grid_template_rows": null,
            "height": null,
            "justify_content": null,
            "justify_items": null,
            "left": null,
            "margin": null,
            "max_height": null,
            "max_width": null,
            "min_height": null,
            "min_width": null,
            "object_fit": null,
            "object_position": null,
            "order": null,
            "overflow": null,
            "overflow_x": null,
            "overflow_y": null,
            "padding": null,
            "right": null,
            "top": null,
            "visibility": null,
            "width": null
          }
        },
        "3e734590ff0b4033bfa8b423d15630e8": {
          "model_module": "@jupyter-widgets/base",
          "model_name": "LayoutModel",
          "model_module_version": "1.2.0",
          "state": {
            "_model_module": "@jupyter-widgets/base",
            "_model_module_version": "1.2.0",
            "_model_name": "LayoutModel",
            "_view_count": null,
            "_view_module": "@jupyter-widgets/base",
            "_view_module_version": "1.2.0",
            "_view_name": "LayoutView",
            "align_content": null,
            "align_items": null,
            "align_self": null,
            "border": null,
            "bottom": null,
            "display": null,
            "flex": null,
            "flex_flow": null,
            "grid_area": null,
            "grid_auto_columns": null,
            "grid_auto_flow": null,
            "grid_auto_rows": null,
            "grid_column": null,
            "grid_gap": null,
            "grid_row": null,
            "grid_template_areas": null,
            "grid_template_columns": null,
            "grid_template_rows": null,
            "height": null,
            "justify_content": null,
            "justify_items": null,
            "left": null,
            "margin": null,
            "max_height": null,
            "max_width": null,
            "min_height": null,
            "min_width": null,
            "object_fit": null,
            "object_position": null,
            "order": null,
            "overflow": null,
            "overflow_x": null,
            "overflow_y": null,
            "padding": null,
            "right": null,
            "top": null,
            "visibility": null,
            "width": null
          }
        },
        "1cfe83fff850409c9f2378d6bdfe9ff5": {
          "model_module": "@jupyter-widgets/controls",
          "model_name": "DescriptionStyleModel",
          "model_module_version": "1.5.0",
          "state": {
            "_model_module": "@jupyter-widgets/controls",
            "_model_module_version": "1.5.0",
            "_model_name": "DescriptionStyleModel",
            "_view_count": null,
            "_view_module": "@jupyter-widgets/base",
            "_view_module_version": "1.2.0",
            "_view_name": "StyleView",
            "description_width": ""
          }
        },
        "e0c1f09992cb4040b69c8bfa54c71a32": {
          "model_module": "@jupyter-widgets/base",
          "model_name": "LayoutModel",
          "model_module_version": "1.2.0",
          "state": {
            "_model_module": "@jupyter-widgets/base",
            "_model_module_version": "1.2.0",
            "_model_name": "LayoutModel",
            "_view_count": null,
            "_view_module": "@jupyter-widgets/base",
            "_view_module_version": "1.2.0",
            "_view_name": "LayoutView",
            "align_content": null,
            "align_items": null,
            "align_self": null,
            "border": null,
            "bottom": null,
            "display": null,
            "flex": null,
            "flex_flow": null,
            "grid_area": null,
            "grid_auto_columns": null,
            "grid_auto_flow": null,
            "grid_auto_rows": null,
            "grid_column": null,
            "grid_gap": null,
            "grid_row": null,
            "grid_template_areas": null,
            "grid_template_columns": null,
            "grid_template_rows": null,
            "height": null,
            "justify_content": null,
            "justify_items": null,
            "left": null,
            "margin": null,
            "max_height": null,
            "max_width": null,
            "min_height": null,
            "min_width": null,
            "object_fit": null,
            "object_position": null,
            "order": null,
            "overflow": null,
            "overflow_x": null,
            "overflow_y": null,
            "padding": null,
            "right": null,
            "top": null,
            "visibility": null,
            "width": "20px"
          }
        },
        "9a91c90887254f59a075485e4a5add0c": {
          "model_module": "@jupyter-widgets/controls",
          "model_name": "ProgressStyleModel",
          "model_module_version": "1.5.0",
          "state": {
            "_model_module": "@jupyter-widgets/controls",
            "_model_module_version": "1.5.0",
            "_model_name": "ProgressStyleModel",
            "_view_count": null,
            "_view_module": "@jupyter-widgets/base",
            "_view_module_version": "1.2.0",
            "_view_name": "StyleView",
            "bar_color": null,
            "description_width": ""
          }
        },
        "c0a9799a817c4298b4f067ba7d5be8c8": {
          "model_module": "@jupyter-widgets/base",
          "model_name": "LayoutModel",
          "model_module_version": "1.2.0",
          "state": {
            "_model_module": "@jupyter-widgets/base",
            "_model_module_version": "1.2.0",
            "_model_name": "LayoutModel",
            "_view_count": null,
            "_view_module": "@jupyter-widgets/base",
            "_view_module_version": "1.2.0",
            "_view_name": "LayoutView",
            "align_content": null,
            "align_items": null,
            "align_self": null,
            "border": null,
            "bottom": null,
            "display": null,
            "flex": null,
            "flex_flow": null,
            "grid_area": null,
            "grid_auto_columns": null,
            "grid_auto_flow": null,
            "grid_auto_rows": null,
            "grid_column": null,
            "grid_gap": null,
            "grid_row": null,
            "grid_template_areas": null,
            "grid_template_columns": null,
            "grid_template_rows": null,
            "height": null,
            "justify_content": null,
            "justify_items": null,
            "left": null,
            "margin": null,
            "max_height": null,
            "max_width": null,
            "min_height": null,
            "min_width": null,
            "object_fit": null,
            "object_position": null,
            "order": null,
            "overflow": null,
            "overflow_x": null,
            "overflow_y": null,
            "padding": null,
            "right": null,
            "top": null,
            "visibility": null,
            "width": null
          }
        },
        "da14e5758f8e475d9a84e31158b73801": {
          "model_module": "@jupyter-widgets/controls",
          "model_name": "DescriptionStyleModel",
          "model_module_version": "1.5.0",
          "state": {
            "_model_module": "@jupyter-widgets/controls",
            "_model_module_version": "1.5.0",
            "_model_name": "DescriptionStyleModel",
            "_view_count": null,
            "_view_module": "@jupyter-widgets/base",
            "_view_module_version": "1.2.0",
            "_view_name": "StyleView",
            "description_width": ""
          }
        },
        "e1b3654bf86e4fa384a09ffe24e0b277": {
          "model_module": "@jupyter-widgets/controls",
          "model_name": "HBoxModel",
          "model_module_version": "1.5.0",
          "state": {
            "_dom_classes": [],
            "_model_module": "@jupyter-widgets/controls",
            "_model_module_version": "1.5.0",
            "_model_name": "HBoxModel",
            "_view_count": null,
            "_view_module": "@jupyter-widgets/controls",
            "_view_module_version": "1.5.0",
            "_view_name": "HBoxView",
            "box_style": "",
            "children": [
              "IPY_MODEL_a1582af1c329490b9bbaaf6ee04d273b",
              "IPY_MODEL_426f79601dfd4ccd8df407b0056875ce",
              "IPY_MODEL_591694b39e48460d81b788b1327db129"
            ],
            "layout": "IPY_MODEL_4e08304eda4447b8a06f88a4be10ef45"
          }
        },
        "a1582af1c329490b9bbaaf6ee04d273b": {
          "model_module": "@jupyter-widgets/controls",
          "model_name": "HTMLModel",
          "model_module_version": "1.5.0",
          "state": {
            "_dom_classes": [],
            "_model_module": "@jupyter-widgets/controls",
            "_model_module_version": "1.5.0",
            "_model_name": "HTMLModel",
            "_view_count": null,
            "_view_module": "@jupyter-widgets/controls",
            "_view_module_version": "1.5.0",
            "_view_name": "HTMLView",
            "description": "",
            "description_tooltip": null,
            "layout": "IPY_MODEL_5e531b35b87c44e39a33a4cbae86d012",
            "placeholder": "​",
            "style": "IPY_MODEL_5abbaf88077443698498674c48e2b7dc",
            "value": "Extraction completed...: 100%"
          }
        },
        "426f79601dfd4ccd8df407b0056875ce": {
          "model_module": "@jupyter-widgets/controls",
          "model_name": "FloatProgressModel",
          "model_module_version": "1.5.0",
          "state": {
            "_dom_classes": [],
            "_model_module": "@jupyter-widgets/controls",
            "_model_module_version": "1.5.0",
            "_model_name": "FloatProgressModel",
            "_view_count": null,
            "_view_module": "@jupyter-widgets/controls",
            "_view_module_version": "1.5.0",
            "_view_name": "ProgressView",
            "bar_style": "success",
            "description": "",
            "description_tooltip": null,
            "layout": "IPY_MODEL_e0ab4da45deb441b80a9de9b65f84094",
            "max": 1,
            "min": 0,
            "orientation": "horizontal",
            "style": "IPY_MODEL_1d8eaf26e25a4ac883d570a731d0a7eb",
            "value": 1
          }
        },
        "591694b39e48460d81b788b1327db129": {
          "model_module": "@jupyter-widgets/controls",
          "model_name": "HTMLModel",
          "model_module_version": "1.5.0",
          "state": {
            "_dom_classes": [],
            "_model_module": "@jupyter-widgets/controls",
            "_model_module_version": "1.5.0",
            "_model_name": "HTMLModel",
            "_view_count": null,
            "_view_module": "@jupyter-widgets/controls",
            "_view_module_version": "1.5.0",
            "_view_name": "HTMLView",
            "description": "",
            "description_tooltip": null,
            "layout": "IPY_MODEL_7ecfe3cbe69b41b1a6e5e500af25efe5",
            "placeholder": "​",
            "style": "IPY_MODEL_19bbad64d9f94658bfd57a3fefb68315",
            "value": " 1/1 [00:21&lt;00:00, 21.45s/ file]"
          }
        },
        "4e08304eda4447b8a06f88a4be10ef45": {
          "model_module": "@jupyter-widgets/base",
          "model_name": "LayoutModel",
          "model_module_version": "1.2.0",
          "state": {
            "_model_module": "@jupyter-widgets/base",
            "_model_module_version": "1.2.0",
            "_model_name": "LayoutModel",
            "_view_count": null,
            "_view_module": "@jupyter-widgets/base",
            "_view_module_version": "1.2.0",
            "_view_name": "LayoutView",
            "align_content": null,
            "align_items": null,
            "align_self": null,
            "border": null,
            "bottom": null,
            "display": null,
            "flex": null,
            "flex_flow": null,
            "grid_area": null,
            "grid_auto_columns": null,
            "grid_auto_flow": null,
            "grid_auto_rows": null,
            "grid_column": null,
            "grid_gap": null,
            "grid_row": null,
            "grid_template_areas": null,
            "grid_template_columns": null,
            "grid_template_rows": null,
            "height": null,
            "justify_content": null,
            "justify_items": null,
            "left": null,
            "margin": null,
            "max_height": null,
            "max_width": null,
            "min_height": null,
            "min_width": null,
            "object_fit": null,
            "object_position": null,
            "order": null,
            "overflow": null,
            "overflow_x": null,
            "overflow_y": null,
            "padding": null,
            "right": null,
            "top": null,
            "visibility": null,
            "width": null
          }
        },
        "5e531b35b87c44e39a33a4cbae86d012": {
          "model_module": "@jupyter-widgets/base",
          "model_name": "LayoutModel",
          "model_module_version": "1.2.0",
          "state": {
            "_model_module": "@jupyter-widgets/base",
            "_model_module_version": "1.2.0",
            "_model_name": "LayoutModel",
            "_view_count": null,
            "_view_module": "@jupyter-widgets/base",
            "_view_module_version": "1.2.0",
            "_view_name": "LayoutView",
            "align_content": null,
            "align_items": null,
            "align_self": null,
            "border": null,
            "bottom": null,
            "display": null,
            "flex": null,
            "flex_flow": null,
            "grid_area": null,
            "grid_auto_columns": null,
            "grid_auto_flow": null,
            "grid_auto_rows": null,
            "grid_column": null,
            "grid_gap": null,
            "grid_row": null,
            "grid_template_areas": null,
            "grid_template_columns": null,
            "grid_template_rows": null,
            "height": null,
            "justify_content": null,
            "justify_items": null,
            "left": null,
            "margin": null,
            "max_height": null,
            "max_width": null,
            "min_height": null,
            "min_width": null,
            "object_fit": null,
            "object_position": null,
            "order": null,
            "overflow": null,
            "overflow_x": null,
            "overflow_y": null,
            "padding": null,
            "right": null,
            "top": null,
            "visibility": null,
            "width": null
          }
        },
        "5abbaf88077443698498674c48e2b7dc": {
          "model_module": "@jupyter-widgets/controls",
          "model_name": "DescriptionStyleModel",
          "model_module_version": "1.5.0",
          "state": {
            "_model_module": "@jupyter-widgets/controls",
            "_model_module_version": "1.5.0",
            "_model_name": "DescriptionStyleModel",
            "_view_count": null,
            "_view_module": "@jupyter-widgets/base",
            "_view_module_version": "1.2.0",
            "_view_name": "StyleView",
            "description_width": ""
          }
        },
        "e0ab4da45deb441b80a9de9b65f84094": {
          "model_module": "@jupyter-widgets/base",
          "model_name": "LayoutModel",
          "model_module_version": "1.2.0",
          "state": {
            "_model_module": "@jupyter-widgets/base",
            "_model_module_version": "1.2.0",
            "_model_name": "LayoutModel",
            "_view_count": null,
            "_view_module": "@jupyter-widgets/base",
            "_view_module_version": "1.2.0",
            "_view_name": "LayoutView",
            "align_content": null,
            "align_items": null,
            "align_self": null,
            "border": null,
            "bottom": null,
            "display": null,
            "flex": null,
            "flex_flow": null,
            "grid_area": null,
            "grid_auto_columns": null,
            "grid_auto_flow": null,
            "grid_auto_rows": null,
            "grid_column": null,
            "grid_gap": null,
            "grid_row": null,
            "grid_template_areas": null,
            "grid_template_columns": null,
            "grid_template_rows": null,
            "height": null,
            "justify_content": null,
            "justify_items": null,
            "left": null,
            "margin": null,
            "max_height": null,
            "max_width": null,
            "min_height": null,
            "min_width": null,
            "object_fit": null,
            "object_position": null,
            "order": null,
            "overflow": null,
            "overflow_x": null,
            "overflow_y": null,
            "padding": null,
            "right": null,
            "top": null,
            "visibility": null,
            "width": "20px"
          }
        },
        "1d8eaf26e25a4ac883d570a731d0a7eb": {
          "model_module": "@jupyter-widgets/controls",
          "model_name": "ProgressStyleModel",
          "model_module_version": "1.5.0",
          "state": {
            "_model_module": "@jupyter-widgets/controls",
            "_model_module_version": "1.5.0",
            "_model_name": "ProgressStyleModel",
            "_view_count": null,
            "_view_module": "@jupyter-widgets/base",
            "_view_module_version": "1.2.0",
            "_view_name": "StyleView",
            "bar_color": null,
            "description_width": ""
          }
        },
        "7ecfe3cbe69b41b1a6e5e500af25efe5": {
          "model_module": "@jupyter-widgets/base",
          "model_name": "LayoutModel",
          "model_module_version": "1.2.0",
          "state": {
            "_model_module": "@jupyter-widgets/base",
            "_model_module_version": "1.2.0",
            "_model_name": "LayoutModel",
            "_view_count": null,
            "_view_module": "@jupyter-widgets/base",
            "_view_module_version": "1.2.0",
            "_view_name": "LayoutView",
            "align_content": null,
            "align_items": null,
            "align_self": null,
            "border": null,
            "bottom": null,
            "display": null,
            "flex": null,
            "flex_flow": null,
            "grid_area": null,
            "grid_auto_columns": null,
            "grid_auto_flow": null,
            "grid_auto_rows": null,
            "grid_column": null,
            "grid_gap": null,
            "grid_row": null,
            "grid_template_areas": null,
            "grid_template_columns": null,
            "grid_template_rows": null,
            "height": null,
            "justify_content": null,
            "justify_items": null,
            "left": null,
            "margin": null,
            "max_height": null,
            "max_width": null,
            "min_height": null,
            "min_width": null,
            "object_fit": null,
            "object_position": null,
            "order": null,
            "overflow": null,
            "overflow_x": null,
            "overflow_y": null,
            "padding": null,
            "right": null,
            "top": null,
            "visibility": null,
            "width": null
          }
        },
        "19bbad64d9f94658bfd57a3fefb68315": {
          "model_module": "@jupyter-widgets/controls",
          "model_name": "DescriptionStyleModel",
          "model_module_version": "1.5.0",
          "state": {
            "_model_module": "@jupyter-widgets/controls",
            "_model_module_version": "1.5.0",
            "_model_name": "DescriptionStyleModel",
            "_view_count": null,
            "_view_module": "@jupyter-widgets/base",
            "_view_module_version": "1.2.0",
            "_view_name": "StyleView",
            "description_width": ""
          }
        },
        "e03793b297334016b1f4fa923cb28e1e": {
          "model_module": "@jupyter-widgets/controls",
          "model_name": "HBoxModel",
          "model_module_version": "1.5.0",
          "state": {
            "_dom_classes": [],
            "_model_module": "@jupyter-widgets/controls",
            "_model_module_version": "1.5.0",
            "_model_name": "HBoxModel",
            "_view_count": null,
            "_view_module": "@jupyter-widgets/controls",
            "_view_module_version": "1.5.0",
            "_view_name": "HBoxView",
            "box_style": "",
            "children": [
              "IPY_MODEL_01604b5ab77142f8b1e478b4c4d0e66d",
              "IPY_MODEL_4e46ecdb740b47089461c77728b59d14",
              "IPY_MODEL_ecc9139caa884f348cb58b0a2e6974aa"
            ],
            "layout": "IPY_MODEL_3cf5383731844d69b20571dce37fc5f3"
          }
        },
        "01604b5ab77142f8b1e478b4c4d0e66d": {
          "model_module": "@jupyter-widgets/controls",
          "model_name": "HTMLModel",
          "model_module_version": "1.5.0",
          "state": {
            "_dom_classes": [],
            "_model_module": "@jupyter-widgets/controls",
            "_model_module_version": "1.5.0",
            "_model_name": "HTMLModel",
            "_view_count": null,
            "_view_module": "@jupyter-widgets/controls",
            "_view_module_version": "1.5.0",
            "_view_name": "HTMLView",
            "description": "",
            "description_tooltip": null,
            "layout": "IPY_MODEL_c3c5092d6155463ab6dbbf157cf5a350",
            "placeholder": "​",
            "style": "IPY_MODEL_0e6066d4c98f481088dd916861a912d4",
            "value": "Generating splits...: 100%"
          }
        },
        "4e46ecdb740b47089461c77728b59d14": {
          "model_module": "@jupyter-widgets/controls",
          "model_name": "FloatProgressModel",
          "model_module_version": "1.5.0",
          "state": {
            "_dom_classes": [],
            "_model_module": "@jupyter-widgets/controls",
            "_model_module_version": "1.5.0",
            "_model_name": "FloatProgressModel",
            "_view_count": null,
            "_view_module": "@jupyter-widgets/controls",
            "_view_module_version": "1.5.0",
            "_view_name": "ProgressView",
            "bar_style": "",
            "description": "",
            "description_tooltip": null,
            "layout": "IPY_MODEL_b816647d03bc49aa94c842d630eee60b",
            "max": 3,
            "min": 0,
            "orientation": "horizontal",
            "style": "IPY_MODEL_c66fd9ca532741419547ac387fab4ebc",
            "value": 3
          }
        },
        "ecc9139caa884f348cb58b0a2e6974aa": {
          "model_module": "@jupyter-widgets/controls",
          "model_name": "HTMLModel",
          "model_module_version": "1.5.0",
          "state": {
            "_dom_classes": [],
            "_model_module": "@jupyter-widgets/controls",
            "_model_module_version": "1.5.0",
            "_model_name": "HTMLModel",
            "_view_count": null,
            "_view_module": "@jupyter-widgets/controls",
            "_view_module_version": "1.5.0",
            "_view_name": "HTMLView",
            "description": "",
            "description_tooltip": null,
            "layout": "IPY_MODEL_01f13e07af694139a6ee2e2c0f15154c",
            "placeholder": "​",
            "style": "IPY_MODEL_278daad606f3428c8754773c89ba7cb8",
            "value": " 3/3 [00:04&lt;00:00,  1.16s/ splits]"
          }
        },
        "3cf5383731844d69b20571dce37fc5f3": {
          "model_module": "@jupyter-widgets/base",
          "model_name": "LayoutModel",
          "model_module_version": "1.2.0",
          "state": {
            "_model_module": "@jupyter-widgets/base",
            "_model_module_version": "1.2.0",
            "_model_name": "LayoutModel",
            "_view_count": null,
            "_view_module": "@jupyter-widgets/base",
            "_view_module_version": "1.2.0",
            "_view_name": "LayoutView",
            "align_content": null,
            "align_items": null,
            "align_self": null,
            "border": null,
            "bottom": null,
            "display": null,
            "flex": null,
            "flex_flow": null,
            "grid_area": null,
            "grid_auto_columns": null,
            "grid_auto_flow": null,
            "grid_auto_rows": null,
            "grid_column": null,
            "grid_gap": null,
            "grid_row": null,
            "grid_template_areas": null,
            "grid_template_columns": null,
            "grid_template_rows": null,
            "height": null,
            "justify_content": null,
            "justify_items": null,
            "left": null,
            "margin": null,
            "max_height": null,
            "max_width": null,
            "min_height": null,
            "min_width": null,
            "object_fit": null,
            "object_position": null,
            "order": null,
            "overflow": null,
            "overflow_x": null,
            "overflow_y": null,
            "padding": null,
            "right": null,
            "top": null,
            "visibility": null,
            "width": null
          }
        },
        "c3c5092d6155463ab6dbbf157cf5a350": {
          "model_module": "@jupyter-widgets/base",
          "model_name": "LayoutModel",
          "model_module_version": "1.2.0",
          "state": {
            "_model_module": "@jupyter-widgets/base",
            "_model_module_version": "1.2.0",
            "_model_name": "LayoutModel",
            "_view_count": null,
            "_view_module": "@jupyter-widgets/base",
            "_view_module_version": "1.2.0",
            "_view_name": "LayoutView",
            "align_content": null,
            "align_items": null,
            "align_self": null,
            "border": null,
            "bottom": null,
            "display": null,
            "flex": null,
            "flex_flow": null,
            "grid_area": null,
            "grid_auto_columns": null,
            "grid_auto_flow": null,
            "grid_auto_rows": null,
            "grid_column": null,
            "grid_gap": null,
            "grid_row": null,
            "grid_template_areas": null,
            "grid_template_columns": null,
            "grid_template_rows": null,
            "height": null,
            "justify_content": null,
            "justify_items": null,
            "left": null,
            "margin": null,
            "max_height": null,
            "max_width": null,
            "min_height": null,
            "min_width": null,
            "object_fit": null,
            "object_position": null,
            "order": null,
            "overflow": null,
            "overflow_x": null,
            "overflow_y": null,
            "padding": null,
            "right": null,
            "top": null,
            "visibility": null,
            "width": null
          }
        },
        "0e6066d4c98f481088dd916861a912d4": {
          "model_module": "@jupyter-widgets/controls",
          "model_name": "DescriptionStyleModel",
          "model_module_version": "1.5.0",
          "state": {
            "_model_module": "@jupyter-widgets/controls",
            "_model_module_version": "1.5.0",
            "_model_name": "DescriptionStyleModel",
            "_view_count": null,
            "_view_module": "@jupyter-widgets/base",
            "_view_module_version": "1.2.0",
            "_view_name": "StyleView",
            "description_width": ""
          }
        },
        "b816647d03bc49aa94c842d630eee60b": {
          "model_module": "@jupyter-widgets/base",
          "model_name": "LayoutModel",
          "model_module_version": "1.2.0",
          "state": {
            "_model_module": "@jupyter-widgets/base",
            "_model_module_version": "1.2.0",
            "_model_name": "LayoutModel",
            "_view_count": null,
            "_view_module": "@jupyter-widgets/base",
            "_view_module_version": "1.2.0",
            "_view_name": "LayoutView",
            "align_content": null,
            "align_items": null,
            "align_self": null,
            "border": null,
            "bottom": null,
            "display": null,
            "flex": null,
            "flex_flow": null,
            "grid_area": null,
            "grid_auto_columns": null,
            "grid_auto_flow": null,
            "grid_auto_rows": null,
            "grid_column": null,
            "grid_gap": null,
            "grid_row": null,
            "grid_template_areas": null,
            "grid_template_columns": null,
            "grid_template_rows": null,
            "height": null,
            "justify_content": null,
            "justify_items": null,
            "left": null,
            "margin": null,
            "max_height": null,
            "max_width": null,
            "min_height": null,
            "min_width": null,
            "object_fit": null,
            "object_position": null,
            "order": null,
            "overflow": null,
            "overflow_x": null,
            "overflow_y": null,
            "padding": null,
            "right": null,
            "top": null,
            "visibility": null,
            "width": null
          }
        },
        "c66fd9ca532741419547ac387fab4ebc": {
          "model_module": "@jupyter-widgets/controls",
          "model_name": "ProgressStyleModel",
          "model_module_version": "1.5.0",
          "state": {
            "_model_module": "@jupyter-widgets/controls",
            "_model_module_version": "1.5.0",
            "_model_name": "ProgressStyleModel",
            "_view_count": null,
            "_view_module": "@jupyter-widgets/base",
            "_view_module_version": "1.2.0",
            "_view_name": "StyleView",
            "bar_color": null,
            "description_width": ""
          }
        },
        "01f13e07af694139a6ee2e2c0f15154c": {
          "model_module": "@jupyter-widgets/base",
          "model_name": "LayoutModel",
          "model_module_version": "1.2.0",
          "state": {
            "_model_module": "@jupyter-widgets/base",
            "_model_module_version": "1.2.0",
            "_model_name": "LayoutModel",
            "_view_count": null,
            "_view_module": "@jupyter-widgets/base",
            "_view_module_version": "1.2.0",
            "_view_name": "LayoutView",
            "align_content": null,
            "align_items": null,
            "align_self": null,
            "border": null,
            "bottom": null,
            "display": null,
            "flex": null,
            "flex_flow": null,
            "grid_area": null,
            "grid_auto_columns": null,
            "grid_auto_flow": null,
            "grid_auto_rows": null,
            "grid_column": null,
            "grid_gap": null,
            "grid_row": null,
            "grid_template_areas": null,
            "grid_template_columns": null,
            "grid_template_rows": null,
            "height": null,
            "justify_content": null,
            "justify_items": null,
            "left": null,
            "margin": null,
            "max_height": null,
            "max_width": null,
            "min_height": null,
            "min_width": null,
            "object_fit": null,
            "object_position": null,
            "order": null,
            "overflow": null,
            "overflow_x": null,
            "overflow_y": null,
            "padding": null,
            "right": null,
            "top": null,
            "visibility": null,
            "width": null
          }
        },
        "278daad606f3428c8754773c89ba7cb8": {
          "model_module": "@jupyter-widgets/controls",
          "model_name": "DescriptionStyleModel",
          "model_module_version": "1.5.0",
          "state": {
            "_model_module": "@jupyter-widgets/controls",
            "_model_module_version": "1.5.0",
            "_model_name": "DescriptionStyleModel",
            "_view_count": null,
            "_view_module": "@jupyter-widgets/base",
            "_view_module_version": "1.2.0",
            "_view_name": "StyleView",
            "description_width": ""
          }
        },
        "cf51c20f8d434daeb185143b077e08a4": {
          "model_module": "@jupyter-widgets/controls",
          "model_name": "HBoxModel",
          "model_module_version": "1.5.0",
          "state": {
            "_dom_classes": [],
            "_model_module": "@jupyter-widgets/controls",
            "_model_module_version": "1.5.0",
            "_model_name": "HBoxModel",
            "_view_count": null,
            "_view_module": "@jupyter-widgets/controls",
            "_view_module_version": "1.5.0",
            "_view_name": "HBoxView",
            "box_style": "",
            "children": [
              "IPY_MODEL_480c941d53f344f4a10941e002a955ef",
              "IPY_MODEL_a9857e91a6f346a7bcb86ffbb4b1caf8",
              "IPY_MODEL_37457dba859b4f538808b033beeccadd"
            ],
            "layout": "IPY_MODEL_4b1b8c708e2b47788654cd366a5721d0"
          }
        },
        "480c941d53f344f4a10941e002a955ef": {
          "model_module": "@jupyter-widgets/controls",
          "model_name": "HTMLModel",
          "model_module_version": "1.5.0",
          "state": {
            "_dom_classes": [],
            "_model_module": "@jupyter-widgets/controls",
            "_model_module_version": "1.5.0",
            "_model_name": "HTMLModel",
            "_view_count": null,
            "_view_module": "@jupyter-widgets/controls",
            "_view_module_version": "1.5.0",
            "_view_name": "HTMLView",
            "description": "",
            "description_tooltip": null,
            "layout": "IPY_MODEL_20db550b1a3b4592be49af6bec9598ec",
            "placeholder": "​",
            "style": "IPY_MODEL_2908646fe56d4f139cedb56961e69bd4",
            "value": "Generating train examples...:  98%"
          }
        },
        "a9857e91a6f346a7bcb86ffbb4b1caf8": {
          "model_module": "@jupyter-widgets/controls",
          "model_name": "FloatProgressModel",
          "model_module_version": "1.5.0",
          "state": {
            "_dom_classes": [],
            "_model_module": "@jupyter-widgets/controls",
            "_model_module_version": "1.5.0",
            "_model_name": "FloatProgressModel",
            "_view_count": null,
            "_view_module": "@jupyter-widgets/controls",
            "_view_module_version": "1.5.0",
            "_view_name": "ProgressView",
            "bar_style": "",
            "description": "",
            "description_tooltip": null,
            "layout": "IPY_MODEL_616c2c26296e4f5e9a09aa987a47b29c",
            "max": 51785,
            "min": 0,
            "orientation": "horizontal",
            "style": "IPY_MODEL_1c29fdfd681b49a184979359265d43a5",
            "value": 51785
          }
        },
        "37457dba859b4f538808b033beeccadd": {
          "model_module": "@jupyter-widgets/controls",
          "model_name": "HTMLModel",
          "model_module_version": "1.5.0",
          "state": {
            "_dom_classes": [],
            "_model_module": "@jupyter-widgets/controls",
            "_model_module_version": "1.5.0",
            "_model_name": "HTMLModel",
            "_view_count": null,
            "_view_module": "@jupyter-widgets/controls",
            "_view_module_version": "1.5.0",
            "_view_name": "HTMLView",
            "description": "",
            "description_tooltip": null,
            "layout": "IPY_MODEL_0a1f615c1f8a4b4383c35a14a0301c80",
            "placeholder": "​",
            "style": "IPY_MODEL_f81ed24d04ac4dfb82f46cbddafd96ce",
            "value": " 50834/51785 [00:03&lt;00:00, 12740.67 examples/s]"
          }
        },
        "4b1b8c708e2b47788654cd366a5721d0": {
          "model_module": "@jupyter-widgets/base",
          "model_name": "LayoutModel",
          "model_module_version": "1.2.0",
          "state": {
            "_model_module": "@jupyter-widgets/base",
            "_model_module_version": "1.2.0",
            "_model_name": "LayoutModel",
            "_view_count": null,
            "_view_module": "@jupyter-widgets/base",
            "_view_module_version": "1.2.0",
            "_view_name": "LayoutView",
            "align_content": null,
            "align_items": null,
            "align_self": null,
            "border": null,
            "bottom": null,
            "display": null,
            "flex": null,
            "flex_flow": null,
            "grid_area": null,
            "grid_auto_columns": null,
            "grid_auto_flow": null,
            "grid_auto_rows": null,
            "grid_column": null,
            "grid_gap": null,
            "grid_row": null,
            "grid_template_areas": null,
            "grid_template_columns": null,
            "grid_template_rows": null,
            "height": null,
            "justify_content": null,
            "justify_items": null,
            "left": null,
            "margin": null,
            "max_height": null,
            "max_width": null,
            "min_height": null,
            "min_width": null,
            "object_fit": null,
            "object_position": null,
            "order": null,
            "overflow": null,
            "overflow_x": null,
            "overflow_y": null,
            "padding": null,
            "right": null,
            "top": null,
            "visibility": null,
            "width": null
          }
        },
        "20db550b1a3b4592be49af6bec9598ec": {
          "model_module": "@jupyter-widgets/base",
          "model_name": "LayoutModel",
          "model_module_version": "1.2.0",
          "state": {
            "_model_module": "@jupyter-widgets/base",
            "_model_module_version": "1.2.0",
            "_model_name": "LayoutModel",
            "_view_count": null,
            "_view_module": "@jupyter-widgets/base",
            "_view_module_version": "1.2.0",
            "_view_name": "LayoutView",
            "align_content": null,
            "align_items": null,
            "align_self": null,
            "border": null,
            "bottom": null,
            "display": null,
            "flex": null,
            "flex_flow": null,
            "grid_area": null,
            "grid_auto_columns": null,
            "grid_auto_flow": null,
            "grid_auto_rows": null,
            "grid_column": null,
            "grid_gap": null,
            "grid_row": null,
            "grid_template_areas": null,
            "grid_template_columns": null,
            "grid_template_rows": null,
            "height": null,
            "justify_content": null,
            "justify_items": null,
            "left": null,
            "margin": null,
            "max_height": null,
            "max_width": null,
            "min_height": null,
            "min_width": null,
            "object_fit": null,
            "object_position": null,
            "order": null,
            "overflow": null,
            "overflow_x": null,
            "overflow_y": null,
            "padding": null,
            "right": null,
            "top": null,
            "visibility": null,
            "width": null
          }
        },
        "2908646fe56d4f139cedb56961e69bd4": {
          "model_module": "@jupyter-widgets/controls",
          "model_name": "DescriptionStyleModel",
          "model_module_version": "1.5.0",
          "state": {
            "_model_module": "@jupyter-widgets/controls",
            "_model_module_version": "1.5.0",
            "_model_name": "DescriptionStyleModel",
            "_view_count": null,
            "_view_module": "@jupyter-widgets/base",
            "_view_module_version": "1.2.0",
            "_view_name": "StyleView",
            "description_width": ""
          }
        },
        "616c2c26296e4f5e9a09aa987a47b29c": {
          "model_module": "@jupyter-widgets/base",
          "model_name": "LayoutModel",
          "model_module_version": "1.2.0",
          "state": {
            "_model_module": "@jupyter-widgets/base",
            "_model_module_version": "1.2.0",
            "_model_name": "LayoutModel",
            "_view_count": null,
            "_view_module": "@jupyter-widgets/base",
            "_view_module_version": "1.2.0",
            "_view_name": "LayoutView",
            "align_content": null,
            "align_items": null,
            "align_self": null,
            "border": null,
            "bottom": null,
            "display": null,
            "flex": null,
            "flex_flow": null,
            "grid_area": null,
            "grid_auto_columns": null,
            "grid_auto_flow": null,
            "grid_auto_rows": null,
            "grid_column": null,
            "grid_gap": null,
            "grid_row": null,
            "grid_template_areas": null,
            "grid_template_columns": null,
            "grid_template_rows": null,
            "height": null,
            "justify_content": null,
            "justify_items": null,
            "left": null,
            "margin": null,
            "max_height": null,
            "max_width": null,
            "min_height": null,
            "min_width": null,
            "object_fit": null,
            "object_position": null,
            "order": null,
            "overflow": null,
            "overflow_x": null,
            "overflow_y": null,
            "padding": null,
            "right": null,
            "top": null,
            "visibility": null,
            "width": null
          }
        },
        "1c29fdfd681b49a184979359265d43a5": {
          "model_module": "@jupyter-widgets/controls",
          "model_name": "ProgressStyleModel",
          "model_module_version": "1.5.0",
          "state": {
            "_model_module": "@jupyter-widgets/controls",
            "_model_module_version": "1.5.0",
            "_model_name": "ProgressStyleModel",
            "_view_count": null,
            "_view_module": "@jupyter-widgets/base",
            "_view_module_version": "1.2.0",
            "_view_name": "StyleView",
            "bar_color": null,
            "description_width": ""
          }
        },
        "0a1f615c1f8a4b4383c35a14a0301c80": {
          "model_module": "@jupyter-widgets/base",
          "model_name": "LayoutModel",
          "model_module_version": "1.2.0",
          "state": {
            "_model_module": "@jupyter-widgets/base",
            "_model_module_version": "1.2.0",
            "_model_name": "LayoutModel",
            "_view_count": null,
            "_view_module": "@jupyter-widgets/base",
            "_view_module_version": "1.2.0",
            "_view_name": "LayoutView",
            "align_content": null,
            "align_items": null,
            "align_self": null,
            "border": null,
            "bottom": null,
            "display": null,
            "flex": null,
            "flex_flow": null,
            "grid_area": null,
            "grid_auto_columns": null,
            "grid_auto_flow": null,
            "grid_auto_rows": null,
            "grid_column": null,
            "grid_gap": null,
            "grid_row": null,
            "grid_template_areas": null,
            "grid_template_columns": null,
            "grid_template_rows": null,
            "height": null,
            "justify_content": null,
            "justify_items": null,
            "left": null,
            "margin": null,
            "max_height": null,
            "max_width": null,
            "min_height": null,
            "min_width": null,
            "object_fit": null,
            "object_position": null,
            "order": null,
            "overflow": null,
            "overflow_x": null,
            "overflow_y": null,
            "padding": null,
            "right": null,
            "top": null,
            "visibility": null,
            "width": null
          }
        },
        "f81ed24d04ac4dfb82f46cbddafd96ce": {
          "model_module": "@jupyter-widgets/controls",
          "model_name": "DescriptionStyleModel",
          "model_module_version": "1.5.0",
          "state": {
            "_model_module": "@jupyter-widgets/controls",
            "_model_module_version": "1.5.0",
            "_model_name": "DescriptionStyleModel",
            "_view_count": null,
            "_view_module": "@jupyter-widgets/base",
            "_view_module_version": "1.2.0",
            "_view_name": "StyleView",
            "description_width": ""
          }
        },
        "49fa7166118744aab5ea58d0a42cd185": {
          "model_module": "@jupyter-widgets/controls",
          "model_name": "HBoxModel",
          "model_module_version": "1.5.0",
          "state": {
            "_dom_classes": [],
            "_model_module": "@jupyter-widgets/controls",
            "_model_module_version": "1.5.0",
            "_model_name": "HBoxModel",
            "_view_count": null,
            "_view_module": "@jupyter-widgets/controls",
            "_view_module_version": "1.5.0",
            "_view_name": "HBoxView",
            "box_style": "",
            "children": [
              "IPY_MODEL_75e9987e3c0c442a9f57a8b2e0d22a91",
              "IPY_MODEL_667bc93bf0e548a1975bce38cb1f3b6e",
              "IPY_MODEL_2a82033116034fcabfbe2ec18db1a644"
            ],
            "layout": "IPY_MODEL_7799f2cd19d94f76afb84e2333930162"
          }
        },
        "75e9987e3c0c442a9f57a8b2e0d22a91": {
          "model_module": "@jupyter-widgets/controls",
          "model_name": "HTMLModel",
          "model_module_version": "1.5.0",
          "state": {
            "_dom_classes": [],
            "_model_module": "@jupyter-widgets/controls",
            "_model_module_version": "1.5.0",
            "_model_name": "HTMLModel",
            "_view_count": null,
            "_view_module": "@jupyter-widgets/controls",
            "_view_module_version": "1.5.0",
            "_view_name": "HTMLView",
            "description": "",
            "description_tooltip": null,
            "layout": "IPY_MODEL_8749d245a19140368fe078fdd7f055ba",
            "placeholder": "​",
            "style": "IPY_MODEL_ef0abb5b6ded41adaf9869612ebc7bce",
            "value": "Shuffling ~/tensorflow_datasets/ted_hrlr_translate/pt_to_en/1.0.0.incompleteFRAFCZ/ted_hrlr_translate-train.tfrecord*...:  16%"
          }
        },
        "667bc93bf0e548a1975bce38cb1f3b6e": {
          "model_module": "@jupyter-widgets/controls",
          "model_name": "FloatProgressModel",
          "model_module_version": "1.5.0",
          "state": {
            "_dom_classes": [],
            "_model_module": "@jupyter-widgets/controls",
            "_model_module_version": "1.5.0",
            "_model_name": "FloatProgressModel",
            "_view_count": null,
            "_view_module": "@jupyter-widgets/controls",
            "_view_module_version": "1.5.0",
            "_view_name": "ProgressView",
            "bar_style": "",
            "description": "",
            "description_tooltip": null,
            "layout": "IPY_MODEL_749133c6129946e9940e634196b410ec",
            "max": 51785,
            "min": 0,
            "orientation": "horizontal",
            "style": "IPY_MODEL_c13b6543ac054df7ad2f0d0f03478698",
            "value": 51785
          }
        },
        "2a82033116034fcabfbe2ec18db1a644": {
          "model_module": "@jupyter-widgets/controls",
          "model_name": "HTMLModel",
          "model_module_version": "1.5.0",
          "state": {
            "_dom_classes": [],
            "_model_module": "@jupyter-widgets/controls",
            "_model_module_version": "1.5.0",
            "_model_name": "HTMLModel",
            "_view_count": null,
            "_view_module": "@jupyter-widgets/controls",
            "_view_module_version": "1.5.0",
            "_view_name": "HTMLView",
            "description": "",
            "description_tooltip": null,
            "layout": "IPY_MODEL_ce97369af88940d392911bac4d504ed1",
            "placeholder": "​",
            "style": "IPY_MODEL_ee3efeed80e74edcaf3e08f1db5c8b98",
            "value": " 8135/51785 [00:00&lt;00:00, 81343.48 examples/s]"
          }
        },
        "7799f2cd19d94f76afb84e2333930162": {
          "model_module": "@jupyter-widgets/base",
          "model_name": "LayoutModel",
          "model_module_version": "1.2.0",
          "state": {
            "_model_module": "@jupyter-widgets/base",
            "_model_module_version": "1.2.0",
            "_model_name": "LayoutModel",
            "_view_count": null,
            "_view_module": "@jupyter-widgets/base",
            "_view_module_version": "1.2.0",
            "_view_name": "LayoutView",
            "align_content": null,
            "align_items": null,
            "align_self": null,
            "border": null,
            "bottom": null,
            "display": null,
            "flex": null,
            "flex_flow": null,
            "grid_area": null,
            "grid_auto_columns": null,
            "grid_auto_flow": null,
            "grid_auto_rows": null,
            "grid_column": null,
            "grid_gap": null,
            "grid_row": null,
            "grid_template_areas": null,
            "grid_template_columns": null,
            "grid_template_rows": null,
            "height": null,
            "justify_content": null,
            "justify_items": null,
            "left": null,
            "margin": null,
            "max_height": null,
            "max_width": null,
            "min_height": null,
            "min_width": null,
            "object_fit": null,
            "object_position": null,
            "order": null,
            "overflow": null,
            "overflow_x": null,
            "overflow_y": null,
            "padding": null,
            "right": null,
            "top": null,
            "visibility": null,
            "width": null
          }
        },
        "8749d245a19140368fe078fdd7f055ba": {
          "model_module": "@jupyter-widgets/base",
          "model_name": "LayoutModel",
          "model_module_version": "1.2.0",
          "state": {
            "_model_module": "@jupyter-widgets/base",
            "_model_module_version": "1.2.0",
            "_model_name": "LayoutModel",
            "_view_count": null,
            "_view_module": "@jupyter-widgets/base",
            "_view_module_version": "1.2.0",
            "_view_name": "LayoutView",
            "align_content": null,
            "align_items": null,
            "align_self": null,
            "border": null,
            "bottom": null,
            "display": null,
            "flex": null,
            "flex_flow": null,
            "grid_area": null,
            "grid_auto_columns": null,
            "grid_auto_flow": null,
            "grid_auto_rows": null,
            "grid_column": null,
            "grid_gap": null,
            "grid_row": null,
            "grid_template_areas": null,
            "grid_template_columns": null,
            "grid_template_rows": null,
            "height": null,
            "justify_content": null,
            "justify_items": null,
            "left": null,
            "margin": null,
            "max_height": null,
            "max_width": null,
            "min_height": null,
            "min_width": null,
            "object_fit": null,
            "object_position": null,
            "order": null,
            "overflow": null,
            "overflow_x": null,
            "overflow_y": null,
            "padding": null,
            "right": null,
            "top": null,
            "visibility": null,
            "width": null
          }
        },
        "ef0abb5b6ded41adaf9869612ebc7bce": {
          "model_module": "@jupyter-widgets/controls",
          "model_name": "DescriptionStyleModel",
          "model_module_version": "1.5.0",
          "state": {
            "_model_module": "@jupyter-widgets/controls",
            "_model_module_version": "1.5.0",
            "_model_name": "DescriptionStyleModel",
            "_view_count": null,
            "_view_module": "@jupyter-widgets/base",
            "_view_module_version": "1.2.0",
            "_view_name": "StyleView",
            "description_width": ""
          }
        },
        "749133c6129946e9940e634196b410ec": {
          "model_module": "@jupyter-widgets/base",
          "model_name": "LayoutModel",
          "model_module_version": "1.2.0",
          "state": {
            "_model_module": "@jupyter-widgets/base",
            "_model_module_version": "1.2.0",
            "_model_name": "LayoutModel",
            "_view_count": null,
            "_view_module": "@jupyter-widgets/base",
            "_view_module_version": "1.2.0",
            "_view_name": "LayoutView",
            "align_content": null,
            "align_items": null,
            "align_self": null,
            "border": null,
            "bottom": null,
            "display": null,
            "flex": null,
            "flex_flow": null,
            "grid_area": null,
            "grid_auto_columns": null,
            "grid_auto_flow": null,
            "grid_auto_rows": null,
            "grid_column": null,
            "grid_gap": null,
            "grid_row": null,
            "grid_template_areas": null,
            "grid_template_columns": null,
            "grid_template_rows": null,
            "height": null,
            "justify_content": null,
            "justify_items": null,
            "left": null,
            "margin": null,
            "max_height": null,
            "max_width": null,
            "min_height": null,
            "min_width": null,
            "object_fit": null,
            "object_position": null,
            "order": null,
            "overflow": null,
            "overflow_x": null,
            "overflow_y": null,
            "padding": null,
            "right": null,
            "top": null,
            "visibility": null,
            "width": null
          }
        },
        "c13b6543ac054df7ad2f0d0f03478698": {
          "model_module": "@jupyter-widgets/controls",
          "model_name": "ProgressStyleModel",
          "model_module_version": "1.5.0",
          "state": {
            "_model_module": "@jupyter-widgets/controls",
            "_model_module_version": "1.5.0",
            "_model_name": "ProgressStyleModel",
            "_view_count": null,
            "_view_module": "@jupyter-widgets/base",
            "_view_module_version": "1.2.0",
            "_view_name": "StyleView",
            "bar_color": null,
            "description_width": ""
          }
        },
        "ce97369af88940d392911bac4d504ed1": {
          "model_module": "@jupyter-widgets/base",
          "model_name": "LayoutModel",
          "model_module_version": "1.2.0",
          "state": {
            "_model_module": "@jupyter-widgets/base",
            "_model_module_version": "1.2.0",
            "_model_name": "LayoutModel",
            "_view_count": null,
            "_view_module": "@jupyter-widgets/base",
            "_view_module_version": "1.2.0",
            "_view_name": "LayoutView",
            "align_content": null,
            "align_items": null,
            "align_self": null,
            "border": null,
            "bottom": null,
            "display": null,
            "flex": null,
            "flex_flow": null,
            "grid_area": null,
            "grid_auto_columns": null,
            "grid_auto_flow": null,
            "grid_auto_rows": null,
            "grid_column": null,
            "grid_gap": null,
            "grid_row": null,
            "grid_template_areas": null,
            "grid_template_columns": null,
            "grid_template_rows": null,
            "height": null,
            "justify_content": null,
            "justify_items": null,
            "left": null,
            "margin": null,
            "max_height": null,
            "max_width": null,
            "min_height": null,
            "min_width": null,
            "object_fit": null,
            "object_position": null,
            "order": null,
            "overflow": null,
            "overflow_x": null,
            "overflow_y": null,
            "padding": null,
            "right": null,
            "top": null,
            "visibility": null,
            "width": null
          }
        },
        "ee3efeed80e74edcaf3e08f1db5c8b98": {
          "model_module": "@jupyter-widgets/controls",
          "model_name": "DescriptionStyleModel",
          "model_module_version": "1.5.0",
          "state": {
            "_model_module": "@jupyter-widgets/controls",
            "_model_module_version": "1.5.0",
            "_model_name": "DescriptionStyleModel",
            "_view_count": null,
            "_view_module": "@jupyter-widgets/base",
            "_view_module_version": "1.2.0",
            "_view_name": "StyleView",
            "description_width": ""
          }
        },
        "488c80bf48594c0e916ba2c752cb0556": {
          "model_module": "@jupyter-widgets/controls",
          "model_name": "HBoxModel",
          "model_module_version": "1.5.0",
          "state": {
            "_dom_classes": [],
            "_model_module": "@jupyter-widgets/controls",
            "_model_module_version": "1.5.0",
            "_model_name": "HBoxModel",
            "_view_count": null,
            "_view_module": "@jupyter-widgets/controls",
            "_view_module_version": "1.5.0",
            "_view_name": "HBoxView",
            "box_style": "",
            "children": [
              "IPY_MODEL_5c3cebe9503048a7b4bb77a114eafa2a",
              "IPY_MODEL_b495949e6edf4f80bb33f5366974e8c2",
              "IPY_MODEL_0edd15e1007d4cf38132c441c210861e"
            ],
            "layout": "IPY_MODEL_3984be230bc84a66be31015fd18136ec"
          }
        },
        "5c3cebe9503048a7b4bb77a114eafa2a": {
          "model_module": "@jupyter-widgets/controls",
          "model_name": "HTMLModel",
          "model_module_version": "1.5.0",
          "state": {
            "_dom_classes": [],
            "_model_module": "@jupyter-widgets/controls",
            "_model_module_version": "1.5.0",
            "_model_name": "HTMLModel",
            "_view_count": null,
            "_view_module": "@jupyter-widgets/controls",
            "_view_module_version": "1.5.0",
            "_view_name": "HTMLView",
            "description": "",
            "description_tooltip": null,
            "layout": "IPY_MODEL_7b2cbfaf7f2e49b78a72b752343ac2bf",
            "placeholder": "​",
            "style": "IPY_MODEL_42018cfccf6a496ebb65b66a04c79547",
            "value": "Generating validation examples...:  53%"
          }
        },
        "b495949e6edf4f80bb33f5366974e8c2": {
          "model_module": "@jupyter-widgets/controls",
          "model_name": "FloatProgressModel",
          "model_module_version": "1.5.0",
          "state": {
            "_dom_classes": [],
            "_model_module": "@jupyter-widgets/controls",
            "_model_module_version": "1.5.0",
            "_model_name": "FloatProgressModel",
            "_view_count": null,
            "_view_module": "@jupyter-widgets/controls",
            "_view_module_version": "1.5.0",
            "_view_name": "ProgressView",
            "bar_style": "",
            "description": "",
            "description_tooltip": null,
            "layout": "IPY_MODEL_a010e1560bcd4d8cbc416c70d7b7bcbd",
            "max": 1193,
            "min": 0,
            "orientation": "horizontal",
            "style": "IPY_MODEL_c510ab02ab5740cea7fff077848a82c4",
            "value": 1193
          }
        },
        "0edd15e1007d4cf38132c441c210861e": {
          "model_module": "@jupyter-widgets/controls",
          "model_name": "HTMLModel",
          "model_module_version": "1.5.0",
          "state": {
            "_dom_classes": [],
            "_model_module": "@jupyter-widgets/controls",
            "_model_module_version": "1.5.0",
            "_model_name": "HTMLModel",
            "_view_count": null,
            "_view_module": "@jupyter-widgets/controls",
            "_view_module_version": "1.5.0",
            "_view_name": "HTMLView",
            "description": "",
            "description_tooltip": null,
            "layout": "IPY_MODEL_a359c37afb15410e83b88f21c9f50183",
            "placeholder": "​",
            "style": "IPY_MODEL_315b0e2f220146b3a7c9b1b017a20ca1",
            "value": " 638/1193 [00:00&lt;00:00, 6376.93 examples/s]"
          }
        },
        "3984be230bc84a66be31015fd18136ec": {
          "model_module": "@jupyter-widgets/base",
          "model_name": "LayoutModel",
          "model_module_version": "1.2.0",
          "state": {
            "_model_module": "@jupyter-widgets/base",
            "_model_module_version": "1.2.0",
            "_model_name": "LayoutModel",
            "_view_count": null,
            "_view_module": "@jupyter-widgets/base",
            "_view_module_version": "1.2.0",
            "_view_name": "LayoutView",
            "align_content": null,
            "align_items": null,
            "align_self": null,
            "border": null,
            "bottom": null,
            "display": null,
            "flex": null,
            "flex_flow": null,
            "grid_area": null,
            "grid_auto_columns": null,
            "grid_auto_flow": null,
            "grid_auto_rows": null,
            "grid_column": null,
            "grid_gap": null,
            "grid_row": null,
            "grid_template_areas": null,
            "grid_template_columns": null,
            "grid_template_rows": null,
            "height": null,
            "justify_content": null,
            "justify_items": null,
            "left": null,
            "margin": null,
            "max_height": null,
            "max_width": null,
            "min_height": null,
            "min_width": null,
            "object_fit": null,
            "object_position": null,
            "order": null,
            "overflow": null,
            "overflow_x": null,
            "overflow_y": null,
            "padding": null,
            "right": null,
            "top": null,
            "visibility": null,
            "width": null
          }
        },
        "7b2cbfaf7f2e49b78a72b752343ac2bf": {
          "model_module": "@jupyter-widgets/base",
          "model_name": "LayoutModel",
          "model_module_version": "1.2.0",
          "state": {
            "_model_module": "@jupyter-widgets/base",
            "_model_module_version": "1.2.0",
            "_model_name": "LayoutModel",
            "_view_count": null,
            "_view_module": "@jupyter-widgets/base",
            "_view_module_version": "1.2.0",
            "_view_name": "LayoutView",
            "align_content": null,
            "align_items": null,
            "align_self": null,
            "border": null,
            "bottom": null,
            "display": null,
            "flex": null,
            "flex_flow": null,
            "grid_area": null,
            "grid_auto_columns": null,
            "grid_auto_flow": null,
            "grid_auto_rows": null,
            "grid_column": null,
            "grid_gap": null,
            "grid_row": null,
            "grid_template_areas": null,
            "grid_template_columns": null,
            "grid_template_rows": null,
            "height": null,
            "justify_content": null,
            "justify_items": null,
            "left": null,
            "margin": null,
            "max_height": null,
            "max_width": null,
            "min_height": null,
            "min_width": null,
            "object_fit": null,
            "object_position": null,
            "order": null,
            "overflow": null,
            "overflow_x": null,
            "overflow_y": null,
            "padding": null,
            "right": null,
            "top": null,
            "visibility": null,
            "width": null
          }
        },
        "42018cfccf6a496ebb65b66a04c79547": {
          "model_module": "@jupyter-widgets/controls",
          "model_name": "DescriptionStyleModel",
          "model_module_version": "1.5.0",
          "state": {
            "_model_module": "@jupyter-widgets/controls",
            "_model_module_version": "1.5.0",
            "_model_name": "DescriptionStyleModel",
            "_view_count": null,
            "_view_module": "@jupyter-widgets/base",
            "_view_module_version": "1.2.0",
            "_view_name": "StyleView",
            "description_width": ""
          }
        },
        "a010e1560bcd4d8cbc416c70d7b7bcbd": {
          "model_module": "@jupyter-widgets/base",
          "model_name": "LayoutModel",
          "model_module_version": "1.2.0",
          "state": {
            "_model_module": "@jupyter-widgets/base",
            "_model_module_version": "1.2.0",
            "_model_name": "LayoutModel",
            "_view_count": null,
            "_view_module": "@jupyter-widgets/base",
            "_view_module_version": "1.2.0",
            "_view_name": "LayoutView",
            "align_content": null,
            "align_items": null,
            "align_self": null,
            "border": null,
            "bottom": null,
            "display": null,
            "flex": null,
            "flex_flow": null,
            "grid_area": null,
            "grid_auto_columns": null,
            "grid_auto_flow": null,
            "grid_auto_rows": null,
            "grid_column": null,
            "grid_gap": null,
            "grid_row": null,
            "grid_template_areas": null,
            "grid_template_columns": null,
            "grid_template_rows": null,
            "height": null,
            "justify_content": null,
            "justify_items": null,
            "left": null,
            "margin": null,
            "max_height": null,
            "max_width": null,
            "min_height": null,
            "min_width": null,
            "object_fit": null,
            "object_position": null,
            "order": null,
            "overflow": null,
            "overflow_x": null,
            "overflow_y": null,
            "padding": null,
            "right": null,
            "top": null,
            "visibility": null,
            "width": null
          }
        },
        "c510ab02ab5740cea7fff077848a82c4": {
          "model_module": "@jupyter-widgets/controls",
          "model_name": "ProgressStyleModel",
          "model_module_version": "1.5.0",
          "state": {
            "_model_module": "@jupyter-widgets/controls",
            "_model_module_version": "1.5.0",
            "_model_name": "ProgressStyleModel",
            "_view_count": null,
            "_view_module": "@jupyter-widgets/base",
            "_view_module_version": "1.2.0",
            "_view_name": "StyleView",
            "bar_color": null,
            "description_width": ""
          }
        },
        "a359c37afb15410e83b88f21c9f50183": {
          "model_module": "@jupyter-widgets/base",
          "model_name": "LayoutModel",
          "model_module_version": "1.2.0",
          "state": {
            "_model_module": "@jupyter-widgets/base",
            "_model_module_version": "1.2.0",
            "_model_name": "LayoutModel",
            "_view_count": null,
            "_view_module": "@jupyter-widgets/base",
            "_view_module_version": "1.2.0",
            "_view_name": "LayoutView",
            "align_content": null,
            "align_items": null,
            "align_self": null,
            "border": null,
            "bottom": null,
            "display": null,
            "flex": null,
            "flex_flow": null,
            "grid_area": null,
            "grid_auto_columns": null,
            "grid_auto_flow": null,
            "grid_auto_rows": null,
            "grid_column": null,
            "grid_gap": null,
            "grid_row": null,
            "grid_template_areas": null,
            "grid_template_columns": null,
            "grid_template_rows": null,
            "height": null,
            "justify_content": null,
            "justify_items": null,
            "left": null,
            "margin": null,
            "max_height": null,
            "max_width": null,
            "min_height": null,
            "min_width": null,
            "object_fit": null,
            "object_position": null,
            "order": null,
            "overflow": null,
            "overflow_x": null,
            "overflow_y": null,
            "padding": null,
            "right": null,
            "top": null,
            "visibility": null,
            "width": null
          }
        },
        "315b0e2f220146b3a7c9b1b017a20ca1": {
          "model_module": "@jupyter-widgets/controls",
          "model_name": "DescriptionStyleModel",
          "model_module_version": "1.5.0",
          "state": {
            "_model_module": "@jupyter-widgets/controls",
            "_model_module_version": "1.5.0",
            "_model_name": "DescriptionStyleModel",
            "_view_count": null,
            "_view_module": "@jupyter-widgets/base",
            "_view_module_version": "1.2.0",
            "_view_name": "StyleView",
            "description_width": ""
          }
        },
        "45552b31025e405e8154d070a16fa8b9": {
          "model_module": "@jupyter-widgets/controls",
          "model_name": "HBoxModel",
          "model_module_version": "1.5.0",
          "state": {
            "_dom_classes": [],
            "_model_module": "@jupyter-widgets/controls",
            "_model_module_version": "1.5.0",
            "_model_name": "HBoxModel",
            "_view_count": null,
            "_view_module": "@jupyter-widgets/controls",
            "_view_module_version": "1.5.0",
            "_view_name": "HBoxView",
            "box_style": "",
            "children": [
              "IPY_MODEL_d89b4a155c954ec2adc4fc34640652d0",
              "IPY_MODEL_056bdc8a5472417f90509f00b0cb07ff",
              "IPY_MODEL_e12613820adf4969830da6c0ab753f59"
            ],
            "layout": "IPY_MODEL_79ef4562a9fe4d3886c8cfc0335009ca"
          }
        },
        "d89b4a155c954ec2adc4fc34640652d0": {
          "model_module": "@jupyter-widgets/controls",
          "model_name": "HTMLModel",
          "model_module_version": "1.5.0",
          "state": {
            "_dom_classes": [],
            "_model_module": "@jupyter-widgets/controls",
            "_model_module_version": "1.5.0",
            "_model_name": "HTMLModel",
            "_view_count": null,
            "_view_module": "@jupyter-widgets/controls",
            "_view_module_version": "1.5.0",
            "_view_name": "HTMLView",
            "description": "",
            "description_tooltip": null,
            "layout": "IPY_MODEL_8c50a5120afb43d88495bbe5191030d0",
            "placeholder": "​",
            "style": "IPY_MODEL_4ef083577f044c8ab41b5ce94fd99cbe",
            "value": "Shuffling ~/tensorflow_datasets/ted_hrlr_translate/pt_to_en/1.0.0.incompleteFRAFCZ/ted_hrlr_translate-validation.tfrecord*...:   0%"
          }
        },
        "056bdc8a5472417f90509f00b0cb07ff": {
          "model_module": "@jupyter-widgets/controls",
          "model_name": "FloatProgressModel",
          "model_module_version": "1.5.0",
          "state": {
            "_dom_classes": [],
            "_model_module": "@jupyter-widgets/controls",
            "_model_module_version": "1.5.0",
            "_model_name": "FloatProgressModel",
            "_view_count": null,
            "_view_module": "@jupyter-widgets/controls",
            "_view_module_version": "1.5.0",
            "_view_name": "ProgressView",
            "bar_style": "",
            "description": "",
            "description_tooltip": null,
            "layout": "IPY_MODEL_115c90327b2f4d248f549c98d83aa5b9",
            "max": 1193,
            "min": 0,
            "orientation": "horizontal",
            "style": "IPY_MODEL_d1789978cddc4c509fe21cc39b907b40",
            "value": 1193
          }
        },
        "e12613820adf4969830da6c0ab753f59": {
          "model_module": "@jupyter-widgets/controls",
          "model_name": "HTMLModel",
          "model_module_version": "1.5.0",
          "state": {
            "_dom_classes": [],
            "_model_module": "@jupyter-widgets/controls",
            "_model_module_version": "1.5.0",
            "_model_name": "HTMLModel",
            "_view_count": null,
            "_view_module": "@jupyter-widgets/controls",
            "_view_module_version": "1.5.0",
            "_view_name": "HTMLView",
            "description": "",
            "description_tooltip": null,
            "layout": "IPY_MODEL_034b748fc24b44de81d5225f719eae86",
            "placeholder": "​",
            "style": "IPY_MODEL_5cd3944e85b9464c981f39207b56c23f",
            "value": " 0/1193 [00:00&lt;?, ? examples/s]"
          }
        },
        "79ef4562a9fe4d3886c8cfc0335009ca": {
          "model_module": "@jupyter-widgets/base",
          "model_name": "LayoutModel",
          "model_module_version": "1.2.0",
          "state": {
            "_model_module": "@jupyter-widgets/base",
            "_model_module_version": "1.2.0",
            "_model_name": "LayoutModel",
            "_view_count": null,
            "_view_module": "@jupyter-widgets/base",
            "_view_module_version": "1.2.0",
            "_view_name": "LayoutView",
            "align_content": null,
            "align_items": null,
            "align_self": null,
            "border": null,
            "bottom": null,
            "display": null,
            "flex": null,
            "flex_flow": null,
            "grid_area": null,
            "grid_auto_columns": null,
            "grid_auto_flow": null,
            "grid_auto_rows": null,
            "grid_column": null,
            "grid_gap": null,
            "grid_row": null,
            "grid_template_areas": null,
            "grid_template_columns": null,
            "grid_template_rows": null,
            "height": null,
            "justify_content": null,
            "justify_items": null,
            "left": null,
            "margin": null,
            "max_height": null,
            "max_width": null,
            "min_height": null,
            "min_width": null,
            "object_fit": null,
            "object_position": null,
            "order": null,
            "overflow": null,
            "overflow_x": null,
            "overflow_y": null,
            "padding": null,
            "right": null,
            "top": null,
            "visibility": null,
            "width": null
          }
        },
        "8c50a5120afb43d88495bbe5191030d0": {
          "model_module": "@jupyter-widgets/base",
          "model_name": "LayoutModel",
          "model_module_version": "1.2.0",
          "state": {
            "_model_module": "@jupyter-widgets/base",
            "_model_module_version": "1.2.0",
            "_model_name": "LayoutModel",
            "_view_count": null,
            "_view_module": "@jupyter-widgets/base",
            "_view_module_version": "1.2.0",
            "_view_name": "LayoutView",
            "align_content": null,
            "align_items": null,
            "align_self": null,
            "border": null,
            "bottom": null,
            "display": null,
            "flex": null,
            "flex_flow": null,
            "grid_area": null,
            "grid_auto_columns": null,
            "grid_auto_flow": null,
            "grid_auto_rows": null,
            "grid_column": null,
            "grid_gap": null,
            "grid_row": null,
            "grid_template_areas": null,
            "grid_template_columns": null,
            "grid_template_rows": null,
            "height": null,
            "justify_content": null,
            "justify_items": null,
            "left": null,
            "margin": null,
            "max_height": null,
            "max_width": null,
            "min_height": null,
            "min_width": null,
            "object_fit": null,
            "object_position": null,
            "order": null,
            "overflow": null,
            "overflow_x": null,
            "overflow_y": null,
            "padding": null,
            "right": null,
            "top": null,
            "visibility": null,
            "width": null
          }
        },
        "4ef083577f044c8ab41b5ce94fd99cbe": {
          "model_module": "@jupyter-widgets/controls",
          "model_name": "DescriptionStyleModel",
          "model_module_version": "1.5.0",
          "state": {
            "_model_module": "@jupyter-widgets/controls",
            "_model_module_version": "1.5.0",
            "_model_name": "DescriptionStyleModel",
            "_view_count": null,
            "_view_module": "@jupyter-widgets/base",
            "_view_module_version": "1.2.0",
            "_view_name": "StyleView",
            "description_width": ""
          }
        },
        "115c90327b2f4d248f549c98d83aa5b9": {
          "model_module": "@jupyter-widgets/base",
          "model_name": "LayoutModel",
          "model_module_version": "1.2.0",
          "state": {
            "_model_module": "@jupyter-widgets/base",
            "_model_module_version": "1.2.0",
            "_model_name": "LayoutModel",
            "_view_count": null,
            "_view_module": "@jupyter-widgets/base",
            "_view_module_version": "1.2.0",
            "_view_name": "LayoutView",
            "align_content": null,
            "align_items": null,
            "align_self": null,
            "border": null,
            "bottom": null,
            "display": null,
            "flex": null,
            "flex_flow": null,
            "grid_area": null,
            "grid_auto_columns": null,
            "grid_auto_flow": null,
            "grid_auto_rows": null,
            "grid_column": null,
            "grid_gap": null,
            "grid_row": null,
            "grid_template_areas": null,
            "grid_template_columns": null,
            "grid_template_rows": null,
            "height": null,
            "justify_content": null,
            "justify_items": null,
            "left": null,
            "margin": null,
            "max_height": null,
            "max_width": null,
            "min_height": null,
            "min_width": null,
            "object_fit": null,
            "object_position": null,
            "order": null,
            "overflow": null,
            "overflow_x": null,
            "overflow_y": null,
            "padding": null,
            "right": null,
            "top": null,
            "visibility": null,
            "width": null
          }
        },
        "d1789978cddc4c509fe21cc39b907b40": {
          "model_module": "@jupyter-widgets/controls",
          "model_name": "ProgressStyleModel",
          "model_module_version": "1.5.0",
          "state": {
            "_model_module": "@jupyter-widgets/controls",
            "_model_module_version": "1.5.0",
            "_model_name": "ProgressStyleModel",
            "_view_count": null,
            "_view_module": "@jupyter-widgets/base",
            "_view_module_version": "1.2.0",
            "_view_name": "StyleView",
            "bar_color": null,
            "description_width": ""
          }
        },
        "034b748fc24b44de81d5225f719eae86": {
          "model_module": "@jupyter-widgets/base",
          "model_name": "LayoutModel",
          "model_module_version": "1.2.0",
          "state": {
            "_model_module": "@jupyter-widgets/base",
            "_model_module_version": "1.2.0",
            "_model_name": "LayoutModel",
            "_view_count": null,
            "_view_module": "@jupyter-widgets/base",
            "_view_module_version": "1.2.0",
            "_view_name": "LayoutView",
            "align_content": null,
            "align_items": null,
            "align_self": null,
            "border": null,
            "bottom": null,
            "display": null,
            "flex": null,
            "flex_flow": null,
            "grid_area": null,
            "grid_auto_columns": null,
            "grid_auto_flow": null,
            "grid_auto_rows": null,
            "grid_column": null,
            "grid_gap": null,
            "grid_row": null,
            "grid_template_areas": null,
            "grid_template_columns": null,
            "grid_template_rows": null,
            "height": null,
            "justify_content": null,
            "justify_items": null,
            "left": null,
            "margin": null,
            "max_height": null,
            "max_width": null,
            "min_height": null,
            "min_width": null,
            "object_fit": null,
            "object_position": null,
            "order": null,
            "overflow": null,
            "overflow_x": null,
            "overflow_y": null,
            "padding": null,
            "right": null,
            "top": null,
            "visibility": null,
            "width": null
          }
        },
        "5cd3944e85b9464c981f39207b56c23f": {
          "model_module": "@jupyter-widgets/controls",
          "model_name": "DescriptionStyleModel",
          "model_module_version": "1.5.0",
          "state": {
            "_model_module": "@jupyter-widgets/controls",
            "_model_module_version": "1.5.0",
            "_model_name": "DescriptionStyleModel",
            "_view_count": null,
            "_view_module": "@jupyter-widgets/base",
            "_view_module_version": "1.2.0",
            "_view_name": "StyleView",
            "description_width": ""
          }
        },
        "7c50a2735cd64c06a508c214b9240f73": {
          "model_module": "@jupyter-widgets/controls",
          "model_name": "HBoxModel",
          "model_module_version": "1.5.0",
          "state": {
            "_dom_classes": [],
            "_model_module": "@jupyter-widgets/controls",
            "_model_module_version": "1.5.0",
            "_model_name": "HBoxModel",
            "_view_count": null,
            "_view_module": "@jupyter-widgets/controls",
            "_view_module_version": "1.5.0",
            "_view_name": "HBoxView",
            "box_style": "",
            "children": [
              "IPY_MODEL_3f4eb7071fd34b1fb42c614ba7916a22",
              "IPY_MODEL_3c6b63d1ac224d969cb866f711cdcb0d",
              "IPY_MODEL_b21c16e36fca48c6991c5c8dca552d09"
            ],
            "layout": "IPY_MODEL_b716635b41ff42d2b97eee577b52afb7"
          }
        },
        "3f4eb7071fd34b1fb42c614ba7916a22": {
          "model_module": "@jupyter-widgets/controls",
          "model_name": "HTMLModel",
          "model_module_version": "1.5.0",
          "state": {
            "_dom_classes": [],
            "_model_module": "@jupyter-widgets/controls",
            "_model_module_version": "1.5.0",
            "_model_name": "HTMLModel",
            "_view_count": null,
            "_view_module": "@jupyter-widgets/controls",
            "_view_module_version": "1.5.0",
            "_view_name": "HTMLView",
            "description": "",
            "description_tooltip": null,
            "layout": "IPY_MODEL_ab67e747cf764a28a342d5d362ccefb1",
            "placeholder": "​",
            "style": "IPY_MODEL_69cb51f573cd47508e3ee8eae197691a",
            "value": "Generating test examples...:  93%"
          }
        },
        "3c6b63d1ac224d969cb866f711cdcb0d": {
          "model_module": "@jupyter-widgets/controls",
          "model_name": "FloatProgressModel",
          "model_module_version": "1.5.0",
          "state": {
            "_dom_classes": [],
            "_model_module": "@jupyter-widgets/controls",
            "_model_module_version": "1.5.0",
            "_model_name": "FloatProgressModel",
            "_view_count": null,
            "_view_module": "@jupyter-widgets/controls",
            "_view_module_version": "1.5.0",
            "_view_name": "ProgressView",
            "bar_style": "",
            "description": "",
            "description_tooltip": null,
            "layout": "IPY_MODEL_0d4bf55d4b03493399c14639e586ed9a",
            "max": 1803,
            "min": 0,
            "orientation": "horizontal",
            "style": "IPY_MODEL_c0cba0d0bc7b407ab9dbc2d266bd944a",
            "value": 1803
          }
        },
        "b21c16e36fca48c6991c5c8dca552d09": {
          "model_module": "@jupyter-widgets/controls",
          "model_name": "HTMLModel",
          "model_module_version": "1.5.0",
          "state": {
            "_dom_classes": [],
            "_model_module": "@jupyter-widgets/controls",
            "_model_module_version": "1.5.0",
            "_model_name": "HTMLModel",
            "_view_count": null,
            "_view_module": "@jupyter-widgets/controls",
            "_view_module_version": "1.5.0",
            "_view_name": "HTMLView",
            "description": "",
            "description_tooltip": null,
            "layout": "IPY_MODEL_9f2dae0f9f444876a22c1bc0eab17c16",
            "placeholder": "​",
            "style": "IPY_MODEL_5f9e73565c3a4a7fa63345c98d0c8d1b",
            "value": " 1669/1803 [00:00&lt;00:00, 9255.74 examples/s]"
          }
        },
        "b716635b41ff42d2b97eee577b52afb7": {
          "model_module": "@jupyter-widgets/base",
          "model_name": "LayoutModel",
          "model_module_version": "1.2.0",
          "state": {
            "_model_module": "@jupyter-widgets/base",
            "_model_module_version": "1.2.0",
            "_model_name": "LayoutModel",
            "_view_count": null,
            "_view_module": "@jupyter-widgets/base",
            "_view_module_version": "1.2.0",
            "_view_name": "LayoutView",
            "align_content": null,
            "align_items": null,
            "align_self": null,
            "border": null,
            "bottom": null,
            "display": null,
            "flex": null,
            "flex_flow": null,
            "grid_area": null,
            "grid_auto_columns": null,
            "grid_auto_flow": null,
            "grid_auto_rows": null,
            "grid_column": null,
            "grid_gap": null,
            "grid_row": null,
            "grid_template_areas": null,
            "grid_template_columns": null,
            "grid_template_rows": null,
            "height": null,
            "justify_content": null,
            "justify_items": null,
            "left": null,
            "margin": null,
            "max_height": null,
            "max_width": null,
            "min_height": null,
            "min_width": null,
            "object_fit": null,
            "object_position": null,
            "order": null,
            "overflow": null,
            "overflow_x": null,
            "overflow_y": null,
            "padding": null,
            "right": null,
            "top": null,
            "visibility": null,
            "width": null
          }
        },
        "ab67e747cf764a28a342d5d362ccefb1": {
          "model_module": "@jupyter-widgets/base",
          "model_name": "LayoutModel",
          "model_module_version": "1.2.0",
          "state": {
            "_model_module": "@jupyter-widgets/base",
            "_model_module_version": "1.2.0",
            "_model_name": "LayoutModel",
            "_view_count": null,
            "_view_module": "@jupyter-widgets/base",
            "_view_module_version": "1.2.0",
            "_view_name": "LayoutView",
            "align_content": null,
            "align_items": null,
            "align_self": null,
            "border": null,
            "bottom": null,
            "display": null,
            "flex": null,
            "flex_flow": null,
            "grid_area": null,
            "grid_auto_columns": null,
            "grid_auto_flow": null,
            "grid_auto_rows": null,
            "grid_column": null,
            "grid_gap": null,
            "grid_row": null,
            "grid_template_areas": null,
            "grid_template_columns": null,
            "grid_template_rows": null,
            "height": null,
            "justify_content": null,
            "justify_items": null,
            "left": null,
            "margin": null,
            "max_height": null,
            "max_width": null,
            "min_height": null,
            "min_width": null,
            "object_fit": null,
            "object_position": null,
            "order": null,
            "overflow": null,
            "overflow_x": null,
            "overflow_y": null,
            "padding": null,
            "right": null,
            "top": null,
            "visibility": null,
            "width": null
          }
        },
        "69cb51f573cd47508e3ee8eae197691a": {
          "model_module": "@jupyter-widgets/controls",
          "model_name": "DescriptionStyleModel",
          "model_module_version": "1.5.0",
          "state": {
            "_model_module": "@jupyter-widgets/controls",
            "_model_module_version": "1.5.0",
            "_model_name": "DescriptionStyleModel",
            "_view_count": null,
            "_view_module": "@jupyter-widgets/base",
            "_view_module_version": "1.2.0",
            "_view_name": "StyleView",
            "description_width": ""
          }
        },
        "0d4bf55d4b03493399c14639e586ed9a": {
          "model_module": "@jupyter-widgets/base",
          "model_name": "LayoutModel",
          "model_module_version": "1.2.0",
          "state": {
            "_model_module": "@jupyter-widgets/base",
            "_model_module_version": "1.2.0",
            "_model_name": "LayoutModel",
            "_view_count": null,
            "_view_module": "@jupyter-widgets/base",
            "_view_module_version": "1.2.0",
            "_view_name": "LayoutView",
            "align_content": null,
            "align_items": null,
            "align_self": null,
            "border": null,
            "bottom": null,
            "display": null,
            "flex": null,
            "flex_flow": null,
            "grid_area": null,
            "grid_auto_columns": null,
            "grid_auto_flow": null,
            "grid_auto_rows": null,
            "grid_column": null,
            "grid_gap": null,
            "grid_row": null,
            "grid_template_areas": null,
            "grid_template_columns": null,
            "grid_template_rows": null,
            "height": null,
            "justify_content": null,
            "justify_items": null,
            "left": null,
            "margin": null,
            "max_height": null,
            "max_width": null,
            "min_height": null,
            "min_width": null,
            "object_fit": null,
            "object_position": null,
            "order": null,
            "overflow": null,
            "overflow_x": null,
            "overflow_y": null,
            "padding": null,
            "right": null,
            "top": null,
            "visibility": null,
            "width": null
          }
        },
        "c0cba0d0bc7b407ab9dbc2d266bd944a": {
          "model_module": "@jupyter-widgets/controls",
          "model_name": "ProgressStyleModel",
          "model_module_version": "1.5.0",
          "state": {
            "_model_module": "@jupyter-widgets/controls",
            "_model_module_version": "1.5.0",
            "_model_name": "ProgressStyleModel",
            "_view_count": null,
            "_view_module": "@jupyter-widgets/base",
            "_view_module_version": "1.2.0",
            "_view_name": "StyleView",
            "bar_color": null,
            "description_width": ""
          }
        },
        "9f2dae0f9f444876a22c1bc0eab17c16": {
          "model_module": "@jupyter-widgets/base",
          "model_name": "LayoutModel",
          "model_module_version": "1.2.0",
          "state": {
            "_model_module": "@jupyter-widgets/base",
            "_model_module_version": "1.2.0",
            "_model_name": "LayoutModel",
            "_view_count": null,
            "_view_module": "@jupyter-widgets/base",
            "_view_module_version": "1.2.0",
            "_view_name": "LayoutView",
            "align_content": null,
            "align_items": null,
            "align_self": null,
            "border": null,
            "bottom": null,
            "display": null,
            "flex": null,
            "flex_flow": null,
            "grid_area": null,
            "grid_auto_columns": null,
            "grid_auto_flow": null,
            "grid_auto_rows": null,
            "grid_column": null,
            "grid_gap": null,
            "grid_row": null,
            "grid_template_areas": null,
            "grid_template_columns": null,
            "grid_template_rows": null,
            "height": null,
            "justify_content": null,
            "justify_items": null,
            "left": null,
            "margin": null,
            "max_height": null,
            "max_width": null,
            "min_height": null,
            "min_width": null,
            "object_fit": null,
            "object_position": null,
            "order": null,
            "overflow": null,
            "overflow_x": null,
            "overflow_y": null,
            "padding": null,
            "right": null,
            "top": null,
            "visibility": null,
            "width": null
          }
        },
        "5f9e73565c3a4a7fa63345c98d0c8d1b": {
          "model_module": "@jupyter-widgets/controls",
          "model_name": "DescriptionStyleModel",
          "model_module_version": "1.5.0",
          "state": {
            "_model_module": "@jupyter-widgets/controls",
            "_model_module_version": "1.5.0",
            "_model_name": "DescriptionStyleModel",
            "_view_count": null,
            "_view_module": "@jupyter-widgets/base",
            "_view_module_version": "1.2.0",
            "_view_name": "StyleView",
            "description_width": ""
          }
        },
        "2a033b2fe1cc4f52bb50bb6548a549ae": {
          "model_module": "@jupyter-widgets/controls",
          "model_name": "HBoxModel",
          "model_module_version": "1.5.0",
          "state": {
            "_dom_classes": [],
            "_model_module": "@jupyter-widgets/controls",
            "_model_module_version": "1.5.0",
            "_model_name": "HBoxModel",
            "_view_count": null,
            "_view_module": "@jupyter-widgets/controls",
            "_view_module_version": "1.5.0",
            "_view_name": "HBoxView",
            "box_style": "",
            "children": [
              "IPY_MODEL_19d3f97f3a2242ecbf87df2148fd0896",
              "IPY_MODEL_2fdacee0fd0a4817a53c6701c44a996c",
              "IPY_MODEL_11d0462d0f7d4e27bd24f9b5406998eb"
            ],
            "layout": "IPY_MODEL_6c02578ac87c4939a4fcdab6b21bb9c5"
          }
        },
        "19d3f97f3a2242ecbf87df2148fd0896": {
          "model_module": "@jupyter-widgets/controls",
          "model_name": "HTMLModel",
          "model_module_version": "1.5.0",
          "state": {
            "_dom_classes": [],
            "_model_module": "@jupyter-widgets/controls",
            "_model_module_version": "1.5.0",
            "_model_name": "HTMLModel",
            "_view_count": null,
            "_view_module": "@jupyter-widgets/controls",
            "_view_module_version": "1.5.0",
            "_view_name": "HTMLView",
            "description": "",
            "description_tooltip": null,
            "layout": "IPY_MODEL_4bcf6f15f0444361bd7b3ce72bf1fb56",
            "placeholder": "​",
            "style": "IPY_MODEL_bf4b82e344864517bf83b52ddfe0bcbe",
            "value": "Shuffling ~/tensorflow_datasets/ted_hrlr_translate/pt_to_en/1.0.0.incompleteFRAFCZ/ted_hrlr_translate-test.tfrecord*...:   0%"
          }
        },
        "2fdacee0fd0a4817a53c6701c44a996c": {
          "model_module": "@jupyter-widgets/controls",
          "model_name": "FloatProgressModel",
          "model_module_version": "1.5.0",
          "state": {
            "_dom_classes": [],
            "_model_module": "@jupyter-widgets/controls",
            "_model_module_version": "1.5.0",
            "_model_name": "FloatProgressModel",
            "_view_count": null,
            "_view_module": "@jupyter-widgets/controls",
            "_view_module_version": "1.5.0",
            "_view_name": "ProgressView",
            "bar_style": "",
            "description": "",
            "description_tooltip": null,
            "layout": "IPY_MODEL_755d49b126f64fd7b9ea24ad3a386ef3",
            "max": 1803,
            "min": 0,
            "orientation": "horizontal",
            "style": "IPY_MODEL_62b4ec0f19e74ed5b60447b894967bbf",
            "value": 1803
          }
        },
        "11d0462d0f7d4e27bd24f9b5406998eb": {
          "model_module": "@jupyter-widgets/controls",
          "model_name": "HTMLModel",
          "model_module_version": "1.5.0",
          "state": {
            "_dom_classes": [],
            "_model_module": "@jupyter-widgets/controls",
            "_model_module_version": "1.5.0",
            "_model_name": "HTMLModel",
            "_view_count": null,
            "_view_module": "@jupyter-widgets/controls",
            "_view_module_version": "1.5.0",
            "_view_name": "HTMLView",
            "description": "",
            "description_tooltip": null,
            "layout": "IPY_MODEL_fb0c4056cd1c44b9ad20b8a63b7e1e04",
            "placeholder": "​",
            "style": "IPY_MODEL_2b149a3164804a94942a6c35a3e59628",
            "value": " 0/1803 [00:00&lt;?, ? examples/s]"
          }
        },
        "6c02578ac87c4939a4fcdab6b21bb9c5": {
          "model_module": "@jupyter-widgets/base",
          "model_name": "LayoutModel",
          "model_module_version": "1.2.0",
          "state": {
            "_model_module": "@jupyter-widgets/base",
            "_model_module_version": "1.2.0",
            "_model_name": "LayoutModel",
            "_view_count": null,
            "_view_module": "@jupyter-widgets/base",
            "_view_module_version": "1.2.0",
            "_view_name": "LayoutView",
            "align_content": null,
            "align_items": null,
            "align_self": null,
            "border": null,
            "bottom": null,
            "display": null,
            "flex": null,
            "flex_flow": null,
            "grid_area": null,
            "grid_auto_columns": null,
            "grid_auto_flow": null,
            "grid_auto_rows": null,
            "grid_column": null,
            "grid_gap": null,
            "grid_row": null,
            "grid_template_areas": null,
            "grid_template_columns": null,
            "grid_template_rows": null,
            "height": null,
            "justify_content": null,
            "justify_items": null,
            "left": null,
            "margin": null,
            "max_height": null,
            "max_width": null,
            "min_height": null,
            "min_width": null,
            "object_fit": null,
            "object_position": null,
            "order": null,
            "overflow": null,
            "overflow_x": null,
            "overflow_y": null,
            "padding": null,
            "right": null,
            "top": null,
            "visibility": null,
            "width": null
          }
        },
        "4bcf6f15f0444361bd7b3ce72bf1fb56": {
          "model_module": "@jupyter-widgets/base",
          "model_name": "LayoutModel",
          "model_module_version": "1.2.0",
          "state": {
            "_model_module": "@jupyter-widgets/base",
            "_model_module_version": "1.2.0",
            "_model_name": "LayoutModel",
            "_view_count": null,
            "_view_module": "@jupyter-widgets/base",
            "_view_module_version": "1.2.0",
            "_view_name": "LayoutView",
            "align_content": null,
            "align_items": null,
            "align_self": null,
            "border": null,
            "bottom": null,
            "display": null,
            "flex": null,
            "flex_flow": null,
            "grid_area": null,
            "grid_auto_columns": null,
            "grid_auto_flow": null,
            "grid_auto_rows": null,
            "grid_column": null,
            "grid_gap": null,
            "grid_row": null,
            "grid_template_areas": null,
            "grid_template_columns": null,
            "grid_template_rows": null,
            "height": null,
            "justify_content": null,
            "justify_items": null,
            "left": null,
            "margin": null,
            "max_height": null,
            "max_width": null,
            "min_height": null,
            "min_width": null,
            "object_fit": null,
            "object_position": null,
            "order": null,
            "overflow": null,
            "overflow_x": null,
            "overflow_y": null,
            "padding": null,
            "right": null,
            "top": null,
            "visibility": null,
            "width": null
          }
        },
        "bf4b82e344864517bf83b52ddfe0bcbe": {
          "model_module": "@jupyter-widgets/controls",
          "model_name": "DescriptionStyleModel",
          "model_module_version": "1.5.0",
          "state": {
            "_model_module": "@jupyter-widgets/controls",
            "_model_module_version": "1.5.0",
            "_model_name": "DescriptionStyleModel",
            "_view_count": null,
            "_view_module": "@jupyter-widgets/base",
            "_view_module_version": "1.2.0",
            "_view_name": "StyleView",
            "description_width": ""
          }
        },
        "755d49b126f64fd7b9ea24ad3a386ef3": {
          "model_module": "@jupyter-widgets/base",
          "model_name": "LayoutModel",
          "model_module_version": "1.2.0",
          "state": {
            "_model_module": "@jupyter-widgets/base",
            "_model_module_version": "1.2.0",
            "_model_name": "LayoutModel",
            "_view_count": null,
            "_view_module": "@jupyter-widgets/base",
            "_view_module_version": "1.2.0",
            "_view_name": "LayoutView",
            "align_content": null,
            "align_items": null,
            "align_self": null,
            "border": null,
            "bottom": null,
            "display": null,
            "flex": null,
            "flex_flow": null,
            "grid_area": null,
            "grid_auto_columns": null,
            "grid_auto_flow": null,
            "grid_auto_rows": null,
            "grid_column": null,
            "grid_gap": null,
            "grid_row": null,
            "grid_template_areas": null,
            "grid_template_columns": null,
            "grid_template_rows": null,
            "height": null,
            "justify_content": null,
            "justify_items": null,
            "left": null,
            "margin": null,
            "max_height": null,
            "max_width": null,
            "min_height": null,
            "min_width": null,
            "object_fit": null,
            "object_position": null,
            "order": null,
            "overflow": null,
            "overflow_x": null,
            "overflow_y": null,
            "padding": null,
            "right": null,
            "top": null,
            "visibility": null,
            "width": null
          }
        },
        "62b4ec0f19e74ed5b60447b894967bbf": {
          "model_module": "@jupyter-widgets/controls",
          "model_name": "ProgressStyleModel",
          "model_module_version": "1.5.0",
          "state": {
            "_model_module": "@jupyter-widgets/controls",
            "_model_module_version": "1.5.0",
            "_model_name": "ProgressStyleModel",
            "_view_count": null,
            "_view_module": "@jupyter-widgets/base",
            "_view_module_version": "1.2.0",
            "_view_name": "StyleView",
            "bar_color": null,
            "description_width": ""
          }
        },
        "fb0c4056cd1c44b9ad20b8a63b7e1e04": {
          "model_module": "@jupyter-widgets/base",
          "model_name": "LayoutModel",
          "model_module_version": "1.2.0",
          "state": {
            "_model_module": "@jupyter-widgets/base",
            "_model_module_version": "1.2.0",
            "_model_name": "LayoutModel",
            "_view_count": null,
            "_view_module": "@jupyter-widgets/base",
            "_view_module_version": "1.2.0",
            "_view_name": "LayoutView",
            "align_content": null,
            "align_items": null,
            "align_self": null,
            "border": null,
            "bottom": null,
            "display": null,
            "flex": null,
            "flex_flow": null,
            "grid_area": null,
            "grid_auto_columns": null,
            "grid_auto_flow": null,
            "grid_auto_rows": null,
            "grid_column": null,
            "grid_gap": null,
            "grid_row": null,
            "grid_template_areas": null,
            "grid_template_columns": null,
            "grid_template_rows": null,
            "height": null,
            "justify_content": null,
            "justify_items": null,
            "left": null,
            "margin": null,
            "max_height": null,
            "max_width": null,
            "min_height": null,
            "min_width": null,
            "object_fit": null,
            "object_position": null,
            "order": null,
            "overflow": null,
            "overflow_x": null,
            "overflow_y": null,
            "padding": null,
            "right": null,
            "top": null,
            "visibility": null,
            "width": null
          }
        },
        "2b149a3164804a94942a6c35a3e59628": {
          "model_module": "@jupyter-widgets/controls",
          "model_name": "DescriptionStyleModel",
          "model_module_version": "1.5.0",
          "state": {
            "_model_module": "@jupyter-widgets/controls",
            "_model_module_version": "1.5.0",
            "_model_name": "DescriptionStyleModel",
            "_view_count": null,
            "_view_module": "@jupyter-widgets/base",
            "_view_module_version": "1.2.0",
            "_view_name": "StyleView",
            "description_width": ""
          }
        }
      }
    }
  },
  "cells": [
    {
      "cell_type": "markdown",
      "metadata": {
        "id": "view-in-github",
        "colab_type": "text"
      },
      "source": [
        "<a href=\"https://colab.research.google.com/github/eulerianKnight/ExplainableAI/blob/main/Portugese_to_English_Transformer.ipynb\" target=\"_parent\"><img src=\"https://colab.research.google.com/assets/colab-badge.svg\" alt=\"Open In Colab\"/></a>"
      ]
    },
    {
      "cell_type": "code",
      "execution_count": null,
      "metadata": {
        "colab": {
          "base_uri": "https://localhost:8080/"
        },
        "id": "jDs3TxAtoro-",
        "outputId": "01ad68fe-c7bd-471d-8ba1-8061b340883b"
      },
      "outputs": [
        {
          "output_type": "stream",
          "name": "stdout",
          "text": [
            "Looking in indexes: https://pypi.org/simple, https://us-python.pkg.dev/colab-wheels/public/simple/\n",
            "Requirement already satisfied: tensorflow_datasets in /usr/local/lib/python3.7/dist-packages (4.6.0)\n",
            "Requirement already satisfied: numpy in /usr/local/lib/python3.7/dist-packages (from tensorflow_datasets) (1.21.6)\n",
            "Requirement already satisfied: etils[epath] in /usr/local/lib/python3.7/dist-packages (from tensorflow_datasets) (0.7.1)\n",
            "Requirement already satisfied: toml in /usr/local/lib/python3.7/dist-packages (from tensorflow_datasets) (0.10.2)\n",
            "Requirement already satisfied: dill in /usr/local/lib/python3.7/dist-packages (from tensorflow_datasets) (0.3.5.1)\n",
            "Requirement already satisfied: tqdm in /usr/local/lib/python3.7/dist-packages (from tensorflow_datasets) (4.64.0)\n",
            "Requirement already satisfied: requests>=2.19.0 in /usr/local/lib/python3.7/dist-packages (from tensorflow_datasets) (2.23.0)\n",
            "Requirement already satisfied: protobuf>=3.12.2 in /usr/local/lib/python3.7/dist-packages (from tensorflow_datasets) (3.17.3)\n",
            "Requirement already satisfied: absl-py in /usr/local/lib/python3.7/dist-packages (from tensorflow_datasets) (1.2.0)\n",
            "Requirement already satisfied: termcolor in /usr/local/lib/python3.7/dist-packages (from tensorflow_datasets) (1.1.0)\n",
            "Requirement already satisfied: six in /usr/local/lib/python3.7/dist-packages (from tensorflow_datasets) (1.15.0)\n",
            "Requirement already satisfied: importlib-resources in /usr/local/lib/python3.7/dist-packages (from tensorflow_datasets) (5.9.0)\n",
            "Requirement already satisfied: typing-extensions in /usr/local/lib/python3.7/dist-packages (from tensorflow_datasets) (4.1.1)\n",
            "Requirement already satisfied: tensorflow-metadata in /usr/local/lib/python3.7/dist-packages (from tensorflow_datasets) (1.9.0)\n",
            "Requirement already satisfied: promise in /usr/local/lib/python3.7/dist-packages (from tensorflow_datasets) (2.3)\n",
            "Requirement already satisfied: certifi>=2017.4.17 in /usr/local/lib/python3.7/dist-packages (from requests>=2.19.0->tensorflow_datasets) (2022.6.15)\n",
            "Requirement already satisfied: idna<3,>=2.5 in /usr/local/lib/python3.7/dist-packages (from requests>=2.19.0->tensorflow_datasets) (2.10)\n",
            "Requirement already satisfied: chardet<4,>=3.0.2 in /usr/local/lib/python3.7/dist-packages (from requests>=2.19.0->tensorflow_datasets) (3.0.4)\n",
            "Requirement already satisfied: urllib3!=1.25.0,!=1.25.1,<1.26,>=1.21.1 in /usr/local/lib/python3.7/dist-packages (from requests>=2.19.0->tensorflow_datasets) (1.24.3)\n",
            "Requirement already satisfied: zipp in /usr/local/lib/python3.7/dist-packages (from etils[epath]->tensorflow_datasets) (3.8.1)\n",
            "Requirement already satisfied: googleapis-common-protos<2,>=1.52.0 in /usr/local/lib/python3.7/dist-packages (from tensorflow-metadata->tensorflow_datasets) (1.56.4)\n",
            "Looking in indexes: https://pypi.org/simple, https://us-python.pkg.dev/colab-wheels/public/simple/\n",
            "Collecting tensorflow-text==2.8.*\n",
            "  Downloading tensorflow_text-2.8.2-cp37-cp37m-manylinux_2_12_x86_64.manylinux2010_x86_64.whl (4.9 MB)\n",
            "\u001b[K     |████████████████████████████████| 4.9 MB 35.5 MB/s \n",
            "\u001b[?25hRequirement already satisfied: tensorflow-hub>=0.8.0 in /usr/local/lib/python3.7/dist-packages (from tensorflow-text==2.8.*) (0.12.0)\n",
            "Requirement already satisfied: tensorflow<2.9,>=2.8.0 in /usr/local/lib/python3.7/dist-packages (from tensorflow-text==2.8.*) (2.8.2+zzzcolab20220719082949)\n",
            "Requirement already satisfied: tensorflow-estimator<2.9,>=2.8 in /usr/local/lib/python3.7/dist-packages (from tensorflow<2.9,>=2.8.0->tensorflow-text==2.8.*) (2.8.0)\n",
            "Requirement already satisfied: wrapt>=1.11.0 in /usr/local/lib/python3.7/dist-packages (from tensorflow<2.9,>=2.8.0->tensorflow-text==2.8.*) (1.14.1)\n",
            "Requirement already satisfied: absl-py>=0.4.0 in /usr/local/lib/python3.7/dist-packages (from tensorflow<2.9,>=2.8.0->tensorflow-text==2.8.*) (1.2.0)\n",
            "Requirement already satisfied: grpcio<2.0,>=1.24.3 in /usr/local/lib/python3.7/dist-packages (from tensorflow<2.9,>=2.8.0->tensorflow-text==2.8.*) (1.47.0)\n",
            "Requirement already satisfied: typing-extensions>=3.6.6 in /usr/local/lib/python3.7/dist-packages (from tensorflow<2.9,>=2.8.0->tensorflow-text==2.8.*) (4.1.1)\n",
            "Requirement already satisfied: opt-einsum>=2.3.2 in /usr/local/lib/python3.7/dist-packages (from tensorflow<2.9,>=2.8.0->tensorflow-text==2.8.*) (3.3.0)\n",
            "Requirement already satisfied: tensorflow-io-gcs-filesystem>=0.23.1 in /usr/local/lib/python3.7/dist-packages (from tensorflow<2.9,>=2.8.0->tensorflow-text==2.8.*) (0.26.0)\n",
            "Requirement already satisfied: astunparse>=1.6.0 in /usr/local/lib/python3.7/dist-packages (from tensorflow<2.9,>=2.8.0->tensorflow-text==2.8.*) (1.6.3)\n",
            "Requirement already satisfied: h5py>=2.9.0 in /usr/local/lib/python3.7/dist-packages (from tensorflow<2.9,>=2.8.0->tensorflow-text==2.8.*) (3.1.0)\n",
            "Requirement already satisfied: protobuf<3.20,>=3.9.2 in /usr/local/lib/python3.7/dist-packages (from tensorflow<2.9,>=2.8.0->tensorflow-text==2.8.*) (3.17.3)\n",
            "Requirement already satisfied: libclang>=9.0.1 in /usr/local/lib/python3.7/dist-packages (from tensorflow<2.9,>=2.8.0->tensorflow-text==2.8.*) (14.0.6)\n",
            "Requirement already satisfied: tensorboard<2.9,>=2.8 in /usr/local/lib/python3.7/dist-packages (from tensorflow<2.9,>=2.8.0->tensorflow-text==2.8.*) (2.8.0)\n",
            "Requirement already satisfied: six>=1.12.0 in /usr/local/lib/python3.7/dist-packages (from tensorflow<2.9,>=2.8.0->tensorflow-text==2.8.*) (1.15.0)\n",
            "Requirement already satisfied: termcolor>=1.1.0 in /usr/local/lib/python3.7/dist-packages (from tensorflow<2.9,>=2.8.0->tensorflow-text==2.8.*) (1.1.0)\n",
            "Requirement already satisfied: flatbuffers>=1.12 in /usr/local/lib/python3.7/dist-packages (from tensorflow<2.9,>=2.8.0->tensorflow-text==2.8.*) (2.0)\n",
            "Requirement already satisfied: google-pasta>=0.1.1 in /usr/local/lib/python3.7/dist-packages (from tensorflow<2.9,>=2.8.0->tensorflow-text==2.8.*) (0.2.0)\n",
            "Requirement already satisfied: keras-preprocessing>=1.1.1 in /usr/local/lib/python3.7/dist-packages (from tensorflow<2.9,>=2.8.0->tensorflow-text==2.8.*) (1.1.2)\n",
            "Requirement already satisfied: keras<2.9,>=2.8.0rc0 in /usr/local/lib/python3.7/dist-packages (from tensorflow<2.9,>=2.8.0->tensorflow-text==2.8.*) (2.8.0)\n",
            "Requirement already satisfied: gast>=0.2.1 in /usr/local/lib/python3.7/dist-packages (from tensorflow<2.9,>=2.8.0->tensorflow-text==2.8.*) (0.5.3)\n",
            "Requirement already satisfied: numpy>=1.20 in /usr/local/lib/python3.7/dist-packages (from tensorflow<2.9,>=2.8.0->tensorflow-text==2.8.*) (1.21.6)\n",
            "Requirement already satisfied: setuptools in /usr/local/lib/python3.7/dist-packages (from tensorflow<2.9,>=2.8.0->tensorflow-text==2.8.*) (57.4.0)\n",
            "Requirement already satisfied: wheel<1.0,>=0.23.0 in /usr/local/lib/python3.7/dist-packages (from astunparse>=1.6.0->tensorflow<2.9,>=2.8.0->tensorflow-text==2.8.*) (0.37.1)\n",
            "Requirement already satisfied: cached-property in /usr/local/lib/python3.7/dist-packages (from h5py>=2.9.0->tensorflow<2.9,>=2.8.0->tensorflow-text==2.8.*) (1.5.2)\n",
            "Requirement already satisfied: markdown>=2.6.8 in /usr/local/lib/python3.7/dist-packages (from tensorboard<2.9,>=2.8->tensorflow<2.9,>=2.8.0->tensorflow-text==2.8.*) (3.4.1)\n",
            "Requirement already satisfied: tensorboard-data-server<0.7.0,>=0.6.0 in /usr/local/lib/python3.7/dist-packages (from tensorboard<2.9,>=2.8->tensorflow<2.9,>=2.8.0->tensorflow-text==2.8.*) (0.6.1)\n",
            "Requirement already satisfied: google-auth<3,>=1.6.3 in /usr/local/lib/python3.7/dist-packages (from tensorboard<2.9,>=2.8->tensorflow<2.9,>=2.8.0->tensorflow-text==2.8.*) (1.35.0)\n",
            "Requirement already satisfied: werkzeug>=0.11.15 in /usr/local/lib/python3.7/dist-packages (from tensorboard<2.9,>=2.8->tensorflow<2.9,>=2.8.0->tensorflow-text==2.8.*) (1.0.1)\n",
            "Requirement already satisfied: requests<3,>=2.21.0 in /usr/local/lib/python3.7/dist-packages (from tensorboard<2.9,>=2.8->tensorflow<2.9,>=2.8.0->tensorflow-text==2.8.*) (2.23.0)\n",
            "Requirement already satisfied: google-auth-oauthlib<0.5,>=0.4.1 in /usr/local/lib/python3.7/dist-packages (from tensorboard<2.9,>=2.8->tensorflow<2.9,>=2.8.0->tensorflow-text==2.8.*) (0.4.6)\n",
            "Requirement already satisfied: tensorboard-plugin-wit>=1.6.0 in /usr/local/lib/python3.7/dist-packages (from tensorboard<2.9,>=2.8->tensorflow<2.9,>=2.8.0->tensorflow-text==2.8.*) (1.8.1)\n",
            "Requirement already satisfied: rsa<5,>=3.1.4 in /usr/local/lib/python3.7/dist-packages (from google-auth<3,>=1.6.3->tensorboard<2.9,>=2.8->tensorflow<2.9,>=2.8.0->tensorflow-text==2.8.*) (4.9)\n",
            "Requirement already satisfied: pyasn1-modules>=0.2.1 in /usr/local/lib/python3.7/dist-packages (from google-auth<3,>=1.6.3->tensorboard<2.9,>=2.8->tensorflow<2.9,>=2.8.0->tensorflow-text==2.8.*) (0.2.8)\n",
            "Requirement already satisfied: cachetools<5.0,>=2.0.0 in /usr/local/lib/python3.7/dist-packages (from google-auth<3,>=1.6.3->tensorboard<2.9,>=2.8->tensorflow<2.9,>=2.8.0->tensorflow-text==2.8.*) (4.2.4)\n",
            "Requirement already satisfied: requests-oauthlib>=0.7.0 in /usr/local/lib/python3.7/dist-packages (from google-auth-oauthlib<0.5,>=0.4.1->tensorboard<2.9,>=2.8->tensorflow<2.9,>=2.8.0->tensorflow-text==2.8.*) (1.3.1)\n",
            "Requirement already satisfied: importlib-metadata>=4.4 in /usr/local/lib/python3.7/dist-packages (from markdown>=2.6.8->tensorboard<2.9,>=2.8->tensorflow<2.9,>=2.8.0->tensorflow-text==2.8.*) (4.12.0)\n",
            "Requirement already satisfied: zipp>=0.5 in /usr/local/lib/python3.7/dist-packages (from importlib-metadata>=4.4->markdown>=2.6.8->tensorboard<2.9,>=2.8->tensorflow<2.9,>=2.8.0->tensorflow-text==2.8.*) (3.8.1)\n",
            "Requirement already satisfied: pyasn1<0.5.0,>=0.4.6 in /usr/local/lib/python3.7/dist-packages (from pyasn1-modules>=0.2.1->google-auth<3,>=1.6.3->tensorboard<2.9,>=2.8->tensorflow<2.9,>=2.8.0->tensorflow-text==2.8.*) (0.4.8)\n",
            "Requirement already satisfied: idna<3,>=2.5 in /usr/local/lib/python3.7/dist-packages (from requests<3,>=2.21.0->tensorboard<2.9,>=2.8->tensorflow<2.9,>=2.8.0->tensorflow-text==2.8.*) (2.10)\n",
            "Requirement already satisfied: chardet<4,>=3.0.2 in /usr/local/lib/python3.7/dist-packages (from requests<3,>=2.21.0->tensorboard<2.9,>=2.8->tensorflow<2.9,>=2.8.0->tensorflow-text==2.8.*) (3.0.4)\n",
            "Requirement already satisfied: certifi>=2017.4.17 in /usr/local/lib/python3.7/dist-packages (from requests<3,>=2.21.0->tensorboard<2.9,>=2.8->tensorflow<2.9,>=2.8.0->tensorflow-text==2.8.*) (2022.6.15)\n",
            "Requirement already satisfied: urllib3!=1.25.0,!=1.25.1,<1.26,>=1.21.1 in /usr/local/lib/python3.7/dist-packages (from requests<3,>=2.21.0->tensorboard<2.9,>=2.8->tensorflow<2.9,>=2.8.0->tensorflow-text==2.8.*) (1.24.3)\n",
            "Requirement already satisfied: oauthlib>=3.0.0 in /usr/local/lib/python3.7/dist-packages (from requests-oauthlib>=0.7.0->google-auth-oauthlib<0.5,>=0.4.1->tensorboard<2.9,>=2.8->tensorflow<2.9,>=2.8.0->tensorflow-text==2.8.*) (3.2.0)\n",
            "Installing collected packages: tensorflow-text\n",
            "Successfully installed tensorflow-text-2.8.2\n"
          ]
        }
      ],
      "source": [
        "# Setup\n",
        "!pip install tensorflow_datasets\n",
        "!pip install -U 'tensorflow-text==2.8.*'"
      ]
    },
    {
      "cell_type": "code",
      "source": [
        "import logging\n",
        "import time\n",
        "import pandas as pd\n",
        "import numpy as np\n",
        "import matplotlib.pyplot as plt\n",
        "import tensorflow_datasets as tfds\n",
        "import tensorflow as tf\n",
        "import tensorflow_text as text"
      ],
      "metadata": {
        "id": "tFfXT4a1pDpw"
      },
      "execution_count": null,
      "outputs": []
    },
    {
      "cell_type": "markdown",
      "source": [
        "### Get the Data"
      ],
      "metadata": {
        "id": "CfMVutUMxf8E"
      }
    },
    {
      "cell_type": "code",
      "source": [
        "examples, metadata = tfds.load('ted_hrlr_translate/pt_to_en', with_info=True,\n",
        "                               as_supervised=True)\n",
        "train_examples, val_examples = examples['train'], examples['validation']"
      ],
      "metadata": {
        "colab": {
          "base_uri": "https://localhost:8080/",
          "height": 169,
          "referenced_widgets": [
            "30ae298cb8a04ee3a0067119b68e2276",
            "e22b216ec49d4162bc44b0446de83518",
            "9eb3456c0dcf4baa866f8190e6dec63c",
            "ce5e8640d686447093a5db22cec291e3",
            "28baaf16f8cc450cb75f06de738945a6",
            "b6ae0b1711d94cecb34c1655f98554cf",
            "8cc204a2897941a982888de8d889cb39",
            "7b9f8d0b1b184afd8ef6b538afde5147",
            "a6ebd8cdfd1c4b72ab178bdb2916fd52",
            "8d91bacc423c42e7bb3a5e967e8d63c0",
            "be5ef9a25e3249fa9fc664394420cd93",
            "2040f5e55d7f49019470ca41dc652554",
            "34f72c22ba1a47bdabb96d82264fe20a",
            "5fffd57da2594786bc24b22f1510b80b",
            "03d72ac2615b441d82eefdc12206b9f2",
            "7252097341e2448096c5fadb40478bf0",
            "3e734590ff0b4033bfa8b423d15630e8",
            "1cfe83fff850409c9f2378d6bdfe9ff5",
            "e0c1f09992cb4040b69c8bfa54c71a32",
            "9a91c90887254f59a075485e4a5add0c",
            "c0a9799a817c4298b4f067ba7d5be8c8",
            "da14e5758f8e475d9a84e31158b73801",
            "e1b3654bf86e4fa384a09ffe24e0b277",
            "a1582af1c329490b9bbaaf6ee04d273b",
            "426f79601dfd4ccd8df407b0056875ce",
            "591694b39e48460d81b788b1327db129",
            "4e08304eda4447b8a06f88a4be10ef45",
            "5e531b35b87c44e39a33a4cbae86d012",
            "5abbaf88077443698498674c48e2b7dc",
            "e0ab4da45deb441b80a9de9b65f84094",
            "1d8eaf26e25a4ac883d570a731d0a7eb",
            "7ecfe3cbe69b41b1a6e5e500af25efe5",
            "19bbad64d9f94658bfd57a3fefb68315",
            "e03793b297334016b1f4fa923cb28e1e",
            "01604b5ab77142f8b1e478b4c4d0e66d",
            "4e46ecdb740b47089461c77728b59d14",
            "ecc9139caa884f348cb58b0a2e6974aa",
            "3cf5383731844d69b20571dce37fc5f3",
            "c3c5092d6155463ab6dbbf157cf5a350",
            "0e6066d4c98f481088dd916861a912d4",
            "b816647d03bc49aa94c842d630eee60b",
            "c66fd9ca532741419547ac387fab4ebc",
            "01f13e07af694139a6ee2e2c0f15154c",
            "278daad606f3428c8754773c89ba7cb8",
            "cf51c20f8d434daeb185143b077e08a4",
            "480c941d53f344f4a10941e002a955ef",
            "a9857e91a6f346a7bcb86ffbb4b1caf8",
            "37457dba859b4f538808b033beeccadd",
            "4b1b8c708e2b47788654cd366a5721d0",
            "20db550b1a3b4592be49af6bec9598ec",
            "2908646fe56d4f139cedb56961e69bd4",
            "616c2c26296e4f5e9a09aa987a47b29c",
            "1c29fdfd681b49a184979359265d43a5",
            "0a1f615c1f8a4b4383c35a14a0301c80",
            "f81ed24d04ac4dfb82f46cbddafd96ce",
            "49fa7166118744aab5ea58d0a42cd185",
            "75e9987e3c0c442a9f57a8b2e0d22a91",
            "667bc93bf0e548a1975bce38cb1f3b6e",
            "2a82033116034fcabfbe2ec18db1a644",
            "7799f2cd19d94f76afb84e2333930162",
            "8749d245a19140368fe078fdd7f055ba",
            "ef0abb5b6ded41adaf9869612ebc7bce",
            "749133c6129946e9940e634196b410ec",
            "c13b6543ac054df7ad2f0d0f03478698",
            "ce97369af88940d392911bac4d504ed1",
            "ee3efeed80e74edcaf3e08f1db5c8b98",
            "488c80bf48594c0e916ba2c752cb0556",
            "5c3cebe9503048a7b4bb77a114eafa2a",
            "b495949e6edf4f80bb33f5366974e8c2",
            "0edd15e1007d4cf38132c441c210861e",
            "3984be230bc84a66be31015fd18136ec",
            "7b2cbfaf7f2e49b78a72b752343ac2bf",
            "42018cfccf6a496ebb65b66a04c79547",
            "a010e1560bcd4d8cbc416c70d7b7bcbd",
            "c510ab02ab5740cea7fff077848a82c4",
            "a359c37afb15410e83b88f21c9f50183",
            "315b0e2f220146b3a7c9b1b017a20ca1",
            "45552b31025e405e8154d070a16fa8b9",
            "d89b4a155c954ec2adc4fc34640652d0",
            "056bdc8a5472417f90509f00b0cb07ff",
            "e12613820adf4969830da6c0ab753f59",
            "79ef4562a9fe4d3886c8cfc0335009ca",
            "8c50a5120afb43d88495bbe5191030d0",
            "4ef083577f044c8ab41b5ce94fd99cbe",
            "115c90327b2f4d248f549c98d83aa5b9",
            "d1789978cddc4c509fe21cc39b907b40",
            "034b748fc24b44de81d5225f719eae86",
            "5cd3944e85b9464c981f39207b56c23f",
            "7c50a2735cd64c06a508c214b9240f73",
            "3f4eb7071fd34b1fb42c614ba7916a22",
            "3c6b63d1ac224d969cb866f711cdcb0d",
            "b21c16e36fca48c6991c5c8dca552d09",
            "b716635b41ff42d2b97eee577b52afb7",
            "ab67e747cf764a28a342d5d362ccefb1",
            "69cb51f573cd47508e3ee8eae197691a",
            "0d4bf55d4b03493399c14639e586ed9a",
            "c0cba0d0bc7b407ab9dbc2d266bd944a",
            "9f2dae0f9f444876a22c1bc0eab17c16",
            "5f9e73565c3a4a7fa63345c98d0c8d1b",
            "2a033b2fe1cc4f52bb50bb6548a549ae",
            "19d3f97f3a2242ecbf87df2148fd0896",
            "2fdacee0fd0a4817a53c6701c44a996c",
            "11d0462d0f7d4e27bd24f9b5406998eb",
            "6c02578ac87c4939a4fcdab6b21bb9c5",
            "4bcf6f15f0444361bd7b3ce72bf1fb56",
            "bf4b82e344864517bf83b52ddfe0bcbe",
            "755d49b126f64fd7b9ea24ad3a386ef3",
            "62b4ec0f19e74ed5b60447b894967bbf",
            "fb0c4056cd1c44b9ad20b8a63b7e1e04",
            "2b149a3164804a94942a6c35a3e59628"
          ]
        },
        "id": "v-9J99IXxjKc",
        "outputId": "a2379915-8c97-42bf-ca37-bc0af3fa2023"
      },
      "execution_count": null,
      "outputs": [
        {
          "output_type": "stream",
          "name": "stdout",
          "text": [
            "\u001b[1mDownloading and preparing dataset 124.94 MiB (download: 124.94 MiB, generated: Unknown size, total: 124.94 MiB) to ~/tensorflow_datasets/ted_hrlr_translate/pt_to_en/1.0.0...\u001b[0m\n"
          ]
        },
        {
          "output_type": "display_data",
          "data": {
            "text/plain": [
              "Dl Completed...: 0 url [00:00, ? url/s]"
            ],
            "application/vnd.jupyter.widget-view+json": {
              "version_major": 2,
              "version_minor": 0,
              "model_id": "30ae298cb8a04ee3a0067119b68e2276"
            }
          },
          "metadata": {}
        },
        {
          "output_type": "display_data",
          "data": {
            "text/plain": [
              "Dl Size...: 0 MiB [00:00, ? MiB/s]"
            ],
            "application/vnd.jupyter.widget-view+json": {
              "version_major": 2,
              "version_minor": 0,
              "model_id": "2040f5e55d7f49019470ca41dc652554"
            }
          },
          "metadata": {}
        },
        {
          "output_type": "display_data",
          "data": {
            "text/plain": [
              "Extraction completed...: 0 file [00:00, ? file/s]"
            ],
            "application/vnd.jupyter.widget-view+json": {
              "version_major": 2,
              "version_minor": 0,
              "model_id": "e1b3654bf86e4fa384a09ffe24e0b277"
            }
          },
          "metadata": {}
        },
        {
          "output_type": "display_data",
          "data": {
            "text/plain": [
              "Generating splits...:   0%|          | 0/3 [00:00<?, ? splits/s]"
            ],
            "application/vnd.jupyter.widget-view+json": {
              "version_major": 2,
              "version_minor": 0,
              "model_id": "e03793b297334016b1f4fa923cb28e1e"
            }
          },
          "metadata": {}
        },
        {
          "output_type": "display_data",
          "data": {
            "text/plain": [
              "Generating train examples...:   0%|          | 0/51785 [00:00<?, ? examples/s]"
            ],
            "application/vnd.jupyter.widget-view+json": {
              "version_major": 2,
              "version_minor": 0,
              "model_id": "cf51c20f8d434daeb185143b077e08a4"
            }
          },
          "metadata": {}
        },
        {
          "output_type": "display_data",
          "data": {
            "text/plain": [
              "Shuffling ~/tensorflow_datasets/ted_hrlr_translate/pt_to_en/1.0.0.incompleteFRAFCZ/ted_hrlr_translate-train.tf…"
            ],
            "application/vnd.jupyter.widget-view+json": {
              "version_major": 2,
              "version_minor": 0,
              "model_id": "49fa7166118744aab5ea58d0a42cd185"
            }
          },
          "metadata": {}
        },
        {
          "output_type": "display_data",
          "data": {
            "text/plain": [
              "Generating validation examples...:   0%|          | 0/1193 [00:00<?, ? examples/s]"
            ],
            "application/vnd.jupyter.widget-view+json": {
              "version_major": 2,
              "version_minor": 0,
              "model_id": "488c80bf48594c0e916ba2c752cb0556"
            }
          },
          "metadata": {}
        },
        {
          "output_type": "display_data",
          "data": {
            "text/plain": [
              "Shuffling ~/tensorflow_datasets/ted_hrlr_translate/pt_to_en/1.0.0.incompleteFRAFCZ/ted_hrlr_translate-validati…"
            ],
            "application/vnd.jupyter.widget-view+json": {
              "version_major": 2,
              "version_minor": 0,
              "model_id": "45552b31025e405e8154d070a16fa8b9"
            }
          },
          "metadata": {}
        },
        {
          "output_type": "display_data",
          "data": {
            "text/plain": [
              "Generating test examples...:   0%|          | 0/1803 [00:00<?, ? examples/s]"
            ],
            "application/vnd.jupyter.widget-view+json": {
              "version_major": 2,
              "version_minor": 0,
              "model_id": "7c50a2735cd64c06a508c214b9240f73"
            }
          },
          "metadata": {}
        },
        {
          "output_type": "display_data",
          "data": {
            "text/plain": [
              "Shuffling ~/tensorflow_datasets/ted_hrlr_translate/pt_to_en/1.0.0.incompleteFRAFCZ/ted_hrlr_translate-test.tfr…"
            ],
            "application/vnd.jupyter.widget-view+json": {
              "version_major": 2,
              "version_minor": 0,
              "model_id": "2a033b2fe1cc4f52bb50bb6548a549ae"
            }
          },
          "metadata": {}
        },
        {
          "output_type": "stream",
          "name": "stdout",
          "text": [
            "\u001b[1mDataset ted_hrlr_translate downloaded and prepared to ~/tensorflow_datasets/ted_hrlr_translate/pt_to_en/1.0.0. Subsequent calls will reuse this data.\u001b[0m\n"
          ]
        }
      ]
    },
    {
      "cell_type": "code",
      "source": [
        "for pt_examples, en_examples in train_examples.batch(3).take(1):\n",
        "  for pt in pt_examples.numpy():\n",
        "    print(pt.decode('utf-8'))\n",
        "\n",
        "  print()\n",
        "\n",
        "  for en in en_examples.numpy():\n",
        "    print(en.decode('utf-8'))"
      ],
      "metadata": {
        "colab": {
          "base_uri": "https://localhost:8080/"
        },
        "id": "CxWAySLCzEk2",
        "outputId": "556b9fa9-8310-4855-ecff-01eae4ad2331"
      },
      "execution_count": null,
      "outputs": [
        {
          "output_type": "stream",
          "name": "stdout",
          "text": [
            "e quando melhoramos a procura , tiramos a única vantagem da impressão , que é a serendipidade .\n",
            "mas e se estes fatores fossem ativos ?\n",
            "mas eles não tinham a curiosidade de me testar .\n",
            "\n",
            "and when you improve searchability , you actually take away the one advantage of print , which is serendipity .\n",
            "but what if it were active ?\n",
            "but they did n't test for curiosity .\n"
          ]
        }
      ]
    },
    {
      "cell_type": "markdown",
      "source": [
        "### Tokenization"
      ],
      "metadata": {
        "id": "0nmU9alCzfgP"
      }
    },
    {
      "cell_type": "code",
      "source": [
        "model_name = 'ted_hrlr_translate_pt_en_converter'\n",
        "tf.keras.utils.get_file(\n",
        "    f'{model_name}.zip',\n",
        "    f'https://storage.googleapis.com/download.tensorflow.org/models/{model_name}.zip',\n",
        "    cache_dir='.', cache_subdir='', extract=True\n",
        ")"
      ],
      "metadata": {
        "colab": {
          "base_uri": "https://localhost:8080/",
          "height": 89
        },
        "id": "I06Vd0bHzid0",
        "outputId": "4dd182e0-e4ce-4c56-d2ab-ff696fc39a27"
      },
      "execution_count": null,
      "outputs": [
        {
          "output_type": "stream",
          "name": "stdout",
          "text": [
            "Downloading data from https://storage.googleapis.com/download.tensorflow.org/models/ted_hrlr_translate_pt_en_converter.zip\n",
            "188416/184801 [==============================] - 0s 0us/step\n",
            "196608/184801 [===============================] - 0s 0us/step\n"
          ]
        },
        {
          "output_type": "execute_result",
          "data": {
            "text/plain": [
              "'./ted_hrlr_translate_pt_en_converter.zip'"
            ],
            "application/vnd.google.colaboratory.intrinsic+json": {
              "type": "string"
            }
          },
          "metadata": {},
          "execution_count": 5
        }
      ]
    },
    {
      "cell_type": "code",
      "source": [
        "tokenizers = tf.saved_model.load(model_name)"
      ],
      "metadata": {
        "id": "fXZs-Pfm0ML6"
      },
      "execution_count": null,
      "outputs": []
    },
    {
      "cell_type": "code",
      "source": [
        "for en in en_examples.numpy():\n",
        "  print(en.decode('utf-8'))"
      ],
      "metadata": {
        "colab": {
          "base_uri": "https://localhost:8080/"
        },
        "id": "HcwK_VeG0R94",
        "outputId": "3a4cd17d-33b3-4237-fdfd-dd601b8b67d6"
      },
      "execution_count": null,
      "outputs": [
        {
          "output_type": "stream",
          "name": "stdout",
          "text": [
            "and when you improve searchability , you actually take away the one advantage of print , which is serendipity .\n",
            "but what if it were active ?\n",
            "but they did n't test for curiosity .\n"
          ]
        }
      ]
    },
    {
      "cell_type": "code",
      "source": [
        "encoded = tokenizers.en.tokenize(en_examples)\n",
        "\n",
        "for row in encoded.to_list():\n",
        "  print(row)"
      ],
      "metadata": {
        "colab": {
          "base_uri": "https://localhost:8080/"
        },
        "id": "OaOMImIG0YOc",
        "outputId": "9e2fdc72-845e-4e17-e164-f415de2dbc0d"
      },
      "execution_count": null,
      "outputs": [
        {
          "output_type": "stream",
          "name": "stdout",
          "text": [
            "[2, 72, 117, 79, 1259, 1491, 2362, 13, 79, 150, 184, 311, 71, 103, 2308, 74, 2679, 13, 148, 80, 55, 4840, 1434, 2423, 540, 15, 3]\n",
            "[2, 87, 90, 107, 76, 129, 1852, 30, 3]\n",
            "[2, 87, 83, 149, 50, 9, 56, 664, 85, 2512, 15, 3]\n"
          ]
        }
      ]
    },
    {
      "cell_type": "code",
      "source": [
        "round_trip = tokenizers.en.detokenize(encoded)\n",
        "for line in round_trip.numpy():\n",
        "  print(line.decode('utf-8'))"
      ],
      "metadata": {
        "colab": {
          "base_uri": "https://localhost:8080/"
        },
        "id": "1d7B_3dJ0mof",
        "outputId": "a22b9585-8203-4ce5-ef10-a33092e7f994"
      },
      "execution_count": null,
      "outputs": [
        {
          "output_type": "stream",
          "name": "stdout",
          "text": [
            "and when you improve searchability , you actually take away the one advantage of print , which is serendipity .\n",
            "but what if it were active ?\n",
            "but they did n ' t test for curiosity .\n"
          ]
        }
      ]
    },
    {
      "cell_type": "code",
      "source": [
        "tokens = tokenizers.en.lookup(encoded)\n",
        "tokens"
      ],
      "metadata": {
        "colab": {
          "base_uri": "https://localhost:8080/"
        },
        "id": "1jqZPiRc0ohr",
        "outputId": "85beadd5-1151-443c-a2c5-6bcfd8c8e9f8"
      },
      "execution_count": null,
      "outputs": [
        {
          "output_type": "execute_result",
          "data": {
            "text/plain": [
              "<tf.RaggedTensor [[b'[START]', b'and', b'when', b'you', b'improve', b'search', b'##ability',\n",
              "  b',', b'you', b'actually', b'take', b'away', b'the', b'one', b'advantage',\n",
              "  b'of', b'print', b',', b'which', b'is', b's', b'##ere', b'##nd', b'##ip',\n",
              "  b'##ity', b'.', b'[END]']                                                 ,\n",
              " [b'[START]', b'but', b'what', b'if', b'it', b'were', b'active', b'?',\n",
              "  b'[END]']                                                           ,\n",
              " [b'[START]', b'but', b'they', b'did', b'n', b\"'\", b't', b'test', b'for',\n",
              "  b'curiosity', b'.', b'[END]']                                          ]>"
            ]
          },
          "metadata": {},
          "execution_count": 10
        }
      ]
    },
    {
      "cell_type": "code",
      "source": [
        "lengths = []\n",
        "\n",
        "for pt_examples, en_examples in train_examples.batch(1024):\n",
        "  pt_tokens = tokenizers.en.tokenize(pt_examples)\n",
        "  lengths.append(pt_tokens.row_lengths())\n",
        "\n",
        "  en_tokens = tokenizers.en.tokenize(en_examples)\n",
        "  lengths.append(en_tokens.row_lengths())\n",
        "  print('.', end='', flush=True)"
      ],
      "metadata": {
        "colab": {
          "base_uri": "https://localhost:8080/"
        },
        "id": "tu6DGsKd6dt1",
        "outputId": "0b21bc8b-5444-4ea2-c408-b57ad90c0b5b"
      },
      "execution_count": null,
      "outputs": [
        {
          "output_type": "stream",
          "name": "stdout",
          "text": [
            "..................................................."
          ]
        }
      ]
    },
    {
      "cell_type": "code",
      "source": [
        "all_lengths = np.concatenate(lengths)\n",
        "\n",
        "plt.hist(all_lengths, np.linspace(0, 500, 101))\n",
        "plt.ylim(plt.ylim())\n",
        "max_length = max(all_lengths)\n",
        "plt.plot([max_length, max_length], plt.ylim())\n",
        "plt.title(f'Max tokens per example: {max_length}');"
      ],
      "metadata": {
        "colab": {
          "base_uri": "https://localhost:8080/",
          "height": 281
        },
        "id": "-Cvk_CXl6g0T",
        "outputId": "b099ac61-acc0-4e0d-8af3-9091b366dccd"
      },
      "execution_count": null,
      "outputs": [
        {
          "output_type": "display_data",
          "data": {
            "text/plain": [
              "<Figure size 432x288 with 1 Axes>"
            ],
            "image/png": "[encoded data removed]"
          },
          "metadata": {
            "needs_background": "light"
          }
        }
      ]
    },
    {
      "cell_type": "code",
      "source": [
        "# Drop Examples longer than 128\n",
        "MAX_TOKENS = 128\n",
        "def filter_max_tokens(pt, en):\n",
        "  num_tokens = tf.maximum(tf.shape(pt)[1],tf.shape(en)[1])\n",
        "  return num_tokens < MAX_TOKENS\n",
        "\n",
        "# Function that tokenizes batch of raw text\n",
        "def tokenize_pairs(pt, en):\n",
        "    pt = tokenizers.pt.tokenize(pt)\n",
        "    # Convert from ragged to dense, padding with zeros.\n",
        "    pt = pt.to_tensor()\n",
        "    en = tokenizers.en.tokenize(en)\n",
        "    # Convert from ragged to dense, padding with zeros.\n",
        "    en = en.to_tensor()\n",
        "    return pt, en"
      ],
      "metadata": {
        "id": "ypl0jM3n7nV7"
      },
      "execution_count": null,
      "outputs": []
    },
    {
      "cell_type": "code",
      "source": [
        "# Function to process, shuffle and batch the data\n",
        "BUFFER_SIZE = 20000\n",
        "BATCH_SIZE = 32\n",
        "def make_batches(ds):\n",
        "  return (\n",
        "      ds\n",
        "      .cache()\n",
        "      .shuffle(BUFFER_SIZE)\n",
        "      .batch(BATCH_SIZE)\n",
        "      .map(tokenize_pairs, num_parallel_calls=tf.data.AUTOTUNE)\n",
        "      .filter(filter_max_tokens)\n",
        "      .prefetch(tf.data.AUTOTUNE))\n",
        "train_batches = make_batches(train_examples)\n",
        "val_batches = make_batches(val_examples)"
      ],
      "metadata": {
        "id": "04nEmWeM8Koe"
      },
      "execution_count": null,
      "outputs": []
    },
    {
      "cell_type": "markdown",
      "source": [
        "### Positional Encoding\n",
        "\n",
        "- Calculate possible angles of sine and cosine positional encodings\n",
        "- Calculate sine and cosine positional encodings"
      ],
      "metadata": {
        "id": "K9glk-kIqTuC"
      }
    },
    {
      "cell_type": "code",
      "source": [
        "def get_angles(pos, i, d):\n",
        "    \"\"\"\n",
        "    Get the angles for the positional encoding\n",
        "    \n",
        "    Arguments:\n",
        "        pos -- Column vector containing the positions [[0], [1], ...,[N-1]]\n",
        "        i --   Row vector containing the dimension span [[0, 1, 2, ..., M-1]]\n",
        "        d(integer) -- Encoding size\n",
        "    \n",
        "    Returns:\n",
        "        angles -- (pos, d) numpy array \n",
        "    \"\"\"\n",
        "    angles = pos/ (np.power(10000, (2 * (i//2)) / np.float32(d)))\n",
        "    return angles"
      ],
      "metadata": {
        "id": "udH5Ed_bqSYK"
      },
      "execution_count": null,
      "outputs": []
    },
    {
      "cell_type": "code",
      "source": [
        "def positional_encoding(positions, d):\n",
        "    \"\"\"\n",
        "    Precomputes a matrix with all the positional encodings \n",
        "    \n",
        "    Arguments:\n",
        "        positions (int) -- Maximum number of positions to be encoded \n",
        "        d (int) -- Encoding size \n",
        "    \n",
        "    Returns:\n",
        "        pos_encoding -- (1, position, d_model) A matrix with the positional encodings\n",
        "    \"\"\"\n",
        "    # initialize a matrix angle_rads of all the angles \n",
        "    angle_rads = get_angles(np.arange(positions)[:, np.newaxis],\n",
        "                            np.arange(d)[np.newaxis,:],\n",
        "                            d)\n",
        "  \n",
        "    # -> angle_rads has dim (positions,d)\n",
        "    # apply sin to even indices in the array; 2i\n",
        "    angle_rads[:, 0::2] = np.sin(angle_rads[:, 0::2])\n",
        "  \n",
        "    # apply cos to odd indices in the array; 2i+1\n",
        "    angle_rads[:, 1::2] = np.cos(angle_rads[:, 1::2])\n",
        "    \n",
        "    pos_encoding = angle_rads[np.newaxis, ...]\n",
        "    \n",
        "    return tf.cast(pos_encoding, dtype=tf.float32)"
      ],
      "metadata": {
        "id": "8SC2Q85lrXoa"
      },
      "execution_count": null,
      "outputs": []
    },
    {
      "cell_type": "code",
      "source": [
        "# Visualization of Positional Encoding\n",
        "n, d = 2048, 512\n",
        "pos_encoding = positional_encoding(n, d)\n",
        "print(pos_encoding.shape)\n",
        "pos_encoding = pos_encoding[0]\n",
        "# Juggle the dimensions for the plot\n",
        "pos_encoding = tf.reshape(pos_encoding, (n, d//2, 2))\n",
        "pos_encoding = tf.transpose(pos_encoding, (2, 1, 0))\n",
        "pos_encoding = tf.reshape(pos_encoding, (d, n))\n",
        "plt.pcolormesh(pos_encoding, cmap='RdBu')\n",
        "plt.ylabel('Depth')\n",
        "plt.xlabel('Position')\n",
        "plt.colorbar()\n",
        "plt.show()"
      ],
      "metadata": {
        "colab": {
          "base_uri": "https://localhost:8080/",
          "height": 301
        },
        "id": "pQK8Jq9Zwjh6",
        "outputId": "c9191d8e-3a52-47fc-8e6a-8fc2861351ff"
      },
      "execution_count": null,
      "outputs": [
        {
          "output_type": "stream",
          "name": "stdout",
          "text": [
            "(1, 2048, 512)\n"
          ]
        },
        {
          "output_type": "display_data",
          "data": {
            "text/plain": [
              "<Figure size 432x288 with 2 Axes>"
            ],
            "image/png": "[encoded data removed]"
          },
          "metadata": {
            "needs_background": "light"
          }
        }
      ]
    },
    {
      "cell_type": "markdown",
      "source": [
        "### Masking"
      ],
      "metadata": {
        "id": "TfB4FBvEUaHq"
      }
    },
    {
      "cell_type": "code",
      "source": [
        "def create_padding_mask(seq):\n",
        "  seq = tf.cast(tf.math.equal(seq, 0), tf.float32)\n",
        "\n",
        "  # add extra dimensions to add the padding\n",
        "  # to the attention logits.\n",
        "  return seq[:, tf.newaxis, tf.newaxis, :]  # (batch_size, 1, 1, seq_len)"
      ],
      "metadata": {
        "id": "riaZnPGV8gsJ"
      },
      "execution_count": null,
      "outputs": []
    },
    {
      "cell_type": "code",
      "source": [
        "# Example to depict masking function\n",
        "x = tf.constant([[7, 6, 0, 0, 1], [1, 2, 3, 0, 0], [0, 0, 0, 4, 5]])\n",
        "x_mask = create_padding_mask(x)\n",
        "x_mask"
      ],
      "metadata": {
        "colab": {
          "base_uri": "https://localhost:8080/"
        },
        "id": "M0uuy9P_UhiH",
        "outputId": "e6e5e946-20a6-41bf-b5c0-c45ee11cc105"
      },
      "execution_count": null,
      "outputs": [
        {
          "output_type": "execute_result",
          "data": {
            "text/plain": [
              "<tf.Tensor: shape=(3, 1, 1, 5), dtype=float32, numpy=\n",
              "array([[[[0., 0., 1., 1., 0.]]],\n",
              "\n",
              "\n",
              "       [[[0., 0., 0., 1., 1.]]],\n",
              "\n",
              "\n",
              "       [[[1., 1., 1., 0., 0.]]]], dtype=float32)>"
            ]
          },
          "metadata": {},
          "execution_count": 19
        }
      ]
    },
    {
      "cell_type": "code",
      "source": [
        "def create_look_ahead_mask(size):\n",
        "  mask = 1 - tf.linalg.band_part(tf.ones((size, size)), -1, 0)\n",
        "  return mask  # (seq_len, seq_len)"
      ],
      "metadata": {
        "id": "0QwGPjZLUqmb"
      },
      "execution_count": null,
      "outputs": []
    },
    {
      "cell_type": "code",
      "source": [
        "# Example to depict Look Ahead Mask\n",
        "x = tf.random.uniform((1, 3))\n",
        "temp = create_look_ahead_mask(x.shape[1])\n",
        "temp"
      ],
      "metadata": {
        "colab": {
          "base_uri": "https://localhost:8080/"
        },
        "id": "a2QDR78NVtlU",
        "outputId": "96d33005-4d8a-43e0-f39e-4785939a2810"
      },
      "execution_count": null,
      "outputs": [
        {
          "output_type": "execute_result",
          "data": {
            "text/plain": [
              "<tf.Tensor: shape=(3, 3), dtype=float32, numpy=\n",
              "array([[0., 1., 1.],\n",
              "       [0., 0., 1.],\n",
              "       [0., 0., 0.]], dtype=float32)>"
            ]
          },
          "metadata": {},
          "execution_count": 21
        }
      ]
    },
    {
      "cell_type": "markdown",
      "source": [
        "### Self-Attention or Scaled-Dot Product Attention"
      ],
      "metadata": {
        "id": "yI2pma_ZWE6t"
      }
    },
    {
      "cell_type": "code",
      "source": [
        "def scaled_dot_product_attention(q, k, v, mask):\n",
        "  \"\"\"Calculate the attention weights.\n",
        "  q, k, v must have matching leading dimensions.\n",
        "  k, v must have matching penultimate dimension, i.e.: seq_len_k = seq_len_v.\n",
        "  The mask has different shapes depending on its type(padding or look ahead)\n",
        "  but it must be broadcastable for addition.\n",
        "\n",
        "  Args:\n",
        "    q: query shape == (..., seq_len_q, depth)\n",
        "    k: key shape == (..., seq_len_k, depth)\n",
        "    v: value shape == (..., seq_len_v, depth_v)\n",
        "    mask: Float tensor with shape broadcastable\n",
        "          to (..., seq_len_q, seq_len_k). Defaults to None.\n",
        "\n",
        "  Returns:\n",
        "    output, attention_weights\n",
        "  \"\"\"\n",
        "\n",
        "  matmul_qk = tf.matmul(q, k, transpose_b=True)  # (..., seq_len_q, seq_len_k)\n",
        "\n",
        "  # scale matmul_qk\n",
        "  dk = tf.cast(tf.shape(k)[-1], tf.float32)\n",
        "  scaled_attention_logits = matmul_qk / tf.math.sqrt(dk)\n",
        "\n",
        "  # add the mask to the scaled tensor.\n",
        "  if mask is not None:\n",
        "    scaled_attention_logits += (mask * -1e9)\n",
        "\n",
        "  # softmax is normalized on the last axis (seq_len_k) so that the scores\n",
        "  # add up to 1.\n",
        "  attention_weights = tf.nn.softmax(scaled_attention_logits, axis=-1)  # (..., seq_len_q, seq_len_k)\n",
        "\n",
        "  output = tf.matmul(attention_weights, v)  # (..., seq_len_q, depth_v)\n",
        "\n",
        "  return output, attention_weights"
      ],
      "metadata": {
        "id": "w6C3yT40V0xN"
      },
      "execution_count": null,
      "outputs": []
    },
    {
      "cell_type": "code",
      "source": [
        "def print_out(q, k, v):\n",
        "  temp_out, temp_attn = scaled_dot_product_attention(\n",
        "      q, k, v, None)\n",
        "  print('Attention weights are:')\n",
        "  print(temp_attn)\n",
        "  print('Output is:')\n",
        "  print(temp_out)"
      ],
      "metadata": {
        "id": "NOb_o-x6Was7"
      },
      "execution_count": null,
      "outputs": []
    },
    {
      "cell_type": "code",
      "source": [
        "np.set_printoptions(suppress=True)\n",
        "\n",
        "temp_k = tf.constant([[10, 0, 0],\n",
        "                      [0, 10, 0],\n",
        "                      [0, 0, 10],\n",
        "                      [0, 0, 10]], dtype=tf.float32)  # (4, 3)\n",
        "\n",
        "temp_v = tf.constant([[1, 0],\n",
        "                      [10, 0],\n",
        "                      [100, 5],\n",
        "                      [1000, 6]], dtype=tf.float32)  # (4, 2)\n",
        "\n",
        "# This `query` aligns with the second `key`,\n",
        "# so the second `value` is returned.\n",
        "temp_q = tf.constant([[0, 10, 0]], dtype=tf.float32)  # (1, 3)\n",
        "print_out(temp_q, temp_k, temp_v)"
      ],
      "metadata": {
        "colab": {
          "base_uri": "https://localhost:8080/"
        },
        "id": "CDHTCtymg8IB",
        "outputId": "928e41ab-9433-4445-a776-53bb465f13d2"
      },
      "execution_count": null,
      "outputs": [
        {
          "output_type": "stream",
          "name": "stdout",
          "text": [
            "Attention weights are:\n",
            "tf.Tensor([[0. 1. 0. 0.]], shape=(1, 4), dtype=float32)\n",
            "Output is:\n",
            "tf.Tensor([[10.  0.]], shape=(1, 2), dtype=float32)\n"
          ]
        }
      ]
    },
    {
      "cell_type": "code",
      "source": [
        "# This query aligns with a repeated key (third and fourth),\n",
        "# so all associated values get averaged.\n",
        "temp_q = tf.constant([[0, 0, 10]], dtype=tf.float32)  # (1, 3)\n",
        "print_out(temp_q, temp_k, temp_v)"
      ],
      "metadata": {
        "colab": {
          "base_uri": "https://localhost:8080/"
        },
        "id": "UHpfbRLSg-gT",
        "outputId": "77afbb76-485b-42c3-cfd2-4b595bd10b56"
      },
      "execution_count": null,
      "outputs": [
        {
          "output_type": "stream",
          "name": "stdout",
          "text": [
            "Attention weights are:\n",
            "tf.Tensor([[0.  0.  0.5 0.5]], shape=(1, 4), dtype=float32)\n",
            "Output is:\n",
            "tf.Tensor([[550.    5.5]], shape=(1, 2), dtype=float32)\n"
          ]
        }
      ]
    },
    {
      "cell_type": "code",
      "source": [
        "# This query aligns equally with the first and second key,\n",
        "# so their values get averaged.\n",
        "temp_q = tf.constant([[10, 10, 0]], dtype=tf.float32)  # (1, 3)\n",
        "print_out(temp_q, temp_k, temp_v)"
      ],
      "metadata": {
        "colab": {
          "base_uri": "https://localhost:8080/"
        },
        "id": "AxfzAZ_4hH6E",
        "outputId": "a8452c65-d1b3-4763-ef1c-3979ff7df14f"
      },
      "execution_count": null,
      "outputs": [
        {
          "output_type": "stream",
          "name": "stdout",
          "text": [
            "Attention weights are:\n",
            "tf.Tensor([[0.5 0.5 0.  0. ]], shape=(1, 4), dtype=float32)\n",
            "Output is:\n",
            "tf.Tensor([[5.5 0. ]], shape=(1, 2), dtype=float32)\n"
          ]
        }
      ]
    },
    {
      "cell_type": "code",
      "source": [
        "temp_q = tf.constant([[0, 0, 10],\n",
        "                      [0, 10, 0],\n",
        "                      [10, 10, 0]], dtype=tf.float32)  # (3, 3)\n",
        "print_out(temp_q, temp_k, temp_v)"
      ],
      "metadata": {
        "colab": {
          "base_uri": "https://localhost:8080/"
        },
        "id": "O9ad0uE7hK_J",
        "outputId": "4652282b-1d63-459d-dc10-9c72e1f0ccae"
      },
      "execution_count": null,
      "outputs": [
        {
          "output_type": "stream",
          "name": "stdout",
          "text": [
            "Attention weights are:\n",
            "tf.Tensor(\n",
            "[[0.  0.  0.5 0.5]\n",
            " [0.  1.  0.  0. ]\n",
            " [0.5 0.5 0.  0. ]], shape=(3, 4), dtype=float32)\n",
            "Output is:\n",
            "tf.Tensor(\n",
            "[[550.    5.5]\n",
            " [ 10.    0. ]\n",
            " [  5.5   0. ]], shape=(3, 2), dtype=float32)\n"
          ]
        }
      ]
    },
    {
      "cell_type": "markdown",
      "source": [
        "### Multi-Head Attention"
      ],
      "metadata": {
        "id": "cNpAJRomhzCT"
      }
    },
    {
      "cell_type": "code",
      "source": [
        "class MultiHeadAttention(tf.keras.layers.Layer):\n",
        "  def __init__(self,*, d_model, num_heads):\n",
        "    super(MultiHeadAttention, self).__init__()\n",
        "    self.num_heads = num_heads\n",
        "    self.d_model = d_model\n",
        "\n",
        "    assert d_model % self.num_heads == 0\n",
        "\n",
        "    self.depth = d_model // self.num_heads\n",
        "\n",
        "    self.wq = tf.keras.layers.Dense(d_model)\n",
        "    self.wk = tf.keras.layers.Dense(d_model)\n",
        "    self.wv = tf.keras.layers.Dense(d_model)\n",
        "\n",
        "    self.dense = tf.keras.layers.Dense(d_model)\n",
        "\n",
        "  def split_heads(self, x, batch_size):\n",
        "    \"\"\"Split the last dimension into (num_heads, depth).\n",
        "    Transpose the result such that the shape is (batch_size, num_heads, seq_len, depth)\n",
        "    \"\"\"\n",
        "    x = tf.reshape(x, (batch_size, -1, self.num_heads, self.depth))\n",
        "    return tf.transpose(x, perm=[0, 2, 1, 3])\n",
        "\n",
        "  def call(self, v, k, q, mask):\n",
        "    batch_size = tf.shape(q)[0]\n",
        "\n",
        "    q = self.wq(q)  # (batch_size, seq_len, d_model)\n",
        "    k = self.wk(k)  # (batch_size, seq_len, d_model)\n",
        "    v = self.wv(v)  # (batch_size, seq_len, d_model)\n",
        "\n",
        "    q = self.split_heads(q, batch_size)  # (batch_size, num_heads, seq_len_q, depth)\n",
        "    k = self.split_heads(k, batch_size)  # (batch_size, num_heads, seq_len_k, depth)\n",
        "    v = self.split_heads(v, batch_size)  # (batch_size, num_heads, seq_len_v, depth)\n",
        "\n",
        "    # scaled_attention.shape == (batch_size, num_heads, seq_len_q, depth)\n",
        "    # attention_weights.shape == (batch_size, num_heads, seq_len_q, seq_len_k)\n",
        "    scaled_attention, attention_weights = scaled_dot_product_attention(\n",
        "        q, k, v, mask)\n",
        "\n",
        "    scaled_attention = tf.transpose(scaled_attention, perm=[0, 2, 1, 3])  # (batch_size, seq_len_q, num_heads, depth)\n",
        "\n",
        "    concat_attention = tf.reshape(scaled_attention,\n",
        "                                  (batch_size, -1, self.d_model))  # (batch_size, seq_len_q, d_model)\n",
        "\n",
        "    output = self.dense(concat_attention)  # (batch_size, seq_len_q, d_model)\n",
        "\n",
        "    return output, attention_weights"
      ],
      "metadata": {
        "id": "b0kAOx01hQeF"
      },
      "execution_count": null,
      "outputs": []
    },
    {
      "cell_type": "code",
      "source": [
        "# Example to depict MHA\n",
        "temp_mha = MultiHeadAttention(d_model=512, num_heads=8)\n",
        "y = tf.random.uniform((1, 60, 512))  # (batch_size, encoder_sequence, d_model)\n",
        "out, attn = temp_mha(y, k=y, q=y, mask=None)\n",
        "out.shape, attn.shape"
      ],
      "metadata": {
        "colab": {
          "base_uri": "https://localhost:8080/"
        },
        "id": "hiB-15flh269",
        "outputId": "05304aad-c585-40ee-8e19-20c81beb67b6"
      },
      "execution_count": null,
      "outputs": [
        {
          "output_type": "execute_result",
          "data": {
            "text/plain": [
              "(TensorShape([1, 60, 512]), TensorShape([1, 8, 60, 60]))"
            ]
          },
          "metadata": {},
          "execution_count": 29
        }
      ]
    },
    {
      "cell_type": "markdown",
      "source": [
        "### Point-Wise Feedforward Network"
      ],
      "metadata": {
        "id": "etcX0a8LiBRk"
      }
    },
    {
      "cell_type": "code",
      "source": [
        "def point_wise_feed_forward_network(d_model, dff):\n",
        "  return tf.keras.Sequential([\n",
        "      tf.keras.layers.Dense(dff, activation='relu'),  # (batch_size, seq_len, dff)\n",
        "      tf.keras.layers.Dense(d_model)  # (batch_size, seq_len, d_model)\n",
        "  ])"
      ],
      "metadata": {
        "id": "ZVAhpijBh8Dj"
      },
      "execution_count": null,
      "outputs": []
    },
    {
      "cell_type": "code",
      "source": [
        "# Example to depict Point-Wise Feed Forward Network\n",
        "sample_ffn = point_wise_feed_forward_network(512, 2048)\n",
        "sample_ffn(tf.random.uniform((64, 50, 512))).shape"
      ],
      "metadata": {
        "colab": {
          "base_uri": "https://localhost:8080/"
        },
        "id": "4s4uM7NsiFA3",
        "outputId": "4d40dcd6-f6ab-4357-818b-cd4cf3b92561"
      },
      "execution_count": null,
      "outputs": [
        {
          "output_type": "execute_result",
          "data": {
            "text/plain": [
              "TensorShape([64, 50, 512])"
            ]
          },
          "metadata": {},
          "execution_count": 31
        }
      ]
    },
    {
      "cell_type": "markdown",
      "source": [
        "### Encoder Layer"
      ],
      "metadata": {
        "id": "5wUEtzY4imlX"
      }
    },
    {
      "cell_type": "code",
      "source": [
        "class EncoderLayer(tf.keras.layers.Layer):\n",
        "  def __init__(self,*, d_model, num_heads, dff, rate=0.1):\n",
        "    super(EncoderLayer, self).__init__()\n",
        "\n",
        "    self.mha = MultiHeadAttention(d_model=d_model, num_heads=num_heads)\n",
        "    self.ffn = point_wise_feed_forward_network(d_model, dff)\n",
        "\n",
        "    self.layernorm1 = tf.keras.layers.LayerNormalization(epsilon=1e-6)\n",
        "    self.layernorm2 = tf.keras.layers.LayerNormalization(epsilon=1e-6)\n",
        "\n",
        "    self.dropout1 = tf.keras.layers.Dropout(rate)\n",
        "    self.dropout2 = tf.keras.layers.Dropout(rate)\n",
        "\n",
        "  def call(self, x, training, mask):\n",
        "\n",
        "    attn_output, _ = self.mha(x, x, x, mask)  # (batch_size, input_seq_len, d_model)\n",
        "    attn_output = self.dropout1(attn_output, training=training)\n",
        "    out1 = self.layernorm1(x + attn_output)  # (batch_size, input_seq_len, d_model)\n",
        "\n",
        "    ffn_output = self.ffn(out1)  # (batch_size, input_seq_len, d_model)\n",
        "    ffn_output = self.dropout2(ffn_output, training=training)\n",
        "    out2 = self.layernorm2(out1 + ffn_output)  # (batch_size, input_seq_len, d_model)\n",
        "\n",
        "    return out2"
      ],
      "metadata": {
        "id": "zAPJ1uuvifXh"
      },
      "execution_count": null,
      "outputs": []
    },
    {
      "cell_type": "code",
      "source": [
        "# Example to depict Encoder layer\n",
        "sample_encoder_layer = EncoderLayer(d_model=512, num_heads=8, dff=2048)\n",
        "\n",
        "sample_encoder_layer_output = sample_encoder_layer(\n",
        "    tf.random.uniform((64, 43, 512)), False, None)\n",
        "\n",
        "sample_encoder_layer_output.shape  # (batch_size, input_seq_len, d_model)"
      ],
      "metadata": {
        "colab": {
          "base_uri": "https://localhost:8080/"
        },
        "id": "Rp7mDIpuioj6",
        "outputId": "b0784ecb-5453-4dce-faae-b456351ef14f"
      },
      "execution_count": null,
      "outputs": [
        {
          "output_type": "execute_result",
          "data": {
            "text/plain": [
              "TensorShape([64, 43, 512])"
            ]
          },
          "metadata": {},
          "execution_count": 33
        }
      ]
    },
    {
      "cell_type": "markdown",
      "source": [
        "### Decoder Layer"
      ],
      "metadata": {
        "id": "kJtkrEgZixAk"
      }
    },
    {
      "cell_type": "code",
      "source": [
        "class DecoderLayer(tf.keras.layers.Layer):\n",
        "  def __init__(self,*, d_model, num_heads, dff, rate=0.1):\n",
        "    super(DecoderLayer, self).__init__()\n",
        "\n",
        "    self.mha1 = MultiHeadAttention(d_model=d_model, num_heads=num_heads)\n",
        "    self.mha2 = MultiHeadAttention(d_model=d_model, num_heads=num_heads)\n",
        "\n",
        "    self.ffn = point_wise_feed_forward_network(d_model, dff)\n",
        "\n",
        "    self.layernorm1 = tf.keras.layers.LayerNormalization(epsilon=1e-6)\n",
        "    self.layernorm2 = tf.keras.layers.LayerNormalization(epsilon=1e-6)\n",
        "    self.layernorm3 = tf.keras.layers.LayerNormalization(epsilon=1e-6)\n",
        "\n",
        "    self.dropout1 = tf.keras.layers.Dropout(rate)\n",
        "    self.dropout2 = tf.keras.layers.Dropout(rate)\n",
        "    self.dropout3 = tf.keras.layers.Dropout(rate)\n",
        "\n",
        "  def call(self, x, enc_output, training,\n",
        "           look_ahead_mask, padding_mask):\n",
        "    # enc_output.shape == (batch_size, input_seq_len, d_model)\n",
        "\n",
        "    attn1, attn_weights_block1 = self.mha1(x, x, x, look_ahead_mask)  # (batch_size, target_seq_len, d_model)\n",
        "    attn1 = self.dropout1(attn1, training=training)\n",
        "    out1 = self.layernorm1(attn1 + x)\n",
        "\n",
        "    attn2, attn_weights_block2 = self.mha2(\n",
        "        enc_output, enc_output, out1, padding_mask)  # (batch_size, target_seq_len, d_model)\n",
        "    attn2 = self.dropout2(attn2, training=training)\n",
        "    out2 = self.layernorm2(attn2 + out1)  # (batch_size, target_seq_len, d_model)\n",
        "\n",
        "    ffn_output = self.ffn(out2)  # (batch_size, target_seq_len, d_model)\n",
        "    ffn_output = self.dropout3(ffn_output, training=training)\n",
        "    out3 = self.layernorm3(ffn_output + out2)  # (batch_size, target_seq_len, d_model)\n",
        "\n",
        "    return out3, attn_weights_block1, attn_weights_block2"
      ],
      "metadata": {
        "id": "fhB1z685itYt"
      },
      "execution_count": null,
      "outputs": []
    },
    {
      "cell_type": "markdown",
      "source": [
        "## Encoder Block"
      ],
      "metadata": {
        "id": "ugm9Ts2-i11M"
      }
    },
    {
      "cell_type": "code",
      "source": [
        "class Encoder(tf.keras.layers.Layer):\n",
        "  def __init__(self,*, num_layers, d_model, num_heads, dff, input_vocab_size,\n",
        "               rate=0.1):\n",
        "    super(Encoder, self).__init__()\n",
        "\n",
        "    self.d_model = d_model\n",
        "    self.num_layers = num_layers\n",
        "\n",
        "    self.embedding = tf.keras.layers.Embedding(input_vocab_size, d_model)\n",
        "    self.pos_encoding = positional_encoding(MAX_TOKENS, self.d_model)\n",
        "\n",
        "    self.enc_layers = [\n",
        "        EncoderLayer(d_model=d_model, num_heads=num_heads, dff=dff, rate=rate)\n",
        "        for _ in range(num_layers)]\n",
        "\n",
        "    self.dropout = tf.keras.layers.Dropout(rate)\n",
        "\n",
        "  def call(self, x, training, mask):\n",
        "\n",
        "    seq_len = tf.shape(x)[1]\n",
        "\n",
        "    # adding embedding and position encoding.\n",
        "    x = self.embedding(x)  # (batch_size, input_seq_len, d_model)\n",
        "    x *= tf.math.sqrt(tf.cast(self.d_model, tf.float32))\n",
        "    x += self.pos_encoding[:, :seq_len, :]\n",
        "\n",
        "    x = self.dropout(x, training=training)\n",
        "\n",
        "    for i in range(self.num_layers):\n",
        "      x = self.enc_layers[i](x, training, mask)\n",
        "\n",
        "    return x  # (batch_size, input_seq_len, d_model)"
      ],
      "metadata": {
        "id": "mujgCGF8iymb"
      },
      "execution_count": null,
      "outputs": []
    },
    {
      "cell_type": "code",
      "source": [
        "# Example to depict\n",
        "sample_encoder = Encoder(num_layers=2, d_model=512, num_heads=8,\n",
        "                         dff=2048, input_vocab_size=8500)\n",
        "temp_input = tf.random.uniform((64, 62), dtype=tf.int64, minval=0, maxval=200)\n",
        "\n",
        "sample_encoder_output = sample_encoder(temp_input, training=False, mask=None)\n",
        "\n",
        "print(sample_encoder_output.shape)  # (batch_size, input_seq_len, d_model)"
      ],
      "metadata": {
        "colab": {
          "base_uri": "https://localhost:8080/"
        },
        "id": "JKSykmLti4c2",
        "outputId": "60ea6467-3992-4b97-f882-765c198ecccb"
      },
      "execution_count": null,
      "outputs": [
        {
          "output_type": "stream",
          "name": "stdout",
          "text": [
            "(64, 62, 512)\n"
          ]
        }
      ]
    },
    {
      "cell_type": "markdown",
      "source": [
        "### Decoder Block"
      ],
      "metadata": {
        "id": "TXNSpD8hjAIg"
      }
    },
    {
      "cell_type": "code",
      "source": [
        "class Decoder(tf.keras.layers.Layer):\n",
        "  def __init__(self,*, num_layers, d_model, num_heads, dff, target_vocab_size,\n",
        "               rate=0.1):\n",
        "    super(Decoder, self).__init__()\n",
        "\n",
        "    self.d_model = d_model\n",
        "    self.num_layers = num_layers\n",
        "\n",
        "    self.embedding = tf.keras.layers.Embedding(target_vocab_size, d_model)\n",
        "    self.pos_encoding = positional_encoding(MAX_TOKENS, d_model)\n",
        "\n",
        "    self.dec_layers = [\n",
        "        DecoderLayer(d_model=d_model, num_heads=num_heads, dff=dff, rate=rate)\n",
        "        for _ in range(num_layers)]\n",
        "    self.dropout = tf.keras.layers.Dropout(rate)\n",
        "\n",
        "  def call(self, x, enc_output, training,\n",
        "           look_ahead_mask, padding_mask):\n",
        "\n",
        "    seq_len = tf.shape(x)[1]\n",
        "    attention_weights = {}\n",
        "\n",
        "    x = self.embedding(x)  # (batch_size, target_seq_len, d_model)\n",
        "    x *= tf.math.sqrt(tf.cast(self.d_model, tf.float32))\n",
        "    x += self.pos_encoding[:, :seq_len, :]\n",
        "\n",
        "    x = self.dropout(x, training=training)\n",
        "\n",
        "    for i in range(self.num_layers):\n",
        "      x, block1, block2 = self.dec_layers[i](x, enc_output, training,\n",
        "                                             look_ahead_mask, padding_mask)\n",
        "\n",
        "      attention_weights[f'decoder_layer{i+1}_block1'] = block1\n",
        "      attention_weights[f'decoder_layer{i+1}_block2'] = block2\n",
        "\n",
        "    # x.shape == (batch_size, target_seq_len, d_model)\n",
        "    return x, attention_weights"
      ],
      "metadata": {
        "id": "w9-4AyJ6i7-c"
      },
      "execution_count": null,
      "outputs": []
    },
    {
      "cell_type": "code",
      "source": [
        "# Example to depict Decoder Block\n",
        "sample_decoder = Decoder(num_layers=2, d_model=512, num_heads=8,\n",
        "                         dff=2048, target_vocab_size=8000)\n",
        "temp_input = tf.random.uniform((64, 26), dtype=tf.int64, minval=0, maxval=200)\n",
        "\n",
        "output, attn = sample_decoder(temp_input,\n",
        "                              enc_output=sample_encoder_output,\n",
        "                              training=False,\n",
        "                              look_ahead_mask=None,\n",
        "                              padding_mask=None)\n",
        "\n",
        "output.shape, attn['decoder_layer2_block2'].shape"
      ],
      "metadata": {
        "colab": {
          "base_uri": "https://localhost:8080/"
        },
        "id": "ndy7A6sHjB2y",
        "outputId": "3c7b1f3a-cd0e-4292-a8c4-d4aa34dce70e"
      },
      "execution_count": null,
      "outputs": [
        {
          "output_type": "execute_result",
          "data": {
            "text/plain": [
              "(TensorShape([64, 26, 512]), TensorShape([64, 8, 26, 62]))"
            ]
          },
          "metadata": {},
          "execution_count": 38
        }
      ]
    },
    {
      "cell_type": "markdown",
      "source": [
        "## Transformer Block"
      ],
      "metadata": {
        "id": "b43rxVMBjMON"
      }
    },
    {
      "cell_type": "code",
      "source": [
        "class Transformer(tf.keras.Model):\n",
        "  def __init__(self,*, num_layers, d_model, num_heads, dff, input_vocab_size,\n",
        "               target_vocab_size, rate=0.1):\n",
        "    super().__init__()\n",
        "    self.encoder = Encoder(num_layers=num_layers, d_model=d_model,\n",
        "                           num_heads=num_heads, dff=dff,\n",
        "                           input_vocab_size=input_vocab_size, rate=rate)\n",
        "\n",
        "    self.decoder = Decoder(num_layers=num_layers, d_model=d_model,\n",
        "                           num_heads=num_heads, dff=dff,\n",
        "                           target_vocab_size=target_vocab_size, rate=rate)\n",
        "\n",
        "    self.final_layer = tf.keras.layers.Dense(target_vocab_size)\n",
        "\n",
        "  def call(self, inputs, training):\n",
        "    # Keras models prefer if you pass all your inputs in the first argument\n",
        "    inp, tar = inputs\n",
        "\n",
        "    padding_mask, look_ahead_mask = self.create_masks(inp, tar)\n",
        "\n",
        "    enc_output = self.encoder(inp, training, padding_mask)  # (batch_size, inp_seq_len, d_model)\n",
        "\n",
        "    # dec_output.shape == (batch_size, tar_seq_len, d_model)\n",
        "    dec_output, attention_weights = self.decoder(\n",
        "        tar, enc_output, training, look_ahead_mask, padding_mask)\n",
        "\n",
        "    final_output = self.final_layer(dec_output)  # (batch_size, tar_seq_len, target_vocab_size)\n",
        "\n",
        "    return final_output, attention_weights\n",
        "\n",
        "  def create_masks(self, inp, tar):\n",
        "    # Encoder padding mask (Used in the 2nd attention block in the decoder too.)\n",
        "    padding_mask = create_padding_mask(inp)\n",
        "\n",
        "    # Used in the 1st attention block in the decoder.\n",
        "    # It is used to pad and mask future tokens in the input received by\n",
        "    # the decoder.\n",
        "    look_ahead_mask = create_look_ahead_mask(tf.shape(tar)[1])\n",
        "    dec_target_padding_mask = create_padding_mask(tar)\n",
        "    look_ahead_mask = tf.maximum(dec_target_padding_mask, look_ahead_mask)\n",
        "\n",
        "    return padding_mask, look_ahead_mask"
      ],
      "metadata": {
        "id": "1wr5oylrjHW-"
      },
      "execution_count": null,
      "outputs": []
    },
    {
      "cell_type": "markdown",
      "source": [
        "## Training"
      ],
      "metadata": {
        "id": "xT24-5bvjTdo"
      }
    },
    {
      "cell_type": "code",
      "source": [
        "# Hyperparameters\n",
        "num_layers = 4\n",
        "d_model = 128\n",
        "dff = 512\n",
        "num_heads = 8\n",
        "dropout_rate = 0.1"
      ],
      "metadata": {
        "id": "w3eacbDyjOp3"
      },
      "execution_count": null,
      "outputs": []
    },
    {
      "cell_type": "code",
      "source": [
        "# Optimizer\n",
        "class CustomSchedule(tf.keras.optimizers.schedules.LearningRateSchedule):\n",
        "  def __init__(self, d_model, warmup_steps=4000):\n",
        "    super(CustomSchedule, self).__init__()\n",
        "\n",
        "    self.d_model = d_model\n",
        "    self.d_model = tf.cast(self.d_model, tf.float32)\n",
        "\n",
        "    self.warmup_steps = warmup_steps\n",
        "\n",
        "  def __call__(self, step):\n",
        "    arg1 = tf.math.rsqrt(step)\n",
        "    arg2 = step * (self.warmup_steps ** -1.5)\n",
        "\n",
        "    return tf.math.rsqrt(self.d_model) * tf.math.minimum(arg1, arg2)"
      ],
      "metadata": {
        "id": "z6Of6j7FjXsD"
      },
      "execution_count": null,
      "outputs": []
    },
    {
      "cell_type": "code",
      "source": [
        "# Instantiate\n",
        "learning_rate = CustomSchedule(d_model)\n",
        "\n",
        "optimizer = tf.keras.optimizers.Adam(learning_rate, beta_1=0.9, beta_2=0.98,\n",
        "                                     epsilon=1e-9)"
      ],
      "metadata": {
        "id": "kpYwhzyrjcUm"
      },
      "execution_count": null,
      "outputs": []
    },
    {
      "cell_type": "code",
      "source": [
        "# Depiction\n",
        "temp_learning_rate_schedule = CustomSchedule(d_model)\n",
        "\n",
        "plt.plot(temp_learning_rate_schedule(tf.range(40000, dtype=tf.float32)))\n",
        "plt.ylabel('Learning Rate')\n",
        "plt.xlabel('Train Step')"
      ],
      "metadata": {
        "colab": {
          "base_uri": "https://localhost:8080/",
          "height": 297
        },
        "id": "kJHQAO8gjnK_",
        "outputId": "c30ee845-e394-461a-a77a-226b3d02401b"
      },
      "execution_count": null,
      "outputs": [
        {
          "output_type": "execute_result",
          "data": {
            "text/plain": [
              "Text(0.5, 0, 'Train Step')"
            ]
          },
          "metadata": {},
          "execution_count": 43
        },
        {
          "output_type": "display_data",
          "data": {
            "text/plain": [
              "<Figure size 432x288 with 1 Axes>"
            ],
            "image/png": "[encoded data removed]"
          },
          "metadata": {
            "needs_background": "light"
          }
        }
      ]
    },
    {
      "cell_type": "code",
      "source": [
        "# Loss and Metrics\n",
        "loss_object = tf.keras.losses.SparseCategoricalCrossentropy(\n",
        "    from_logits=True, reduction='none')"
      ],
      "metadata": {
        "id": "q4OWzQzMjqm8"
      },
      "execution_count": null,
      "outputs": []
    },
    {
      "cell_type": "code",
      "source": [
        "def loss_function(real, pred):\n",
        "  mask = tf.math.logical_not(tf.math.equal(real, 0))\n",
        "  loss_ = loss_object(real, pred)\n",
        "\n",
        "  mask = tf.cast(mask, dtype=loss_.dtype)\n",
        "  loss_ *= mask\n",
        "\n",
        "  return tf.reduce_sum(loss_)/tf.reduce_sum(mask)\n",
        "\n",
        "\n",
        "def accuracy_function(real, pred):\n",
        "  accuracies = tf.equal(real, tf.argmax(pred, axis=2))\n",
        "\n",
        "  mask = tf.math.logical_not(tf.math.equal(real, 0))\n",
        "  accuracies = tf.math.logical_and(mask, accuracies)\n",
        "\n",
        "  accuracies = tf.cast(accuracies, dtype=tf.float32)\n",
        "  mask = tf.cast(mask, dtype=tf.float32)\n",
        "  return tf.reduce_sum(accuracies)/tf.reduce_sum(mask)"
      ],
      "metadata": {
        "id": "UoQZcuM2jy4B"
      },
      "execution_count": null,
      "outputs": []
    },
    {
      "cell_type": "code",
      "source": [
        "train_loss = tf.keras.metrics.Mean(name='train_loss')\n",
        "train_accuracy = tf.keras.metrics.Mean(name='train_accuracy')"
      ],
      "metadata": {
        "id": "VFzZycgij1ln"
      },
      "execution_count": null,
      "outputs": []
    },
    {
      "cell_type": "code",
      "source": [
        "# Instantiate Transformer object\n",
        "transformer = Transformer(\n",
        "    num_layers=num_layers,\n",
        "    d_model=d_model,\n",
        "    num_heads=num_heads,\n",
        "    dff=dff,\n",
        "    input_vocab_size=tokenizers.pt.get_vocab_size().numpy(),\n",
        "    target_vocab_size=tokenizers.en.get_vocab_size().numpy(),\n",
        "    rate=dropout_rate)"
      ],
      "metadata": {
        "id": "qByXo5ykj4PT"
      },
      "execution_count": null,
      "outputs": []
    },
    {
      "cell_type": "code",
      "source": [
        "# Create Checkpoint path\n",
        "checkpoint_path = './checkpoints/train'\n",
        "\n",
        "ckpt = tf.train.Checkpoint(transformer=transformer,\n",
        "                           optimizer=optimizer)\n",
        "\n",
        "ckpt_manager = tf.train.CheckpointManager(ckpt, checkpoint_path, max_to_keep=5)\n",
        "\n",
        "# if a checkpoint exists, restore the latest checkpoint.\n",
        "if ckpt_manager.latest_checkpoint:\n",
        "  ckpt.restore(ckpt_manager.latest_checkpoint)\n",
        "  print('Latest checkpoint restored!!')"
      ],
      "metadata": {
        "id": "B3Y6tpgUj-9G"
      },
      "execution_count": null,
      "outputs": []
    },
    {
      "cell_type": "code",
      "source": [
        "# The @tf.function trace-compiles train_step into a TF graph for faster\n",
        "# execution. The function specializes to the precise shape of the argument\n",
        "# tensors. To avoid re-tracing due to the variable sequence lengths or variable\n",
        "# batch sizes (the last batch is smaller), use input_signature to specify\n",
        "# more generic shapes.\n",
        "\n",
        "train_step_signature = [\n",
        "    tf.TensorSpec(shape=(None, None), dtype=tf.int64),\n",
        "    tf.TensorSpec(shape=(None, None), dtype=tf.int64),\n",
        "]\n",
        "\n",
        "\n",
        "@tf.function(input_signature=train_step_signature)\n",
        "def train_step(inp, tar):\n",
        "  tar_inp = tar[:, :-1]\n",
        "  tar_real = tar[:, 1:]\n",
        "\n",
        "  with tf.GradientTape() as tape:\n",
        "    predictions, _ = transformer([inp, tar_inp],\n",
        "                                 training = True)\n",
        "    loss = loss_function(tar_real, predictions)\n",
        "\n",
        "  gradients = tape.gradient(loss, transformer.trainable_variables)\n",
        "  optimizer.apply_gradients(zip(gradients, transformer.trainable_variables))\n",
        "\n",
        "  train_loss(loss)\n",
        "  train_accuracy(accuracy_function(tar_real, predictions))"
      ],
      "metadata": {
        "id": "m9JvJ-nukGkK"
      },
      "execution_count": null,
      "outputs": []
    },
    {
      "cell_type": "code",
      "source": [
        "EPOCHS = 20\n",
        "for epoch in range(EPOCHS):\n",
        "  start = time.time()\n",
        "\n",
        "  train_loss.reset_states()\n",
        "  train_accuracy.reset_states()\n",
        "\n",
        "  # inp -> portuguese, tar -> english\n",
        "  for (batch, (inp, tar)) in enumerate(train_batches):\n",
        "    train_step(inp, tar)\n",
        "\n",
        "    if batch % 50 == 0:\n",
        "      print(f'Epoch {epoch + 1} Batch {batch} Loss {train_loss.result():.4f} Accuracy {train_accuracy.result():.4f}')\n",
        "\n",
        "  if (epoch + 1) % 5 == 0:\n",
        "    ckpt_save_path = ckpt_manager.save()\n",
        "    print(f'Saving checkpoint for epoch {epoch+1} at {ckpt_save_path}')\n",
        "\n",
        "  print(f'Epoch {epoch + 1} Loss {train_loss.result():.4f} Accuracy {train_accuracy.result():.4f}')\n",
        "\n",
        "  print(f'Time taken for 1 epoch: {time.time() - start:.2f} secs\\n')"
      ],
      "metadata": {
        "colab": {
          "base_uri": "https://localhost:8080/"
        },
        "id": "4OXkV8f7kPda",
        "outputId": "312b8d43-a48e-40d6-8b01-6ac1a5766d59"
      },
      "execution_count": null,
      "outputs": [
        {
          "output_type": "stream",
          "name": "stdout",
          "text": [
            "Epoch 1 Batch 0 Loss 8.8777 Accuracy 0.0000\n",
            "Epoch 1 Batch 50 Loss 8.8166 Accuracy 0.0058\n",
            "Epoch 1 Batch 100 Loss 8.7186 Accuracy 0.0235\n",
            "Epoch 1 Batch 150 Loss 8.6066 Accuracy 0.0338\n",
            "Epoch 1 Batch 200 Loss 8.4712 Accuracy 0.0393\n",
            "Epoch 1 Batch 250 Loss 8.3101 Accuracy 0.0425\n",
            "Epoch 1 Batch 300 Loss 8.1282 Accuracy 0.0450\n",
            "Epoch 1 Batch 350 Loss 7.9379 Accuracy 0.0512\n",
            "Epoch 1 Batch 400 Loss 7.7494 Accuracy 0.0574\n",
            "Epoch 1 Batch 450 Loss 7.5807 Accuracy 0.0643\n",
            "Epoch 1 Batch 500 Loss 7.4335 Accuracy 0.0710\n",
            "Epoch 1 Batch 550 Loss 7.3023 Accuracy 0.0775\n",
            "Epoch 1 Batch 600 Loss 7.1825 Accuracy 0.0840\n",
            "Epoch 1 Batch 650 Loss 7.0726 Accuracy 0.0906\n",
            "Epoch 1 Batch 700 Loss 6.9715 Accuracy 0.0971\n",
            "Epoch 1 Batch 750 Loss 6.8763 Accuracy 0.1035\n",
            "Epoch 1 Batch 800 Loss 6.7864 Accuracy 0.1091\n",
            "Epoch 1 Batch 850 Loss 6.7060 Accuracy 0.1141\n",
            "Epoch 1 Batch 900 Loss 6.6302 Accuracy 0.1189\n",
            "Epoch 1 Batch 950 Loss 6.5589 Accuracy 0.1235\n",
            "Epoch 1 Batch 1000 Loss 6.4925 Accuracy 0.1281\n",
            "Epoch 1 Batch 1050 Loss 6.4305 Accuracy 0.1323\n",
            "Epoch 1 Batch 1100 Loss 6.3712 Accuracy 0.1365\n",
            "Epoch 1 Batch 1150 Loss 6.3150 Accuracy 0.1403\n",
            "Epoch 1 Batch 1200 Loss 6.2619 Accuracy 0.1442\n",
            "Epoch 1 Batch 1250 Loss 6.2131 Accuracy 0.1477\n",
            "Epoch 1 Batch 1300 Loss 6.1666 Accuracy 0.1512\n",
            "Epoch 1 Batch 1350 Loss 6.1223 Accuracy 0.1545\n",
            "Epoch 1 Batch 1400 Loss 6.0808 Accuracy 0.1576\n",
            "Epoch 1 Batch 1450 Loss 6.0406 Accuracy 0.1606\n",
            "Epoch 1 Batch 1500 Loss 6.0031 Accuracy 0.1634\n",
            "Epoch 1 Loss 5.9977 Accuracy 0.1638\n",
            "Time taken for 1 epoch: 103.36 secs\n",
            "\n",
            "Epoch 2 Batch 0 Loss 5.0361 Accuracy 0.2377\n",
            "Epoch 2 Batch 50 Loss 4.8752 Accuracy 0.2474\n",
            "Epoch 2 Batch 100 Loss 4.8429 Accuracy 0.2503\n",
            "Epoch 2 Batch 150 Loss 4.8193 Accuracy 0.2517\n",
            "Epoch 2 Batch 200 Loss 4.8084 Accuracy 0.2535\n",
            "Epoch 2 Batch 250 Loss 4.8070 Accuracy 0.2527\n",
            "Epoch 2 Batch 300 Loss 4.7957 Accuracy 0.2537\n",
            "Epoch 2 Batch 350 Loss 4.7857 Accuracy 0.2541\n",
            "Epoch 2 Batch 400 Loss 4.7815 Accuracy 0.2547\n",
            "Epoch 2 Batch 450 Loss 4.7703 Accuracy 0.2557\n",
            "Epoch 2 Batch 500 Loss 4.7656 Accuracy 0.2558\n",
            "Epoch 2 Batch 550 Loss 4.7570 Accuracy 0.2567\n",
            "Epoch 2 Batch 600 Loss 4.7483 Accuracy 0.2573\n",
            "Epoch 2 Batch 650 Loss 4.7448 Accuracy 0.2576\n",
            "Epoch 2 Batch 700 Loss 4.7363 Accuracy 0.2582\n",
            "Epoch 2 Batch 750 Loss 4.7259 Accuracy 0.2592\n",
            "Epoch 2 Batch 800 Loss 4.7189 Accuracy 0.2601\n",
            "Epoch 2 Batch 850 Loss 4.7116 Accuracy 0.2609\n",
            "Epoch 2 Batch 900 Loss 4.7056 Accuracy 0.2613\n",
            "Epoch 2 Batch 950 Loss 4.7007 Accuracy 0.2617\n",
            "Epoch 2 Batch 1000 Loss 4.6923 Accuracy 0.2625\n",
            "Epoch 2 Batch 1050 Loss 4.6836 Accuracy 0.2632\n",
            "Epoch 2 Batch 1100 Loss 4.6769 Accuracy 0.2636\n",
            "Epoch 2 Batch 1150 Loss 4.6702 Accuracy 0.2642\n",
            "Epoch 2 Batch 1200 Loss 4.6629 Accuracy 0.2648\n",
            "Epoch 2 Batch 1250 Loss 4.6565 Accuracy 0.2654\n",
            "Epoch 2 Batch 1300 Loss 4.6503 Accuracy 0.2658\n",
            "Epoch 2 Batch 1350 Loss 4.6441 Accuracy 0.2664\n",
            "Epoch 2 Batch 1400 Loss 4.6375 Accuracy 0.2669\n",
            "Epoch 2 Batch 1450 Loss 4.6314 Accuracy 0.2674\n",
            "Epoch 2 Batch 1500 Loss 4.6252 Accuracy 0.2680\n",
            "Epoch 2 Loss 4.6250 Accuracy 0.2680\n",
            "Time taken for 1 epoch: 89.01 secs\n",
            "\n",
            "Epoch 3 Batch 0 Loss 4.4541 Accuracy 0.2522\n",
            "Epoch 3 Batch 50 Loss 4.3759 Accuracy 0.2875\n",
            "Epoch 3 Batch 100 Loss 4.3769 Accuracy 0.2876\n",
            "Epoch 3 Batch 150 Loss 4.3604 Accuracy 0.2897\n",
            "Epoch 3 Batch 200 Loss 4.3555 Accuracy 0.2901\n",
            "Epoch 3 Batch 250 Loss 4.3491 Accuracy 0.2918\n",
            "Epoch 3 Batch 300 Loss 4.3406 Accuracy 0.2932\n",
            "Epoch 3 Batch 350 Loss 4.3355 Accuracy 0.2939\n",
            "Epoch 3 Batch 400 Loss 4.3284 Accuracy 0.2951\n",
            "Epoch 3 Batch 450 Loss 4.3176 Accuracy 0.2968\n",
            "Epoch 3 Batch 500 Loss 4.3092 Accuracy 0.2983\n",
            "Epoch 3 Batch 550 Loss 4.3021 Accuracy 0.2992\n",
            "Epoch 3 Batch 600 Loss 4.2951 Accuracy 0.3003\n",
            "Epoch 3 Batch 650 Loss 4.2865 Accuracy 0.3014\n",
            "Epoch 3 Batch 700 Loss 4.2784 Accuracy 0.3022\n",
            "Epoch 3 Batch 750 Loss 4.2719 Accuracy 0.3032\n",
            "Epoch 3 Batch 800 Loss 4.2646 Accuracy 0.3042\n",
            "Epoch 3 Batch 850 Loss 4.2548 Accuracy 0.3054\n",
            "Epoch 3 Batch 900 Loss 4.2517 Accuracy 0.3059\n",
            "Epoch 3 Batch 950 Loss 4.2459 Accuracy 0.3067\n",
            "Epoch 3 Batch 1000 Loss 4.2395 Accuracy 0.3074\n",
            "Epoch 3 Batch 1050 Loss 4.2314 Accuracy 0.3083\n",
            "Epoch 3 Batch 1100 Loss 4.2226 Accuracy 0.3096\n",
            "Epoch 3 Batch 1150 Loss 4.2149 Accuracy 0.3107\n",
            "Epoch 3 Batch 1200 Loss 4.2062 Accuracy 0.3119\n",
            "Epoch 3 Batch 1250 Loss 4.1968 Accuracy 0.3132\n",
            "Epoch 3 Batch 1300 Loss 4.1880 Accuracy 0.3144\n",
            "Epoch 3 Batch 1350 Loss 4.1806 Accuracy 0.3154\n",
            "Epoch 3 Batch 1400 Loss 4.1729 Accuracy 0.3164\n",
            "Epoch 3 Batch 1450 Loss 4.1661 Accuracy 0.3174\n",
            "Epoch 3 Batch 1500 Loss 4.1582 Accuracy 0.3185\n",
            "Epoch 3 Loss 4.1575 Accuracy 0.3186\n",
            "Time taken for 1 epoch: 89.84 secs\n",
            "\n",
            "Epoch 4 Batch 0 Loss 3.8225 Accuracy 0.3382\n",
            "Epoch 4 Batch 50 Loss 3.7501 Accuracy 0.3672\n",
            "Epoch 4 Batch 100 Loss 3.7663 Accuracy 0.3656\n",
            "Epoch 4 Batch 150 Loss 3.7784 Accuracy 0.3645\n",
            "Epoch 4 Batch 200 Loss 3.7852 Accuracy 0.3643\n",
            "Epoch 4 Batch 250 Loss 3.7751 Accuracy 0.3656\n",
            "Epoch 4 Batch 300 Loss 3.7667 Accuracy 0.3673\n",
            "Epoch 4 Batch 350 Loss 3.7579 Accuracy 0.3687\n",
            "Epoch 4 Batch 400 Loss 3.7551 Accuracy 0.3689\n",
            "Epoch 4 Batch 450 Loss 3.7526 Accuracy 0.3694\n",
            "Epoch 4 Batch 500 Loss 3.7468 Accuracy 0.3703\n",
            "Epoch 4 Batch 550 Loss 3.7384 Accuracy 0.3718\n",
            "Epoch 4 Batch 600 Loss 3.7366 Accuracy 0.3725\n",
            "Epoch 4 Batch 650 Loss 3.7287 Accuracy 0.3737\n",
            "Epoch 4 Batch 700 Loss 3.7224 Accuracy 0.3747\n",
            "Epoch 4 Batch 750 Loss 3.7158 Accuracy 0.3757\n",
            "Epoch 4 Batch 800 Loss 3.7094 Accuracy 0.3768\n",
            "Epoch 4 Batch 850 Loss 3.7024 Accuracy 0.3778\n",
            "Epoch 4 Batch 900 Loss 3.6960 Accuracy 0.3788\n",
            "Epoch 4 Batch 950 Loss 3.6902 Accuracy 0.3796\n",
            "Epoch 4 Batch 1000 Loss 3.6864 Accuracy 0.3804\n",
            "Epoch 4 Batch 1050 Loss 3.6797 Accuracy 0.3815\n",
            "Epoch 4 Batch 1100 Loss 3.6731 Accuracy 0.3825\n",
            "Epoch 4 Batch 1150 Loss 3.6659 Accuracy 0.3834\n",
            "Epoch 4 Batch 1200 Loss 3.6593 Accuracy 0.3845\n",
            "Epoch 4 Batch 1250 Loss 3.6552 Accuracy 0.3851\n",
            "Epoch 4 Batch 1300 Loss 3.6483 Accuracy 0.3860\n",
            "Epoch 4 Batch 1350 Loss 3.6428 Accuracy 0.3869\n",
            "Epoch 4 Batch 1400 Loss 3.6362 Accuracy 0.3878\n",
            "Epoch 4 Batch 1450 Loss 3.6299 Accuracy 0.3888\n",
            "Epoch 4 Batch 1500 Loss 3.6245 Accuracy 0.3897\n",
            "Epoch 4 Loss 3.6246 Accuracy 0.3897\n",
            "Time taken for 1 epoch: 89.10 secs\n",
            "\n",
            "Epoch 5 Batch 0 Loss 3.2456 Accuracy 0.4679\n",
            "Epoch 5 Batch 50 Loss 3.3458 Accuracy 0.4221\n",
            "Epoch 5 Batch 100 Loss 3.3283 Accuracy 0.4246\n",
            "Epoch 5 Batch 150 Loss 3.3209 Accuracy 0.4255\n",
            "Epoch 5 Batch 200 Loss 3.3180 Accuracy 0.4267\n",
            "Epoch 5 Batch 250 Loss 3.3156 Accuracy 0.4272\n",
            "Epoch 5 Batch 300 Loss 3.3044 Accuracy 0.4293\n",
            "Epoch 5 Batch 350 Loss 3.3008 Accuracy 0.4299\n",
            "Epoch 5 Batch 400 Loss 3.2979 Accuracy 0.4299\n",
            "Epoch 5 Batch 450 Loss 3.2915 Accuracy 0.4307\n",
            "Epoch 5 Batch 500 Loss 3.2891 Accuracy 0.4313\n",
            "Epoch 5 Batch 550 Loss 3.2839 Accuracy 0.4319\n",
            "Epoch 5 Batch 600 Loss 3.2793 Accuracy 0.4328\n",
            "Epoch 5 Batch 650 Loss 3.2767 Accuracy 0.4333\n",
            "Epoch 5 Batch 700 Loss 3.2723 Accuracy 0.4341\n",
            "Epoch 5 Batch 750 Loss 3.2720 Accuracy 0.4341\n",
            "Epoch 5 Batch 800 Loss 3.2658 Accuracy 0.4351\n",
            "Epoch 5 Batch 850 Loss 3.2606 Accuracy 0.4359\n",
            "Epoch 5 Batch 900 Loss 3.2558 Accuracy 0.4369\n",
            "Epoch 5 Batch 950 Loss 3.2518 Accuracy 0.4376\n",
            "Epoch 5 Batch 1000 Loss 3.2485 Accuracy 0.4380\n",
            "Epoch 5 Batch 1050 Loss 3.2439 Accuracy 0.4387\n",
            "Epoch 5 Batch 1100 Loss 3.2379 Accuracy 0.4397\n",
            "Epoch 5 Batch 1150 Loss 3.2339 Accuracy 0.4403\n",
            "Epoch 5 Batch 1200 Loss 3.2311 Accuracy 0.4408\n",
            "Epoch 5 Batch 1250 Loss 3.2276 Accuracy 0.4413\n",
            "Epoch 5 Batch 1300 Loss 3.2241 Accuracy 0.4418\n",
            "Epoch 5 Batch 1350 Loss 3.2221 Accuracy 0.4422\n",
            "Epoch 5 Batch 1400 Loss 3.2175 Accuracy 0.4429\n",
            "Epoch 5 Batch 1450 Loss 3.2136 Accuracy 0.4436\n",
            "Epoch 5 Batch 1500 Loss 3.2111 Accuracy 0.4439\n",
            "Saving checkpoint for epoch 5 at ./checkpoints/train/ckpt-1\n",
            "Epoch 5 Loss 3.2100 Accuracy 0.4441\n",
            "Time taken for 1 epoch: 89.89 secs\n",
            "\n",
            "Epoch 6 Batch 0 Loss 2.8523 Accuracy 0.4883\n",
            "Epoch 6 Batch 50 Loss 2.9442 Accuracy 0.4771\n",
            "Epoch 6 Batch 100 Loss 2.9292 Accuracy 0.4790\n",
            "Epoch 6 Batch 150 Loss 2.9404 Accuracy 0.4778\n",
            "Epoch 6 Batch 200 Loss 2.9510 Accuracy 0.4767\n",
            "Epoch 6 Batch 250 Loss 2.9470 Accuracy 0.4773\n",
            "Epoch 6 Batch 300 Loss 2.9519 Accuracy 0.4772\n",
            "Epoch 6 Batch 350 Loss 2.9536 Accuracy 0.4764\n",
            "Epoch 6 Batch 400 Loss 2.9446 Accuracy 0.4779\n",
            "Epoch 6 Batch 450 Loss 2.9483 Accuracy 0.4775\n",
            "Epoch 6 Batch 500 Loss 2.9455 Accuracy 0.4781\n",
            "Epoch 6 Batch 550 Loss 2.9439 Accuracy 0.4782\n",
            "Epoch 6 Batch 600 Loss 2.9394 Accuracy 0.4788\n",
            "Epoch 6 Batch 650 Loss 2.9367 Accuracy 0.4795\n",
            "Epoch 6 Batch 700 Loss 2.9320 Accuracy 0.4801\n",
            "Epoch 6 Batch 750 Loss 2.9320 Accuracy 0.4802\n",
            "Epoch 6 Batch 800 Loss 2.9270 Accuracy 0.4811\n",
            "Epoch 6 Batch 850 Loss 2.9245 Accuracy 0.4815\n",
            "Epoch 6 Batch 900 Loss 2.9209 Accuracy 0.4822\n",
            "Epoch 6 Batch 950 Loss 2.9176 Accuracy 0.4828\n",
            "Epoch 6 Batch 1000 Loss 2.9123 Accuracy 0.4836\n",
            "Epoch 6 Batch 1050 Loss 2.9115 Accuracy 0.4838\n",
            "Epoch 6 Batch 1100 Loss 2.9110 Accuracy 0.4839\n",
            "Epoch 6 Batch 1150 Loss 2.9072 Accuracy 0.4845\n",
            "Epoch 6 Batch 1200 Loss 2.9087 Accuracy 0.4842\n",
            "Epoch 6 Batch 1250 Loss 2.9062 Accuracy 0.4847\n",
            "Epoch 6 Batch 1300 Loss 2.9057 Accuracy 0.4848\n",
            "Epoch 6 Batch 1350 Loss 2.9022 Accuracy 0.4855\n",
            "Epoch 6 Batch 1400 Loss 2.9006 Accuracy 0.4858\n",
            "Epoch 6 Batch 1450 Loss 2.8979 Accuracy 0.4863\n",
            "Epoch 6 Batch 1500 Loss 2.8944 Accuracy 0.4869\n",
            "Epoch 6 Loss 2.8940 Accuracy 0.4870\n",
            "Time taken for 1 epoch: 89.78 secs\n",
            "\n",
            "Epoch 7 Batch 0 Loss 2.8721 Accuracy 0.4993\n",
            "Epoch 7 Batch 50 Loss 2.7295 Accuracy 0.5076\n",
            "Epoch 7 Batch 100 Loss 2.7339 Accuracy 0.5065\n",
            "Epoch 7 Batch 150 Loss 2.7136 Accuracy 0.5101\n",
            "Epoch 7 Batch 200 Loss 2.7070 Accuracy 0.5109\n",
            "Epoch 7 Batch 250 Loss 2.6982 Accuracy 0.5124\n",
            "Epoch 7 Batch 300 Loss 2.7043 Accuracy 0.5108\n",
            "Epoch 7 Batch 350 Loss 2.6989 Accuracy 0.5110\n",
            "Epoch 7 Batch 400 Loss 2.6978 Accuracy 0.5116\n",
            "Epoch 7 Batch 450 Loss 2.7008 Accuracy 0.5111\n",
            "Epoch 7 Batch 500 Loss 2.7017 Accuracy 0.5106\n",
            "Epoch 7 Batch 550 Loss 2.7006 Accuracy 0.5110\n",
            "Epoch 7 Batch 600 Loss 2.7017 Accuracy 0.5112\n",
            "Epoch 7 Batch 650 Loss 2.6975 Accuracy 0.5119\n",
            "Epoch 7 Batch 700 Loss 2.6964 Accuracy 0.5121\n",
            "Epoch 7 Batch 750 Loss 2.6922 Accuracy 0.5127\n",
            "Epoch 7 Batch 800 Loss 2.6899 Accuracy 0.5131\n",
            "Epoch 7 Batch 850 Loss 2.6881 Accuracy 0.5135\n",
            "Epoch 7 Batch 900 Loss 2.6849 Accuracy 0.5141\n",
            "Epoch 7 Batch 950 Loss 2.6837 Accuracy 0.5143\n",
            "Epoch 7 Batch 1000 Loss 2.6819 Accuracy 0.5147\n",
            "Epoch 7 Batch 1050 Loss 2.6816 Accuracy 0.5148\n",
            "Epoch 7 Batch 1100 Loss 2.6826 Accuracy 0.5148\n",
            "Epoch 7 Batch 1150 Loss 2.6831 Accuracy 0.5148\n",
            "Epoch 7 Batch 1200 Loss 2.6814 Accuracy 0.5150\n",
            "Epoch 7 Batch 1250 Loss 2.6785 Accuracy 0.5156\n",
            "Epoch 7 Batch 1300 Loss 2.6780 Accuracy 0.5157\n",
            "Epoch 7 Batch 1350 Loss 2.6757 Accuracy 0.5161\n",
            "Epoch 7 Batch 1400 Loss 2.6756 Accuracy 0.5162\n",
            "Epoch 7 Batch 1450 Loss 2.6728 Accuracy 0.5167\n",
            "Epoch 7 Batch 1500 Loss 2.6702 Accuracy 0.5173\n",
            "Epoch 7 Loss 2.6707 Accuracy 0.5172\n",
            "Time taken for 1 epoch: 88.85 secs\n",
            "\n",
            "Epoch 8 Batch 0 Loss 2.7230 Accuracy 0.5154\n",
            "Epoch 8 Batch 50 Loss 2.4849 Accuracy 0.5406\n",
            "Epoch 8 Batch 100 Loss 2.5028 Accuracy 0.5378\n",
            "Epoch 8 Batch 150 Loss 2.5132 Accuracy 0.5364\n",
            "Epoch 8 Batch 200 Loss 2.5015 Accuracy 0.5384\n",
            "Epoch 8 Batch 250 Loss 2.5017 Accuracy 0.5385\n",
            "Epoch 8 Batch 300 Loss 2.4962 Accuracy 0.5387\n",
            "Epoch 8 Batch 350 Loss 2.5018 Accuracy 0.5382\n",
            "Epoch 8 Batch 400 Loss 2.5034 Accuracy 0.5379\n",
            "Epoch 8 Batch 450 Loss 2.5065 Accuracy 0.5376\n",
            "Epoch 8 Batch 500 Loss 2.5081 Accuracy 0.5373\n",
            "Epoch 8 Batch 550 Loss 2.5044 Accuracy 0.5378\n",
            "Epoch 8 Batch 600 Loss 2.5013 Accuracy 0.5382\n",
            "Epoch 8 Batch 650 Loss 2.5028 Accuracy 0.5381\n",
            "Epoch 8 Batch 700 Loss 2.5026 Accuracy 0.5380\n",
            "Epoch 8 Batch 750 Loss 2.5040 Accuracy 0.5381\n",
            "Epoch 8 Batch 800 Loss 2.5024 Accuracy 0.5383\n",
            "Epoch 8 Batch 850 Loss 2.5006 Accuracy 0.5386\n",
            "Epoch 8 Batch 900 Loss 2.5010 Accuracy 0.5389\n",
            "Epoch 8 Batch 950 Loss 2.5013 Accuracy 0.5388\n",
            "Epoch 8 Batch 1000 Loss 2.4998 Accuracy 0.5391\n",
            "Epoch 8 Batch 1050 Loss 2.5006 Accuracy 0.5391\n",
            "Epoch 8 Batch 1100 Loss 2.4995 Accuracy 0.5395\n",
            "Epoch 8 Batch 1150 Loss 2.4994 Accuracy 0.5396\n",
            "Epoch 8 Batch 1200 Loss 2.4986 Accuracy 0.5399\n",
            "Epoch 8 Batch 1250 Loss 2.4966 Accuracy 0.5403\n",
            "Epoch 8 Batch 1300 Loss 2.4981 Accuracy 0.5401\n",
            "Epoch 8 Batch 1350 Loss 2.4974 Accuracy 0.5402\n",
            "Epoch 8 Batch 1400 Loss 2.4969 Accuracy 0.5404\n",
            "Epoch 8 Batch 1450 Loss 2.4970 Accuracy 0.5407\n",
            "Epoch 8 Batch 1500 Loss 2.4965 Accuracy 0.5407\n",
            "Epoch 8 Loss 2.4967 Accuracy 0.5407\n",
            "Time taken for 1 epoch: 89.39 secs\n",
            "\n",
            "Epoch 9 Batch 0 Loss 2.5047 Accuracy 0.5253\n",
            "Epoch 9 Batch 50 Loss 2.3610 Accuracy 0.5573\n",
            "Epoch 9 Batch 100 Loss 2.3766 Accuracy 0.5543\n",
            "Epoch 9 Batch 150 Loss 2.3799 Accuracy 0.5542\n",
            "Epoch 9 Batch 200 Loss 2.3741 Accuracy 0.5560\n",
            "Epoch 9 Batch 250 Loss 2.3649 Accuracy 0.5577\n",
            "Epoch 9 Batch 300 Loss 2.3650 Accuracy 0.5579\n",
            "Epoch 9 Batch 350 Loss 2.3652 Accuracy 0.5579\n",
            "Epoch 9 Batch 400 Loss 2.3635 Accuracy 0.5582\n",
            "Epoch 9 Batch 450 Loss 2.3618 Accuracy 0.5584\n",
            "Epoch 9 Batch 500 Loss 2.3581 Accuracy 0.5591\n",
            "Epoch 9 Batch 550 Loss 2.3551 Accuracy 0.5595\n",
            "Epoch 9 Batch 600 Loss 2.3567 Accuracy 0.5594\n",
            "Epoch 9 Batch 650 Loss 2.3547 Accuracy 0.5597\n",
            "Epoch 9 Batch 700 Loss 2.3543 Accuracy 0.5597\n",
            "Epoch 9 Batch 750 Loss 2.3582 Accuracy 0.5594\n",
            "Epoch 9 Batch 800 Loss 2.3594 Accuracy 0.5591\n",
            "Epoch 9 Batch 850 Loss 2.3613 Accuracy 0.5590\n",
            "Epoch 9 Batch 900 Loss 2.3588 Accuracy 0.5594\n",
            "Epoch 9 Batch 950 Loss 2.3602 Accuracy 0.5595\n",
            "Epoch 9 Batch 1000 Loss 2.3611 Accuracy 0.5597\n",
            "Epoch 9 Batch 1050 Loss 2.3630 Accuracy 0.5594\n",
            "Epoch 9 Batch 1100 Loss 2.3617 Accuracy 0.5595\n",
            "Epoch 9 Batch 1150 Loss 2.3628 Accuracy 0.5594\n",
            "Epoch 9 Batch 1200 Loss 2.3635 Accuracy 0.5595\n",
            "Epoch 9 Batch 1250 Loss 2.3646 Accuracy 0.5593\n",
            "Epoch 9 Batch 1300 Loss 2.3642 Accuracy 0.5595\n",
            "Epoch 9 Batch 1350 Loss 2.3653 Accuracy 0.5593\n",
            "Epoch 9 Batch 1400 Loss 2.3651 Accuracy 0.5594\n",
            "Epoch 9 Batch 1450 Loss 2.3662 Accuracy 0.5594\n",
            "Epoch 9 Batch 1500 Loss 2.3655 Accuracy 0.5596\n",
            "Epoch 9 Loss 2.3648 Accuracy 0.5597\n",
            "Time taken for 1 epoch: 89.59 secs\n",
            "\n",
            "Epoch 10 Batch 0 Loss 2.4689 Accuracy 0.5520\n",
            "Epoch 10 Batch 50 Loss 2.2148 Accuracy 0.5789\n",
            "Epoch 10 Batch 100 Loss 2.2388 Accuracy 0.5758\n",
            "Epoch 10 Batch 150 Loss 2.2387 Accuracy 0.5759\n",
            "Epoch 10 Batch 200 Loss 2.2384 Accuracy 0.5751\n",
            "Epoch 10 Batch 250 Loss 2.2405 Accuracy 0.5755\n",
            "Epoch 10 Batch 300 Loss 2.2406 Accuracy 0.5756\n",
            "Epoch 10 Batch 350 Loss 2.2368 Accuracy 0.5764\n",
            "Epoch 10 Batch 400 Loss 2.2413 Accuracy 0.5760\n",
            "Epoch 10 Batch 450 Loss 2.2456 Accuracy 0.5752\n",
            "Epoch 10 Batch 500 Loss 2.2470 Accuracy 0.5752\n",
            "Epoch 10 Batch 550 Loss 2.2483 Accuracy 0.5753\n",
            "Epoch 10 Batch 600 Loss 2.2477 Accuracy 0.5753\n",
            "Epoch 10 Batch 650 Loss 2.2502 Accuracy 0.5750\n",
            "Epoch 10 Batch 700 Loss 2.2514 Accuracy 0.5747\n",
            "Epoch 10 Batch 750 Loss 2.2512 Accuracy 0.5748\n",
            "Epoch 10 Batch 800 Loss 2.2501 Accuracy 0.5750\n",
            "Epoch 10 Batch 850 Loss 2.2490 Accuracy 0.5752\n",
            "Epoch 10 Batch 900 Loss 2.2494 Accuracy 0.5751\n",
            "Epoch 10 Batch 950 Loss 2.2490 Accuracy 0.5753\n",
            "Epoch 10 Batch 1000 Loss 2.2506 Accuracy 0.5750\n",
            "Epoch 10 Batch 1050 Loss 2.2513 Accuracy 0.5749\n",
            "Epoch 10 Batch 1100 Loss 2.2496 Accuracy 0.5754\n",
            "Epoch 10 Batch 1150 Loss 2.2507 Accuracy 0.5754\n",
            "Epoch 10 Batch 1200 Loss 2.2516 Accuracy 0.5753\n",
            "Epoch 10 Batch 1250 Loss 2.2534 Accuracy 0.5750\n",
            "Epoch 10 Batch 1300 Loss 2.2553 Accuracy 0.5747\n",
            "Epoch 10 Batch 1350 Loss 2.2559 Accuracy 0.5747\n",
            "Epoch 10 Batch 1400 Loss 2.2569 Accuracy 0.5745\n",
            "Epoch 10 Batch 1450 Loss 2.2562 Accuracy 0.5746\n",
            "Epoch 10 Batch 1500 Loss 2.2570 Accuracy 0.5745\n",
            "Saving checkpoint for epoch 10 at ./checkpoints/train/ckpt-2\n",
            "Epoch 10 Loss 2.2575 Accuracy 0.5744\n",
            "Time taken for 1 epoch: 89.40 secs\n",
            "\n",
            "Epoch 11 Batch 0 Loss 1.9794 Accuracy 0.6041\n",
            "Epoch 11 Batch 50 Loss 2.1969 Accuracy 0.5807\n",
            "Epoch 11 Batch 100 Loss 2.1817 Accuracy 0.5814\n",
            "Epoch 11 Batch 150 Loss 2.1608 Accuracy 0.5855\n",
            "Epoch 11 Batch 200 Loss 2.1539 Accuracy 0.5877\n",
            "Epoch 11 Batch 250 Loss 2.1522 Accuracy 0.5878\n",
            "Epoch 11 Batch 300 Loss 2.1565 Accuracy 0.5874\n",
            "Epoch 11 Batch 350 Loss 2.1482 Accuracy 0.5885\n",
            "Epoch 11 Batch 400 Loss 2.1517 Accuracy 0.5885\n",
            "Epoch 11 Batch 450 Loss 2.1546 Accuracy 0.5884\n",
            "Epoch 11 Batch 500 Loss 2.1585 Accuracy 0.5880\n",
            "Epoch 11 Batch 550 Loss 2.1582 Accuracy 0.5882\n",
            "Epoch 11 Batch 600 Loss 2.1619 Accuracy 0.5876\n",
            "Epoch 11 Batch 650 Loss 2.1630 Accuracy 0.5874\n",
            "Epoch 11 Batch 700 Loss 2.1632 Accuracy 0.5871\n",
            "Epoch 11 Batch 750 Loss 2.1642 Accuracy 0.5870\n",
            "Epoch 11 Batch 800 Loss 2.1644 Accuracy 0.5870\n",
            "Epoch 11 Batch 850 Loss 2.1647 Accuracy 0.5869\n",
            "Epoch 11 Batch 900 Loss 2.1675 Accuracy 0.5866\n",
            "Epoch 11 Batch 950 Loss 2.1663 Accuracy 0.5868\n",
            "Epoch 11 Batch 1000 Loss 2.1675 Accuracy 0.5867\n",
            "Epoch 11 Batch 1050 Loss 2.1680 Accuracy 0.5868\n",
            "Epoch 11 Batch 1100 Loss 2.1690 Accuracy 0.5867\n",
            "Epoch 11 Batch 1150 Loss 2.1678 Accuracy 0.5870\n",
            "Epoch 11 Batch 1200 Loss 2.1672 Accuracy 0.5871\n",
            "Epoch 11 Batch 1250 Loss 2.1667 Accuracy 0.5874\n",
            "Epoch 11 Batch 1300 Loss 2.1668 Accuracy 0.5875\n",
            "Epoch 11 Batch 1350 Loss 2.1668 Accuracy 0.5875\n",
            "Epoch 11 Batch 1400 Loss 2.1678 Accuracy 0.5874\n",
            "Epoch 11 Batch 1450 Loss 2.1683 Accuracy 0.5874\n",
            "Epoch 11 Batch 1500 Loss 2.1681 Accuracy 0.5876\n",
            "Epoch 11 Loss 2.1680 Accuracy 0.5876\n",
            "Time taken for 1 epoch: 89.74 secs\n",
            "\n",
            "Epoch 12 Batch 0 Loss 2.0812 Accuracy 0.5901\n",
            "Epoch 12 Batch 50 Loss 2.0723 Accuracy 0.5970\n",
            "Epoch 12 Batch 100 Loss 2.0361 Accuracy 0.6037\n",
            "Epoch 12 Batch 150 Loss 2.0402 Accuracy 0.6039\n",
            "Epoch 12 Batch 200 Loss 2.0355 Accuracy 0.6047\n",
            "Epoch 12 Batch 250 Loss 2.0414 Accuracy 0.6043\n",
            "Epoch 12 Batch 300 Loss 2.0490 Accuracy 0.6036\n",
            "Epoch 12 Batch 350 Loss 2.0532 Accuracy 0.6031\n",
            "Epoch 12 Batch 400 Loss 2.0549 Accuracy 0.6027\n",
            "Epoch 12 Batch 450 Loss 2.0564 Accuracy 0.6027\n",
            "Epoch 12 Batch 500 Loss 2.0588 Accuracy 0.6025\n",
            "Epoch 12 Batch 550 Loss 2.0626 Accuracy 0.6017\n",
            "Epoch 12 Batch 600 Loss 2.0678 Accuracy 0.6008\n",
            "Epoch 12 Batch 650 Loss 2.0689 Accuracy 0.6006\n",
            "Epoch 12 Batch 700 Loss 2.0697 Accuracy 0.6005\n",
            "Epoch 12 Batch 750 Loss 2.0721 Accuracy 0.6000\n",
            "Epoch 12 Batch 800 Loss 2.0721 Accuracy 0.5999\n",
            "Epoch 12 Batch 850 Loss 2.0738 Accuracy 0.5996\n",
            "Epoch 12 Batch 900 Loss 2.0763 Accuracy 0.5994\n",
            "Epoch 12 Batch 950 Loss 2.0788 Accuracy 0.5991\n",
            "Epoch 12 Batch 1000 Loss 2.0805 Accuracy 0.5991\n",
            "Epoch 12 Batch 1050 Loss 2.0799 Accuracy 0.5993\n",
            "Epoch 12 Batch 1100 Loss 2.0829 Accuracy 0.5990\n",
            "Epoch 12 Batch 1150 Loss 2.0834 Accuracy 0.5990\n",
            "Epoch 12 Batch 1200 Loss 2.0861 Accuracy 0.5986\n",
            "Epoch 12 Batch 1250 Loss 2.0875 Accuracy 0.5985\n",
            "Epoch 12 Batch 1300 Loss 2.0881 Accuracy 0.5986\n",
            "Epoch 12 Batch 1350 Loss 2.0882 Accuracy 0.5986\n",
            "Epoch 12 Batch 1400 Loss 2.0884 Accuracy 0.5986\n",
            "Epoch 12 Batch 1450 Loss 2.0883 Accuracy 0.5986\n",
            "Epoch 12 Batch 1500 Loss 2.0886 Accuracy 0.5986\n",
            "Epoch 12 Loss 2.0887 Accuracy 0.5986\n",
            "Time taken for 1 epoch: 88.92 secs\n",
            "\n",
            "Epoch 13 Batch 0 Loss 2.0119 Accuracy 0.5932\n",
            "Epoch 13 Batch 50 Loss 1.9481 Accuracy 0.6207\n",
            "Epoch 13 Batch 100 Loss 1.9730 Accuracy 0.6157\n",
            "Epoch 13 Batch 150 Loss 1.9828 Accuracy 0.6149\n",
            "Epoch 13 Batch 200 Loss 1.9878 Accuracy 0.6140\n",
            "Epoch 13 Batch 250 Loss 1.9959 Accuracy 0.6121\n",
            "Epoch 13 Batch 300 Loss 2.0057 Accuracy 0.6107\n",
            "Epoch 13 Batch 350 Loss 2.0057 Accuracy 0.6107\n",
            "Epoch 13 Batch 400 Loss 2.0028 Accuracy 0.6112\n",
            "Epoch 13 Batch 450 Loss 2.0044 Accuracy 0.6110\n",
            "Epoch 13 Batch 500 Loss 2.0022 Accuracy 0.6114\n",
            "Epoch 13 Batch 550 Loss 2.0013 Accuracy 0.6113\n",
            "Epoch 13 Batch 600 Loss 2.0059 Accuracy 0.6107\n",
            "Epoch 13 Batch 650 Loss 2.0073 Accuracy 0.6105\n",
            "Epoch 13 Batch 700 Loss 2.0091 Accuracy 0.6104\n",
            "Epoch 13 Batch 750 Loss 2.0091 Accuracy 0.6104\n",
            "Epoch 13 Batch 800 Loss 2.0101 Accuracy 0.6103\n",
            "Epoch 13 Batch 850 Loss 2.0091 Accuracy 0.6104\n",
            "Epoch 13 Batch 900 Loss 2.0100 Accuracy 0.6104\n",
            "Epoch 13 Batch 950 Loss 2.0113 Accuracy 0.6099\n",
            "Epoch 13 Batch 1000 Loss 2.0108 Accuracy 0.6101\n",
            "Epoch 13 Batch 1050 Loss 2.0124 Accuracy 0.6098\n",
            "Epoch 13 Batch 1100 Loss 2.0138 Accuracy 0.6098\n",
            "Epoch 13 Batch 1150 Loss 2.0158 Accuracy 0.6095\n",
            "Epoch 13 Batch 1200 Loss 2.0161 Accuracy 0.6095\n",
            "Epoch 13 Batch 1250 Loss 2.0171 Accuracy 0.6094\n",
            "Epoch 13 Batch 1300 Loss 2.0181 Accuracy 0.6092\n",
            "Epoch 13 Batch 1350 Loss 2.0188 Accuracy 0.6092\n",
            "Epoch 13 Batch 1400 Loss 2.0200 Accuracy 0.6091\n",
            "Epoch 13 Batch 1450 Loss 2.0208 Accuracy 0.6090\n",
            "Epoch 13 Batch 1500 Loss 2.0205 Accuracy 0.6091\n",
            "Epoch 13 Loss 2.0204 Accuracy 0.6091\n",
            "Time taken for 1 epoch: 88.84 secs\n",
            "\n",
            "Epoch 14 Batch 0 Loss 1.7584 Accuracy 0.6455\n",
            "Epoch 14 Batch 50 Loss 1.9186 Accuracy 0.6212\n",
            "Epoch 14 Batch 100 Loss 1.9241 Accuracy 0.6212\n",
            "Epoch 14 Batch 150 Loss 1.9303 Accuracy 0.6203\n",
            "Epoch 14 Batch 200 Loss 1.9317 Accuracy 0.6196\n",
            "Epoch 14 Batch 250 Loss 1.9349 Accuracy 0.6190\n",
            "Epoch 14 Batch 300 Loss 1.9327 Accuracy 0.6189\n",
            "Epoch 14 Batch 350 Loss 1.9388 Accuracy 0.6180\n",
            "Epoch 14 Batch 400 Loss 1.9445 Accuracy 0.6174\n",
            "Epoch 14 Batch 450 Loss 1.9440 Accuracy 0.6179\n",
            "Epoch 14 Batch 500 Loss 1.9528 Accuracy 0.6168\n",
            "Epoch 14 Batch 550 Loss 1.9540 Accuracy 0.6168\n",
            "Epoch 14 Batch 600 Loss 1.9529 Accuracy 0.6174\n",
            "Epoch 14 Batch 650 Loss 1.9527 Accuracy 0.6175\n",
            "Epoch 14 Batch 700 Loss 1.9530 Accuracy 0.6176\n",
            "Epoch 14 Batch 750 Loss 1.9511 Accuracy 0.6179\n",
            "Epoch 14 Batch 800 Loss 1.9519 Accuracy 0.6180\n",
            "Epoch 14 Batch 850 Loss 1.9501 Accuracy 0.6182\n",
            "Epoch 14 Batch 900 Loss 1.9521 Accuracy 0.6180\n",
            "Epoch 14 Batch 950 Loss 1.9518 Accuracy 0.6179\n",
            "Epoch 14 Batch 1000 Loss 1.9532 Accuracy 0.6178\n",
            "Epoch 14 Batch 1050 Loss 1.9540 Accuracy 0.6179\n",
            "Epoch 14 Batch 1100 Loss 1.9559 Accuracy 0.6178\n",
            "Epoch 14 Batch 1150 Loss 1.9580 Accuracy 0.6175\n",
            "Epoch 14 Batch 1200 Loss 1.9600 Accuracy 0.6172\n",
            "Epoch 14 Batch 1250 Loss 1.9613 Accuracy 0.6172\n",
            "Epoch 14 Batch 1300 Loss 1.9638 Accuracy 0.6169\n",
            "Epoch 14 Batch 1350 Loss 1.9660 Accuracy 0.6166\n",
            "Epoch 14 Batch 1400 Loss 1.9668 Accuracy 0.6165\n",
            "Epoch 14 Batch 1450 Loss 1.9676 Accuracy 0.6165\n",
            "Epoch 14 Batch 1500 Loss 1.9681 Accuracy 0.6164\n",
            "Epoch 14 Loss 1.9687 Accuracy 0.6163\n",
            "Time taken for 1 epoch: 88.72 secs\n",
            "\n",
            "Epoch 15 Batch 0 Loss 2.0588 Accuracy 0.5995\n",
            "Epoch 15 Batch 50 Loss 1.8652 Accuracy 0.6294\n",
            "Epoch 15 Batch 100 Loss 1.8508 Accuracy 0.6333\n",
            "Epoch 15 Batch 150 Loss 1.8543 Accuracy 0.6331\n",
            "Epoch 15 Batch 200 Loss 1.8653 Accuracy 0.6310\n",
            "Epoch 15 Batch 250 Loss 1.8742 Accuracy 0.6291\n",
            "Epoch 15 Batch 300 Loss 1.8751 Accuracy 0.6294\n",
            "Epoch 15 Batch 350 Loss 1.8748 Accuracy 0.6294\n",
            "Epoch 15 Batch 400 Loss 1.8756 Accuracy 0.6295\n",
            "Epoch 15 Batch 450 Loss 1.8745 Accuracy 0.6298\n",
            "Epoch 15 Batch 500 Loss 1.8809 Accuracy 0.6288\n",
            "Epoch 15 Batch 550 Loss 1.8837 Accuracy 0.6281\n",
            "Epoch 15 Batch 600 Loss 1.8863 Accuracy 0.6275\n",
            "Epoch 15 Batch 650 Loss 1.8898 Accuracy 0.6272\n",
            "Epoch 15 Batch 700 Loss 1.8923 Accuracy 0.6269\n",
            "Epoch 15 Batch 750 Loss 1.8936 Accuracy 0.6266\n",
            "Epoch 15 Batch 800 Loss 1.8966 Accuracy 0.6259\n",
            "Epoch 15 Batch 850 Loss 1.8975 Accuracy 0.6255\n",
            "Epoch 15 Batch 900 Loss 1.8992 Accuracy 0.6253\n",
            "Epoch 15 Batch 950 Loss 1.9008 Accuracy 0.6250\n",
            "Epoch 15 Batch 1000 Loss 1.8997 Accuracy 0.6252\n",
            "Epoch 15 Batch 1050 Loss 1.9006 Accuracy 0.6253\n",
            "Epoch 15 Batch 1100 Loss 1.9017 Accuracy 0.6254\n",
            "Epoch 15 Batch 1150 Loss 1.9036 Accuracy 0.6252\n",
            "Epoch 15 Batch 1200 Loss 1.9064 Accuracy 0.6247\n",
            "Epoch 15 Batch 1250 Loss 1.9084 Accuracy 0.6245\n",
            "Epoch 15 Batch 1300 Loss 1.9102 Accuracy 0.6243\n",
            "Epoch 15 Batch 1350 Loss 1.9108 Accuracy 0.6244\n",
            "Epoch 15 Batch 1400 Loss 1.9121 Accuracy 0.6242\n",
            "Epoch 15 Batch 1450 Loss 1.9131 Accuracy 0.6241\n",
            "Epoch 15 Batch 1500 Loss 1.9158 Accuracy 0.6237\n",
            "Saving checkpoint for epoch 15 at ./checkpoints/train/ckpt-3\n",
            "Epoch 15 Loss 1.9160 Accuracy 0.6236\n",
            "Time taken for 1 epoch: 89.38 secs\n",
            "\n",
            "Epoch 16 Batch 0 Loss 1.5981 Accuracy 0.6820\n",
            "Epoch 16 Batch 50 Loss 1.8121 Accuracy 0.6370\n",
            "Epoch 16 Batch 100 Loss 1.8125 Accuracy 0.6365\n",
            "Epoch 16 Batch 150 Loss 1.8114 Accuracy 0.6375\n",
            "Epoch 16 Batch 200 Loss 1.8178 Accuracy 0.6372\n",
            "Epoch 16 Batch 250 Loss 1.8221 Accuracy 0.6364\n",
            "Epoch 16 Batch 300 Loss 1.8255 Accuracy 0.6357\n",
            "Epoch 16 Batch 350 Loss 1.8269 Accuracy 0.6358\n",
            "Epoch 16 Batch 400 Loss 1.8286 Accuracy 0.6355\n",
            "Epoch 16 Batch 450 Loss 1.8321 Accuracy 0.6347\n",
            "Epoch 16 Batch 500 Loss 1.8326 Accuracy 0.6347\n",
            "Epoch 16 Batch 550 Loss 1.8356 Accuracy 0.6343\n",
            "Epoch 16 Batch 600 Loss 1.8410 Accuracy 0.6337\n",
            "Epoch 16 Batch 650 Loss 1.8418 Accuracy 0.6339\n",
            "Epoch 16 Batch 700 Loss 1.8445 Accuracy 0.6335\n",
            "Epoch 16 Batch 750 Loss 1.8431 Accuracy 0.6337\n",
            "Epoch 16 Batch 800 Loss 1.8459 Accuracy 0.6333\n",
            "Epoch 16 Batch 850 Loss 1.8475 Accuracy 0.6332\n",
            "Epoch 16 Batch 900 Loss 1.8475 Accuracy 0.6331\n",
            "Epoch 16 Batch 950 Loss 1.8497 Accuracy 0.6328\n",
            "Epoch 16 Batch 1000 Loss 1.8522 Accuracy 0.6324\n",
            "Epoch 16 Batch 1050 Loss 1.8560 Accuracy 0.6319\n",
            "Epoch 16 Batch 1100 Loss 1.8583 Accuracy 0.6318\n",
            "Epoch 16 Batch 1150 Loss 1.8599 Accuracy 0.6315\n",
            "Epoch 16 Batch 1200 Loss 1.8609 Accuracy 0.6314\n",
            "Epoch 16 Batch 1250 Loss 1.8632 Accuracy 0.6311\n",
            "Epoch 16 Batch 1300 Loss 1.8642 Accuracy 0.6311\n",
            "Epoch 16 Batch 1350 Loss 1.8658 Accuracy 0.6309\n",
            "Epoch 16 Batch 1400 Loss 1.8658 Accuracy 0.6309\n",
            "Epoch 16 Batch 1450 Loss 1.8665 Accuracy 0.6309\n",
            "Epoch 16 Batch 1500 Loss 1.8664 Accuracy 0.6310\n",
            "Epoch 16 Loss 1.8668 Accuracy 0.6310\n",
            "Time taken for 1 epoch: 89.27 secs\n",
            "\n",
            "Epoch 17 Batch 0 Loss 2.2885 Accuracy 0.5712\n",
            "Epoch 17 Batch 50 Loss 1.7732 Accuracy 0.6440\n",
            "Epoch 17 Batch 100 Loss 1.7904 Accuracy 0.6412\n",
            "Epoch 17 Batch 150 Loss 1.7969 Accuracy 0.6411\n",
            "Epoch 17 Batch 200 Loss 1.7981 Accuracy 0.6407\n",
            "Epoch 17 Batch 250 Loss 1.7974 Accuracy 0.6409\n",
            "Epoch 17 Batch 300 Loss 1.7918 Accuracy 0.6414\n",
            "Epoch 17 Batch 350 Loss 1.7917 Accuracy 0.6412\n",
            "Epoch 17 Batch 400 Loss 1.7945 Accuracy 0.6407\n",
            "Epoch 17 Batch 450 Loss 1.7968 Accuracy 0.6404\n",
            "Epoch 17 Batch 500 Loss 1.8021 Accuracy 0.6397\n",
            "Epoch 17 Batch 550 Loss 1.8050 Accuracy 0.6393\n",
            "Epoch 17 Batch 600 Loss 1.8062 Accuracy 0.6395\n",
            "Epoch 17 Batch 650 Loss 1.8066 Accuracy 0.6395\n",
            "Epoch 17 Batch 700 Loss 1.8065 Accuracy 0.6395\n",
            "Epoch 17 Batch 750 Loss 1.8047 Accuracy 0.6398\n",
            "Epoch 17 Batch 800 Loss 1.8056 Accuracy 0.6397\n",
            "Epoch 17 Batch 850 Loss 1.8066 Accuracy 0.6394\n",
            "Epoch 17 Batch 900 Loss 1.8108 Accuracy 0.6388\n",
            "Epoch 17 Batch 950 Loss 1.8119 Accuracy 0.6386\n",
            "Epoch 17 Batch 1000 Loss 1.8121 Accuracy 0.6385\n",
            "Epoch 17 Batch 1050 Loss 1.8150 Accuracy 0.6380\n",
            "Epoch 17 Batch 1100 Loss 1.8139 Accuracy 0.6382\n",
            "Epoch 17 Batch 1150 Loss 1.8142 Accuracy 0.6382\n",
            "Epoch 17 Batch 1200 Loss 1.8160 Accuracy 0.6380\n",
            "Epoch 17 Batch 1250 Loss 1.8177 Accuracy 0.6378\n",
            "Epoch 17 Batch 1300 Loss 1.8174 Accuracy 0.6378\n",
            "Epoch 17 Batch 1350 Loss 1.8197 Accuracy 0.6376\n",
            "Epoch 17 Batch 1400 Loss 1.8197 Accuracy 0.6377\n",
            "Epoch 17 Batch 1450 Loss 1.8230 Accuracy 0.6373\n",
            "Epoch 17 Batch 1500 Loss 1.8244 Accuracy 0.6371\n",
            "Epoch 17 Loss 1.8246 Accuracy 0.6371\n",
            "Time taken for 1 epoch: 91.59 secs\n",
            "\n",
            "Epoch 18 Batch 0 Loss 1.9832 Accuracy 0.6050\n",
            "Epoch 18 Batch 50 Loss 1.7822 Accuracy 0.6440\n",
            "Epoch 18 Batch 100 Loss 1.7590 Accuracy 0.6476\n",
            "Epoch 18 Batch 150 Loss 1.7534 Accuracy 0.6477\n",
            "Epoch 18 Batch 200 Loss 1.7646 Accuracy 0.6457\n",
            "Epoch 18 Batch 250 Loss 1.7621 Accuracy 0.6457\n",
            "Epoch 18 Batch 300 Loss 1.7643 Accuracy 0.6455\n",
            "Epoch 18 Batch 350 Loss 1.7595 Accuracy 0.6464\n",
            "Epoch 18 Batch 400 Loss 1.7588 Accuracy 0.6466\n",
            "Epoch 18 Batch 450 Loss 1.7578 Accuracy 0.6467\n",
            "Epoch 18 Batch 500 Loss 1.7615 Accuracy 0.6460\n",
            "Epoch 18 Batch 550 Loss 1.7641 Accuracy 0.6457\n",
            "Epoch 18 Batch 600 Loss 1.7686 Accuracy 0.6448\n",
            "Epoch 18 Batch 650 Loss 1.7700 Accuracy 0.6448\n",
            "Epoch 18 Batch 700 Loss 1.7678 Accuracy 0.6453\n",
            "Epoch 18 Batch 750 Loss 1.7686 Accuracy 0.6453\n",
            "Epoch 18 Batch 800 Loss 1.7724 Accuracy 0.6447\n",
            "Epoch 18 Batch 850 Loss 1.7729 Accuracy 0.6446\n",
            "Epoch 18 Batch 900 Loss 1.7741 Accuracy 0.6443\n",
            "Epoch 18 Batch 950 Loss 1.7741 Accuracy 0.6444\n",
            "Epoch 18 Batch 1000 Loss 1.7720 Accuracy 0.6448\n",
            "Epoch 18 Batch 1050 Loss 1.7743 Accuracy 0.6446\n",
            "Epoch 18 Batch 1100 Loss 1.7758 Accuracy 0.6442\n",
            "Epoch 18 Batch 1150 Loss 1.7787 Accuracy 0.6438\n",
            "Epoch 18 Batch 1200 Loss 1.7805 Accuracy 0.6435\n",
            "Epoch 18 Batch 1250 Loss 1.7816 Accuracy 0.6434\n",
            "Epoch 18 Batch 1300 Loss 1.7823 Accuracy 0.6434\n",
            "Epoch 18 Batch 1350 Loss 1.7847 Accuracy 0.6431\n",
            "Epoch 18 Batch 1400 Loss 1.7864 Accuracy 0.6428\n",
            "Epoch 18 Batch 1450 Loss 1.7859 Accuracy 0.6428\n",
            "Epoch 18 Batch 1500 Loss 1.7874 Accuracy 0.6426\n",
            "Epoch 18 Loss 1.7882 Accuracy 0.6424\n",
            "Time taken for 1 epoch: 90.52 secs\n",
            "\n",
            "Epoch 19 Batch 0 Loss 1.8046 Accuracy 0.6381\n",
            "Epoch 19 Batch 50 Loss 1.7132 Accuracy 0.6533\n",
            "Epoch 19 Batch 100 Loss 1.7108 Accuracy 0.6523\n",
            "Epoch 19 Batch 150 Loss 1.7034 Accuracy 0.6541\n",
            "Epoch 19 Batch 200 Loss 1.7104 Accuracy 0.6529\n",
            "Epoch 19 Batch 250 Loss 1.7094 Accuracy 0.6532\n",
            "Epoch 19 Batch 300 Loss 1.7087 Accuracy 0.6532\n",
            "Epoch 19 Batch 350 Loss 1.7135 Accuracy 0.6525\n",
            "Epoch 19 Batch 400 Loss 1.7158 Accuracy 0.6522\n",
            "Epoch 19 Batch 450 Loss 1.7236 Accuracy 0.6509\n",
            "Epoch 19 Batch 500 Loss 1.7267 Accuracy 0.6507\n",
            "Epoch 19 Batch 550 Loss 1.7255 Accuracy 0.6510\n",
            "Epoch 19 Batch 600 Loss 1.7281 Accuracy 0.6507\n",
            "Epoch 19 Batch 650 Loss 1.7294 Accuracy 0.6505\n",
            "Epoch 19 Batch 700 Loss 1.7311 Accuracy 0.6502\n",
            "Epoch 19 Batch 750 Loss 1.7318 Accuracy 0.6501\n",
            "Epoch 19 Batch 800 Loss 1.7346 Accuracy 0.6498\n",
            "Epoch 19 Batch 850 Loss 1.7338 Accuracy 0.6498\n",
            "Epoch 19 Batch 900 Loss 1.7373 Accuracy 0.6492\n",
            "Epoch 19 Batch 950 Loss 1.7391 Accuracy 0.6491\n",
            "Epoch 19 Batch 1000 Loss 1.7408 Accuracy 0.6489\n",
            "Epoch 19 Batch 1050 Loss 1.7416 Accuracy 0.6489\n",
            "Epoch 19 Batch 1100 Loss 1.7426 Accuracy 0.6488\n",
            "Epoch 19 Batch 1150 Loss 1.7428 Accuracy 0.6488\n",
            "Epoch 19 Batch 1200 Loss 1.7445 Accuracy 0.6486\n",
            "Epoch 19 Batch 1250 Loss 1.7449 Accuracy 0.6487\n",
            "Epoch 19 Batch 1300 Loss 1.7458 Accuracy 0.6485\n",
            "Epoch 19 Batch 1350 Loss 1.7453 Accuracy 0.6486\n",
            "Epoch 19 Batch 1400 Loss 1.7469 Accuracy 0.6484\n",
            "Epoch 19 Batch 1450 Loss 1.7493 Accuracy 0.6481\n",
            "Epoch 19 Batch 1500 Loss 1.7510 Accuracy 0.6480\n",
            "Epoch 19 Loss 1.7506 Accuracy 0.6480\n",
            "Time taken for 1 epoch: 88.85 secs\n",
            "\n",
            "Epoch 20 Batch 0 Loss 1.5444 Accuracy 0.6727\n",
            "Epoch 20 Batch 50 Loss 1.6659 Accuracy 0.6579\n",
            "Epoch 20 Batch 100 Loss 1.6741 Accuracy 0.6579\n",
            "Epoch 20 Batch 150 Loss 1.6683 Accuracy 0.6590\n",
            "Epoch 20 Batch 200 Loss 1.6694 Accuracy 0.6588\n",
            "Epoch 20 Batch 250 Loss 1.6810 Accuracy 0.6568\n",
            "Epoch 20 Batch 300 Loss 1.6815 Accuracy 0.6564\n",
            "Epoch 20 Batch 350 Loss 1.6832 Accuracy 0.6564\n",
            "Epoch 20 Batch 400 Loss 1.6865 Accuracy 0.6561\n",
            "Epoch 20 Batch 450 Loss 1.6859 Accuracy 0.6562\n",
            "Epoch 20 Batch 500 Loss 1.6821 Accuracy 0.6570\n",
            "Epoch 20 Batch 550 Loss 1.6866 Accuracy 0.6562\n",
            "Epoch 20 Batch 600 Loss 1.6926 Accuracy 0.6553\n",
            "Epoch 20 Batch 650 Loss 1.6962 Accuracy 0.6549\n",
            "Epoch 20 Batch 700 Loss 1.6980 Accuracy 0.6547\n",
            "Epoch 20 Batch 750 Loss 1.6989 Accuracy 0.6546\n",
            "Epoch 20 Batch 800 Loss 1.6987 Accuracy 0.6549\n",
            "Epoch 20 Batch 850 Loss 1.6994 Accuracy 0.6549\n",
            "Epoch 20 Batch 900 Loss 1.7021 Accuracy 0.6546\n",
            "Epoch 20 Batch 950 Loss 1.7027 Accuracy 0.6546\n",
            "Epoch 20 Batch 1000 Loss 1.7043 Accuracy 0.6543\n",
            "Epoch 20 Batch 1050 Loss 1.7065 Accuracy 0.6541\n",
            "Epoch 20 Batch 1100 Loss 1.7090 Accuracy 0.6537\n",
            "Epoch 20 Batch 1150 Loss 1.7115 Accuracy 0.6535\n",
            "Epoch 20 Batch 1200 Loss 1.7119 Accuracy 0.6534\n",
            "Epoch 20 Batch 1250 Loss 1.7128 Accuracy 0.6532\n",
            "Epoch 20 Batch 1300 Loss 1.7136 Accuracy 0.6531\n",
            "Epoch 20 Batch 1350 Loss 1.7154 Accuracy 0.6529\n",
            "Epoch 20 Batch 1400 Loss 1.7172 Accuracy 0.6525\n",
            "Epoch 20 Batch 1450 Loss 1.7187 Accuracy 0.6523\n",
            "Epoch 20 Batch 1500 Loss 1.7183 Accuracy 0.6526\n",
            "Saving checkpoint for epoch 20 at ./checkpoints/train/ckpt-4\n",
            "Epoch 20 Loss 1.7183 Accuracy 0.6526\n",
            "Time taken for 1 epoch: 89.15 secs\n",
            "\n"
          ]
        }
      ]
    },
    {
      "cell_type": "markdown",
      "source": [
        "## Inference"
      ],
      "metadata": {
        "id": "n4ApP-0vp_Jh"
      }
    },
    {
      "cell_type": "code",
      "source": [
        "class Translator(tf.Module):\n",
        "  def __init__(self, tokenizers, transformer):\n",
        "    self.tokenizers = tokenizers\n",
        "    self.transformer = transformer\n",
        "\n",
        "  def __call__(self, sentence, max_length=MAX_TOKENS):\n",
        "    # input sentence is portuguese, hence adding the start and end token\n",
        "    assert isinstance(sentence, tf.Tensor)\n",
        "    if len(sentence.shape) == 0:\n",
        "      sentence = sentence[tf.newaxis]\n",
        "\n",
        "    sentence = self.tokenizers.pt.tokenize(sentence).to_tensor()\n",
        "\n",
        "    encoder_input = sentence\n",
        "\n",
        "    # As the output language is english, initialize the output with the\n",
        "    # english start token.\n",
        "    start_end = self.tokenizers.en.tokenize([''])[0]\n",
        "    start = start_end[0][tf.newaxis]\n",
        "    end = start_end[1][tf.newaxis]\n",
        "\n",
        "    # `tf.TensorArray` is required here (instead of a python list) so that the\n",
        "    # dynamic-loop can be traced by `tf.function`.\n",
        "    output_array = tf.TensorArray(dtype=tf.int64, size=0, dynamic_size=True)\n",
        "    output_array = output_array.write(0, start)\n",
        "\n",
        "    for i in tf.range(max_length):\n",
        "      output = tf.transpose(output_array.stack())\n",
        "      predictions, _ = self.transformer([encoder_input, output], training=False)\n",
        "\n",
        "      # select the last token from the seq_len dimension\n",
        "      predictions = predictions[:, -1:, :]  # (batch_size, 1, vocab_size)\n",
        "\n",
        "      predicted_id = tf.argmax(predictions, axis=-1)\n",
        "\n",
        "      # concatentate the predicted_id to the output which is given to the decoder\n",
        "      # as its input.\n",
        "      output_array = output_array.write(i+1, predicted_id[0])\n",
        "\n",
        "      if predicted_id == end:\n",
        "        break\n",
        "\n",
        "    output = tf.transpose(output_array.stack())\n",
        "    # output.shape (1, tokens)\n",
        "    text = tokenizers.en.detokenize(output)[0]  # shape: ()\n",
        "\n",
        "    tokens = tokenizers.en.lookup(output)[0]\n",
        "\n",
        "    # `tf.function` prevents us from using the attention_weights that were\n",
        "    # calculated on the last iteration of the loop. So recalculate them outside\n",
        "    # the loop.\n",
        "    _, attention_weights = self.transformer([encoder_input, output[:,:-1]], training=False)\n",
        "\n",
        "    return text, tokens, attention_weights"
      ],
      "metadata": {
        "id": "DhmUExqTkXLV"
      },
      "execution_count": null,
      "outputs": []
    },
    {
      "cell_type": "code",
      "source": [
        "# Create an Instance\n",
        "translator = Translator(tokenizers, transformer)"
      ],
      "metadata": {
        "id": "RMwdvQqarbnR"
      },
      "execution_count": null,
      "outputs": []
    },
    {
      "cell_type": "code",
      "source": [
        "def print_translation(sentence, tokens, ground_truth):\n",
        "  print(f'{\"Input:\":15s}: {sentence}')\n",
        "  print(f'{\"Prediction\":15s}: {tokens.numpy().decode(\"utf-8\")}')\n",
        "  print(f'{\"Ground truth\":15s}: {ground_truth}')"
      ],
      "metadata": {
        "id": "894FjKn8riCd"
      },
      "execution_count": null,
      "outputs": []
    },
    {
      "cell_type": "code",
      "source": [
        "sentence = 'este é um problema que temos que resolver.'\n",
        "ground_truth = 'this is a problem we have to solve .'\n",
        "\n",
        "translated_text, translated_tokens, attention_weights = translator(\n",
        "    tf.constant(sentence))\n",
        "print_translation(sentence, translated_text, ground_truth)"
      ],
      "metadata": {
        "colab": {
          "base_uri": "https://localhost:8080/"
        },
        "id": "mm0x9ulirj0-",
        "outputId": "b4839c55-b3dd-48f2-cf41-2d6443a3f29d"
      },
      "execution_count": null,
      "outputs": [
        {
          "output_type": "stream",
          "name": "stdout",
          "text": [
            "Input:         : este é um problema que temos que resolver.\n",
            "Prediction     : this is a problem that we have to solve .\n",
            "Ground truth   : this is a problem we have to solve .\n"
          ]
        }
      ]
    },
    {
      "cell_type": "code",
      "source": [
        "sentence = 'os meus vizinhos ouviram sobre esta ideia.'\n",
        "ground_truth = 'and my neighboring homes heard about this idea .'\n",
        "\n",
        "translated_text, translated_tokens, attention_weights = translator(\n",
        "    tf.constant(sentence))\n",
        "print_translation(sentence, translated_text, ground_truth)"
      ],
      "metadata": {
        "colab": {
          "base_uri": "https://localhost:8080/"
        },
        "id": "31RXCEQgrmA9",
        "outputId": "f49b78d5-3a8a-401d-8ff5-66663fbb664a"
      },
      "execution_count": null,
      "outputs": [
        {
          "output_type": "stream",
          "name": "stdout",
          "text": [
            "Input:         : os meus vizinhos ouviram sobre esta ideia.\n",
            "Prediction     : my neighbors heard about this idea .\n",
            "Ground truth   : and my neighboring homes heard about this idea .\n"
          ]
        }
      ]
    },
    {
      "cell_type": "code",
      "source": [
        "sentence = 'vou então muito rapidamente partilhar convosco algumas histórias de algumas coisas mágicas que aconteceram.'\n",
        "ground_truth = \"so i'll just share with you some stories very quickly of some magical things that have happened.\"\n",
        "\n",
        "translated_text, translated_tokens, attention_weights = translator(\n",
        "    tf.constant(sentence))\n",
        "print_translation(sentence, translated_text, ground_truth)"
      ],
      "metadata": {
        "colab": {
          "base_uri": "https://localhost:8080/"
        },
        "id": "_0lh1p26rrAE",
        "outputId": "e3687005-b78f-4c1b-c8e2-173eedce539d"
      },
      "execution_count": null,
      "outputs": [
        {
          "output_type": "stream",
          "name": "stdout",
          "text": [
            "Input:         : vou então muito rapidamente partilhar convosco algumas histórias de algumas coisas mágicas que aconteceram.\n",
            "Prediction     : so i ' m very quickly going to share with you some stories of these magic stories that happen .\n",
            "Ground truth   : so i'll just share with you some stories very quickly of some magical things that have happened.\n"
          ]
        }
      ]
    },
    {
      "cell_type": "markdown",
      "source": [
        "## Attention Plots"
      ],
      "metadata": {
        "id": "ke8fBX3Lr3EI"
      }
    },
    {
      "cell_type": "code",
      "source": [
        "sentence = 'este é o primeiro livro que eu fiz.'\n",
        "ground_truth = \"this is the first book i've ever done.\"\n",
        "\n",
        "translated_text, translated_tokens, attention_weights = translator(\n",
        "    tf.constant(sentence))\n",
        "print_translation(sentence, translated_text, ground_truth)"
      ],
      "metadata": {
        "colab": {
          "base_uri": "https://localhost:8080/"
        },
        "id": "yRiNFa52rvwB",
        "outputId": "e14f8c4a-c82c-4e8b-f15d-5e3e44028ed9"
      },
      "execution_count": null,
      "outputs": [
        {
          "output_type": "stream",
          "name": "stdout",
          "text": [
            "Input:         : este é o primeiro livro que eu fiz.\n",
            "Prediction     : this is the first book i did .\n",
            "Ground truth   : this is the first book i've ever done.\n"
          ]
        }
      ]
    },
    {
      "cell_type": "code",
      "source": [
        "def plot_attention_head(in_tokens, translated_tokens, attention):\n",
        "  # The plot is of the attention when a token was generated.\n",
        "  # The model didn't generate `<START>` in the output. Skip it.\n",
        "  translated_tokens = translated_tokens[1:]\n",
        "\n",
        "  ax = plt.gca()\n",
        "  ax.matshow(attention)\n",
        "  ax.set_xticks(range(len(in_tokens)))\n",
        "  ax.set_yticks(range(len(translated_tokens)))\n",
        "\n",
        "  labels = [label.decode('utf-8') for label in in_tokens.numpy()]\n",
        "  ax.set_xticklabels(\n",
        "      labels, rotation=90)\n",
        "\n",
        "  labels = [label.decode('utf-8') for label in translated_tokens.numpy()]\n",
        "  ax.set_yticklabels(labels)"
      ],
      "metadata": {
        "id": "g55HIMoMr4x7"
      },
      "execution_count": null,
      "outputs": []
    },
    {
      "cell_type": "code",
      "source": [
        "head = 0\n",
        "# shape: (batch=1, num_heads, seq_len_q, seq_len_k)\n",
        "attention_heads = tf.squeeze(\n",
        "  attention_weights['decoder_layer4_block2'], 0)\n",
        "attention = attention_heads[head]\n",
        "attention.shape"
      ],
      "metadata": {
        "colab": {
          "base_uri": "https://localhost:8080/"
        },
        "id": "gVCIf5bzr9sa",
        "outputId": "f96c0bae-311d-47bf-93ee-bfbc9949d53a"
      },
      "execution_count": null,
      "outputs": [
        {
          "output_type": "execute_result",
          "data": {
            "text/plain": [
              "TensorShape([9, 11])"
            ]
          },
          "metadata": {},
          "execution_count": 60
        }
      ]
    },
    {
      "cell_type": "code",
      "source": [
        "in_tokens = tf.convert_to_tensor([sentence])\n",
        "in_tokens = tokenizers.pt.tokenize(in_tokens).to_tensor()\n",
        "in_tokens = tokenizers.pt.lookup(in_tokens)[0]\n",
        "in_tokens"
      ],
      "metadata": {
        "colab": {
          "base_uri": "https://localhost:8080/"
        },
        "id": "Pw4MtfeJsAHu",
        "outputId": "3ed1a603-974a-4ae2-917d-e73810434ac8"
      },
      "execution_count": null,
      "outputs": [
        {
          "output_type": "execute_result",
          "data": {
            "text/plain": [
              "<tf.Tensor: shape=(11,), dtype=string, numpy=\n",
              "array([b'[START]', b'este', b'e', b'o', b'primeiro', b'livro', b'que',\n",
              "       b'eu', b'fiz', b'.', b'[END]'], dtype=object)>"
            ]
          },
          "metadata": {},
          "execution_count": 61
        }
      ]
    },
    {
      "cell_type": "code",
      "source": [
        "translated_tokens"
      ],
      "metadata": {
        "colab": {
          "base_uri": "https://localhost:8080/"
        },
        "id": "1ymZZ-YcsCdR",
        "outputId": "01c8879d-c1f9-4ab6-ee8d-bf11324384fd"
      },
      "execution_count": null,
      "outputs": [
        {
          "output_type": "execute_result",
          "data": {
            "text/plain": [
              "<tf.Tensor: shape=(10,), dtype=string, numpy=\n",
              "array([b'[START]', b'this', b'is', b'the', b'first', b'book', b'i',\n",
              "       b'did', b'.', b'[END]'], dtype=object)>"
            ]
          },
          "metadata": {},
          "execution_count": 62
        }
      ]
    },
    {
      "cell_type": "code",
      "source": [
        "plot_attention_head(in_tokens, translated_tokens, attention)"
      ],
      "metadata": {
        "colab": {
          "base_uri": "https://localhost:8080/",
          "height": 301
        },
        "id": "KnOhJXhZsOeo",
        "outputId": "4f5e7e00-e2d7-4c96-d994-4d4ef8d3a2b4"
      },
      "execution_count": null,
      "outputs": [
        {
          "output_type": "display_data",
          "data": {
            "text/plain": [
              "<Figure size 432x288 with 1 Axes>"
            ],
            "image/png": "[encoded data removed]"
          },
          "metadata": {
            "needs_background": "light"
          }
        }
      ]
    },
    {
      "cell_type": "code",
      "source": [
        "def plot_attention_weights(sentence, translated_tokens, attention_heads):\n",
        "  in_tokens = tf.convert_to_tensor([sentence])\n",
        "  in_tokens = tokenizers.pt.tokenize(in_tokens).to_tensor()\n",
        "  in_tokens = tokenizers.pt.lookup(in_tokens)[0]\n",
        "  in_tokens\n",
        "\n",
        "  fig = plt.figure(figsize=(16, 8))\n",
        "\n",
        "  for h, head in enumerate(attention_heads):\n",
        "    ax = fig.add_subplot(2, 4, h+1)\n",
        "\n",
        "    plot_attention_head(in_tokens, translated_tokens, head)\n",
        "\n",
        "    ax.set_xlabel(f'Head {h+1}')\n",
        "\n",
        "  plt.tight_layout()\n",
        "  plt.show()"
      ],
      "metadata": {
        "id": "ECHhGDmzsPrk"
      },
      "execution_count": null,
      "outputs": []
    },
    {
      "cell_type": "code",
      "source": [
        "plot_attention_weights(sentence, translated_tokens,\n",
        "                       attention_weights['decoder_layer4_block2'][0])"
      ],
      "metadata": {
        "id": "OnJFl4IRsYEa",
        "outputId": "fd360045-a99b-4c7f-c2ae-11846e720498",
        "colab": {
          "base_uri": "https://localhost:8080/",
          "height": 519
        }
      },
      "execution_count": null,
      "outputs": [
        {
          "output_type": "display_data",
          "data": {
            "text/plain": [
              "<Figure size 1152x576 with 8 Axes>"
            ],
            "image/png": "[encoded data removed]"
          },
          "metadata": {
            "needs_background": "light"
          }
        }
      ]
    },
    {
      "cell_type": "code",
      "source": [],
      "metadata": {
        "id": "3ovNAl2Dsapu"
      },
      "execution_count": null,
      "outputs": []
    }
  ]
}